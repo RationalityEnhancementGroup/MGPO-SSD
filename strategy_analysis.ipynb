{
 "cells": [
  {
   "cell_type": "markdown",
   "metadata": {},
   "source": [
    "## Interpretation of the MGPO strategy\n",
    "\n",
    "This notebook contains an exemplary execution of the strategy discovered by MGPO and plots the belief state after termination. The figure final figure was created by annotating the order of actions in an image editing software."
   ]
  },
  {
   "cell_type": "code",
   "execution_count": 1,
   "metadata": {},
   "outputs": [
    {
     "ename": "ModuleNotFoundError",
     "evalue": "No module named 'gym'",
     "output_type": "error",
     "traceback": [
      "\u001b[1;31m---------------------------------------------------------------------------\u001b[0m",
      "\u001b[1;31mModuleNotFoundError\u001b[0m                       Traceback (most recent call last)",
      "Cell \u001b[1;32mIn[1], line 1\u001b[0m\n\u001b[1;32m----> 1\u001b[0m \u001b[38;5;28;01mfrom\u001b[39;00m \u001b[38;5;21;01msrc\u001b[39;00m\u001b[38;5;21;01m.\u001b[39;00m\u001b[38;5;21;01mutils\u001b[39;00m\u001b[38;5;21;01m.\u001b[39;00m\u001b[38;5;21;01mexperiment_creation\u001b[39;00m \u001b[38;5;28;01mimport\u001b[39;00m create_tree, create_init\n\u001b[0;32m      2\u001b[0m \u001b[38;5;28;01mfrom\u001b[39;00m \u001b[38;5;21;01msrc\u001b[39;00m\u001b[38;5;21;01m.\u001b[39;00m\u001b[38;5;21;01mpo_BMPS\u001b[39;00m \u001b[38;5;28;01mimport\u001b[39;00m analyse_generic\n\u001b[0;32m      3\u001b[0m \u001b[38;5;28;01mimport\u001b[39;00m \u001b[38;5;21;01mnumpy\u001b[39;00m \u001b[38;5;28;01mas\u001b[39;00m \u001b[38;5;21;01mnp\u001b[39;00m\n",
      "File \u001b[1;32mc:\\Users\\heind\\Documents\\GitHub\\MGPO-SSD\\src\\utils\\experiment_creation.py:6\u001b[0m\n\u001b[0;32m      3\u001b[0m \u001b[38;5;28;01mfrom\u001b[39;00m \u001b[38;5;21;01mtyping\u001b[39;00m \u001b[38;5;28;01mimport\u001b[39;00m List, Dict, Union, Tuple\n\u001b[0;32m      5\u001b[0m \u001b[38;5;28;01mfrom\u001b[39;00m \u001b[38;5;21;01msrc\u001b[39;00m\u001b[38;5;21;01m.\u001b[39;00m\u001b[38;5;21;01mutils\u001b[39;00m\u001b[38;5;21;01m.\u001b[39;00m\u001b[38;5;21;01mdistributions\u001b[39;00m \u001b[38;5;28;01mimport\u001b[39;00m Categorical, Normal\n\u001b[1;32m----> 6\u001b[0m \u001b[38;5;28;01mfrom\u001b[39;00m \u001b[38;5;21;01msrc\u001b[39;00m\u001b[38;5;21;01m.\u001b[39;00m\u001b[38;5;21;01mutils\u001b[39;00m\u001b[38;5;21;01m.\u001b[39;00m\u001b[38;5;21;01mmouselab_PAR\u001b[39;00m \u001b[38;5;28;01mimport\u001b[39;00m MouselabPar\n\u001b[0;32m      7\u001b[0m \u001b[38;5;28;01mfrom\u001b[39;00m \u001b[38;5;21;01msrc\u001b[39;00m\u001b[38;5;21;01m.\u001b[39;00m\u001b[38;5;21;01mpo_BMPS\u001b[39;00m \u001b[38;5;28;01mimport\u001b[39;00m run_myopic\n\u001b[0;32m      9\u001b[0m \u001b[38;5;66;03m# Helper functions for generating json files to be used in the mouselab-MDP online experiment\u001b[39;00m\n\u001b[0;32m     10\u001b[0m \u001b[38;5;66;03m# Author: Lovis Heindrich\u001b[39;00m\n",
      "File \u001b[1;32mc:\\Users\\heind\\Documents\\GitHub\\MGPO-SSD\\src\\utils\\mouselab_PAR.py:17\u001b[0m\n\u001b[0;32m     15\u001b[0m \u001b[38;5;28;01mfrom\u001b[39;00m \u001b[38;5;21;01mscipy\u001b[39;00m\u001b[38;5;21;01m.\u001b[39;00m\u001b[38;5;21;01mstats\u001b[39;00m \u001b[38;5;28;01mimport\u001b[39;00m norm\n\u001b[0;32m     16\u001b[0m \u001b[38;5;28;01mfrom\u001b[39;00m \u001b[38;5;21;01mtoolz\u001b[39;00m \u001b[38;5;28;01mimport\u001b[39;00m get, compose, memoize\n\u001b[1;32m---> 17\u001b[0m \u001b[38;5;28;01mfrom\u001b[39;00m \u001b[38;5;21;01msrc\u001b[39;00m\u001b[38;5;21;01m.\u001b[39;00m\u001b[38;5;21;01mutils\u001b[39;00m\u001b[38;5;21;01m.\u001b[39;00m\u001b[38;5;21;01mmouselab_VAR\u001b[39;00m \u001b[38;5;28;01mimport\u001b[39;00m MouselabVar\n\u001b[0;32m     18\u001b[0m \u001b[38;5;28;01mfrom\u001b[39;00m \u001b[38;5;21;01msrc\u001b[39;00m\u001b[38;5;21;01m.\u001b[39;00m\u001b[38;5;21;01mutils\u001b[39;00m\u001b[38;5;21;01m.\u001b[39;00m\u001b[38;5;21;01mdistributions\u001b[39;00m \u001b[38;5;28;01mimport\u001b[39;00m Normal, sample\n\u001b[0;32m     20\u001b[0m h \u001b[38;5;241m=\u001b[39m compose(\u001b[38;5;28mhash\u001b[39m, \u001b[38;5;28mstr\u001b[39m)\n",
      "File \u001b[1;32mc:\\Users\\heind\\Documents\\GitHub\\MGPO-SSD\\src\\utils\\mouselab_VAR.py:1\u001b[0m\n\u001b[1;32m----> 1\u001b[0m \u001b[38;5;28;01mfrom\u001b[39;00m \u001b[38;5;21;01msrc\u001b[39;00m\u001b[38;5;21;01m.\u001b[39;00m\u001b[38;5;21;01mutils\u001b[39;00m\u001b[38;5;21;01m.\u001b[39;00m\u001b[38;5;21;01mmouselab\u001b[39;00m \u001b[38;5;28;01mimport\u001b[39;00m MouselabEnv\n\u001b[0;32m      2\u001b[0m \u001b[38;5;28;01mfrom\u001b[39;00m \u001b[38;5;21;01msrc\u001b[39;00m\u001b[38;5;21;01m.\u001b[39;00m\u001b[38;5;21;01mutils\u001b[39;00m\u001b[38;5;21;01m.\u001b[39;00m\u001b[38;5;21;01mdistributions\u001b[39;00m \u001b[38;5;28;01mimport\u001b[39;00m Categorical, PointMass, expectation, cross\n\u001b[0;32m      3\u001b[0m \u001b[38;5;28;01mimport\u001b[39;00m \u001b[38;5;21;01mnumpy\u001b[39;00m \u001b[38;5;28;01mas\u001b[39;00m \u001b[38;5;21;01mnp\u001b[39;00m\n",
      "File \u001b[1;32mc:\\Users\\heind\\Documents\\GitHub\\MGPO-SSD\\src\\utils\\mouselab.py:2\u001b[0m\n\u001b[0;32m      1\u001b[0m \u001b[38;5;28;01mimport\u001b[39;00m \u001b[38;5;21;01mnumpy\u001b[39;00m \u001b[38;5;28;01mas\u001b[39;00m \u001b[38;5;21;01mnp\u001b[39;00m\n\u001b[1;32m----> 2\u001b[0m \u001b[38;5;28;01mimport\u001b[39;00m \u001b[38;5;21;01mgym\u001b[39;00m\n\u001b[0;32m      3\u001b[0m \u001b[38;5;28;01mfrom\u001b[39;00m \u001b[38;5;21;01mgym\u001b[39;00m \u001b[38;5;28;01mimport\u001b[39;00m spaces\n\u001b[0;32m      4\u001b[0m \u001b[38;5;28;01mfrom\u001b[39;00m \u001b[38;5;21;01msrc\u001b[39;00m\u001b[38;5;21;01m.\u001b[39;00m\u001b[38;5;21;01mutils\u001b[39;00m\u001b[38;5;21;01m.\u001b[39;00m\u001b[38;5;21;01mdistributions\u001b[39;00m \u001b[38;5;28;01mimport\u001b[39;00m smax, cmax, sample, expectation, Normal, PointMass\n",
      "\u001b[1;31mModuleNotFoundError\u001b[0m: No module named 'gym'"
     ]
    }
   ],
   "source": [
    "from src.utils.experiment_creation import create_tree, create_init\n",
    "from src.po_BMPS import analyse_generic\n",
    "import numpy as np\n",
    "import json\n",
    "import seaborn as sns\n",
    "import pandas as pd\n",
    "\n",
    "%load_ext autoreload\n",
    "%autoreload 2"
   ]
  },
  {
   "cell_type": "code",
   "execution_count": 2,
   "metadata": {},
   "outputs": [],
   "source": [
    "TREE = create_tree(4, 2)\n",
    "INIT = create_init(4, 2)\n",
    "TAU = 0.005\n",
    "COST = 0.05"
   ]
  },
  {
   "cell_type": "code",
   "execution_count": 4,
   "metadata": {},
   "outputs": [
    {
     "data": {
      "text/html": [
       "<div>\n",
       "<style scoped>\n",
       "    .dataframe tbody tr th:only-of-type {\n",
       "        vertical-align: middle;\n",
       "    }\n",
       "\n",
       "    .dataframe tbody tr th {\n",
       "        vertical-align: top;\n",
       "    }\n",
       "\n",
       "    .dataframe thead th {\n",
       "        text-align: right;\n",
       "    }\n",
       "</style>\n",
       "<table border=\"1\" class=\"dataframe\">\n",
       "  <thead>\n",
       "    <tr style=\"text-align: right;\">\n",
       "      <th></th>\n",
       "      <th>Action</th>\n",
       "      <th>VOC</th>\n",
       "      <th>Observation</th>\n",
       "      <th>ExpTermReward</th>\n",
       "    </tr>\n",
       "  </thead>\n",
       "  <tbody>\n",
       "    <tr>\n",
       "      <th>0</th>\n",
       "      <td>15</td>\n",
       "      <td>3.232350</td>\n",
       "      <td>-8.138935</td>\n",
       "      <td>0.000000</td>\n",
       "    </tr>\n",
       "    <tr>\n",
       "      <th>1</th>\n",
       "      <td>30</td>\n",
       "      <td>3.232350</td>\n",
       "      <td>-14.028475</td>\n",
       "      <td>0.000000</td>\n",
       "    </tr>\n",
       "    <tr>\n",
       "      <th>2</th>\n",
       "      <td>45</td>\n",
       "      <td>3.232350</td>\n",
       "      <td>-17.093611</td>\n",
       "      <td>0.000000</td>\n",
       "    </tr>\n",
       "    <tr>\n",
       "      <th>3</th>\n",
       "      <td>60</td>\n",
       "      <td>2.054037</td>\n",
       "      <td>14.805989</td>\n",
       "      <td>9.870660</td>\n",
       "    </tr>\n",
       "    <tr>\n",
       "      <th>4</th>\n",
       "      <td>54</td>\n",
       "      <td>1.126647</td>\n",
       "      <td>-16.831765</td>\n",
       "      <td>9.870660</td>\n",
       "    </tr>\n",
       "    <tr>\n",
       "      <th>5</th>\n",
       "      <td>55</td>\n",
       "      <td>1.126647</td>\n",
       "      <td>29.686601</td>\n",
       "      <td>19.766193</td>\n",
       "    </tr>\n",
       "    <tr>\n",
       "      <th>6</th>\n",
       "      <td>47</td>\n",
       "      <td>0.307452</td>\n",
       "      <td>-18.636797</td>\n",
       "      <td>19.766193</td>\n",
       "    </tr>\n",
       "    <tr>\n",
       "      <th>7</th>\n",
       "      <td>48</td>\n",
       "      <td>0.307452</td>\n",
       "      <td>-32.962961</td>\n",
       "      <td>19.766193</td>\n",
       "    </tr>\n",
       "    <tr>\n",
       "      <th>8</th>\n",
       "      <td>49</td>\n",
       "      <td>0.307452</td>\n",
       "      <td>-2.708804</td>\n",
       "      <td>19.766193</td>\n",
       "    </tr>\n",
       "    <tr>\n",
       "      <th>9</th>\n",
       "      <td>50</td>\n",
       "      <td>0.237614</td>\n",
       "      <td>15.245872</td>\n",
       "      <td>21.460179</td>\n",
       "    </tr>\n",
       "    <tr>\n",
       "      <th>10</th>\n",
       "      <td>56</td>\n",
       "      <td>0.026023</td>\n",
       "      <td>21.277228</td>\n",
       "      <td>21.460179</td>\n",
       "    </tr>\n",
       "    <tr>\n",
       "      <th>11</th>\n",
       "      <td>59</td>\n",
       "      <td>0.558997</td>\n",
       "      <td>30.173291</td>\n",
       "      <td>28.714818</td>\n",
       "    </tr>\n",
       "    <tr>\n",
       "      <th>12</th>\n",
       "      <td>57</td>\n",
       "      <td>0.127730</td>\n",
       "      <td>18.7873</td>\n",
       "      <td>28.714818</td>\n",
       "    </tr>\n",
       "    <tr>\n",
       "      <th>13</th>\n",
       "      <td>56</td>\n",
       "      <td>0.598615</td>\n",
       "      <td>20.027533</td>\n",
       "      <td>31.948599</td>\n",
       "    </tr>\n",
       "    <tr>\n",
       "      <th>14</th>\n",
       "      <td>57</td>\n",
       "      <td>0.146558</td>\n",
       "      <td>-15.05276</td>\n",
       "      <td>31.948599</td>\n",
       "    </tr>\n",
       "    <tr>\n",
       "      <th>15</th>\n",
       "      <td>58</td>\n",
       "      <td>0.014515</td>\n",
       "      <td>4.615378</td>\n",
       "      <td>31.948599</td>\n",
       "    </tr>\n",
       "    <tr>\n",
       "      <th>16</th>\n",
       "      <td>49</td>\n",
       "      <td>0.006266</td>\n",
       "      <td>-25.660117</td>\n",
       "      <td>31.948599</td>\n",
       "    </tr>\n",
       "    <tr>\n",
       "      <th>17</th>\n",
       "      <td>61</td>\n",
       "      <td>0.000000</td>\n",
       "      <td>False</td>\n",
       "      <td>31.948599</td>\n",
       "    </tr>\n",
       "  </tbody>\n",
       "</table>\n",
       "</div>"
      ],
      "text/plain": [
       "    Action       VOC Observation  ExpTermReward\n",
       "0       15  3.232350   -8.138935       0.000000\n",
       "1       30  3.232350  -14.028475       0.000000\n",
       "2       45  3.232350  -17.093611       0.000000\n",
       "3       60  2.054037   14.805989       9.870660\n",
       "4       54  1.126647  -16.831765       9.870660\n",
       "5       55  1.126647   29.686601      19.766193\n",
       "6       47  0.307452  -18.636797      19.766193\n",
       "7       48  0.307452  -32.962961      19.766193\n",
       "8       49  0.307452   -2.708804      19.766193\n",
       "9       50  0.237614   15.245872      21.460179\n",
       "10      56  0.026023   21.277228      21.460179\n",
       "11      59  0.558997   30.173291      28.714818\n",
       "12      57  0.127730     18.7873      28.714818\n",
       "13      56  0.598615   20.027533      31.948599\n",
       "14      57  0.146558   -15.05276      31.948599\n",
       "15      58  0.014515    4.615378      31.948599\n",
       "16      49  0.006266  -25.660117      31.948599\n",
       "17      61  0.000000       False      31.948599"
      ]
     },
     "execution_count": 4,
     "metadata": {},
     "output_type": "execute_result"
    }
   ],
   "source": [
    "df, states, _ = analyse_generic(TREE, INIT, TAU, COST, seed=6, max_actions=200)\n",
    "df"
   ]
  },
  {
   "cell_type": "code",
   "execution_count": 5,
   "metadata": {},
   "outputs": [],
   "source": [
    "def get_action_indices(df, action):\n",
    "    actions = df[\"Action\"].tolist()\n",
    "    indices = []\n",
    "    for i, a in enumerate(actions):\n",
    "        if a == action:\n",
    "            indices.append(i+1)\n",
    "    return indices"
   ]
  },
  {
   "cell_type": "code",
   "execution_count": 6,
   "metadata": {},
   "outputs": [
    {
     "name": "stdout",
     "output_type": "stream",
     "text": [
      "13.0\n"
     ]
    },
    {
     "data": {
      "image/svg+xml": [
       "<?xml version=\"1.0\" encoding=\"UTF-8\" standalone=\"no\"?>\r\n",
       "<!DOCTYPE svg PUBLIC \"-//W3C//DTD SVG 1.1//EN\"\r\n",
       " \"http://www.w3.org/Graphics/SVG/1.1/DTD/svg11.dtd\">\r\n",
       "<!-- Generated by graphviz version 2.48.0 (0)\r\n",
       " -->\r\n",
       "<!-- Pages: 1 -->\r\n",
       "<svg width=\"1160pt\" height=\"548pt\"\r\n",
       " viewBox=\"0.00 0.00 1160.00 548.00\" xmlns=\"http://www.w3.org/2000/svg\" xmlns:xlink=\"http://www.w3.org/1999/xlink\">\r\n",
       "<g id=\"graph0\" class=\"graph\" transform=\"scale(1 1) rotate(0) translate(4 544)\">\r\n",
       "<polygon fill=\"white\" stroke=\"transparent\" points=\"-4,4 -4,-544 1156,-544 1156,4 -4,4\"/>\r\n",
       "<!-- 0 -->\r\n",
       "<g id=\"node1\" class=\"node\">\r\n",
       "<title>0</title>\r\n",
       "<ellipse fill=\"#696969\" stroke=\"#696969\" cx=\"567\" cy=\"-522\" rx=\"27\" ry=\"18\"/>\r\n",
       "<text text-anchor=\"middle\" x=\"567\" y=\"-518.3\" font-family=\"Times New Roman,serif\" font-size=\"14.00\">0</text>\r\n",
       "</g>\r\n",
       "<!-- 1 -->\r\n",
       "<g id=\"node2\" class=\"node\">\r\n",
       "<title>1</title>\r\n",
       "<ellipse fill=\"#9d7272\" stroke=\"#9d7272\" cx=\"171\" cy=\"-450\" rx=\"27\" ry=\"18\"/>\r\n",
       "<text text-anchor=\"middle\" x=\"171\" y=\"-446.3\" font-family=\"Times New Roman,serif\" font-size=\"14.00\">0</text>\r\n",
       "</g>\r\n",
       "<!-- 0&#45;&gt;1 -->\r\n",
       "<g id=\"edge1\" class=\"edge\">\r\n",
       "<title>0&#45;&gt;1</title>\r\n",
       "<path fill=\"none\" stroke=\"black\" d=\"M541.02,-516.41C472.27,-504.25 285.48,-471.24 206.75,-457.32\"/>\r\n",
       "<polygon fill=\"black\" stroke=\"black\" points=\"207.28,-453.86 196.82,-455.56 206.06,-460.75 207.28,-453.86\"/>\r\n",
       "</g>\r\n",
       "<!-- 16 -->\r\n",
       "<g id=\"node3\" class=\"node\">\r\n",
       "<title>16</title>\r\n",
       "<ellipse fill=\"#9d7272\" stroke=\"#9d7272\" cx=\"459\" cy=\"-450\" rx=\"27\" ry=\"18\"/>\r\n",
       "<text text-anchor=\"middle\" x=\"459\" y=\"-446.3\" font-family=\"Times New Roman,serif\" font-size=\"14.00\">0</text>\r\n",
       "</g>\r\n",
       "<!-- 0&#45;&gt;16 -->\r\n",
       "<g id=\"edge2\" class=\"edge\">\r\n",
       "<title>0&#45;&gt;16</title>\r\n",
       "<path fill=\"none\" stroke=\"black\" d=\"M548.19,-508.81C531,-497.67 505.38,-481.06 486.01,-468.5\"/>\r\n",
       "<polygon fill=\"black\" stroke=\"black\" points=\"487.89,-465.56 477.6,-463.05 484.08,-471.43 487.89,-465.56\"/>\r\n",
       "</g>\r\n",
       "<!-- 31 -->\r\n",
       "<g id=\"node4\" class=\"node\">\r\n",
       "<title>31</title>\r\n",
       "<ellipse fill=\"#9d7272\" stroke=\"#9d7272\" cx=\"675\" cy=\"-450\" rx=\"27\" ry=\"18\"/>\r\n",
       "<text text-anchor=\"middle\" x=\"675\" y=\"-446.3\" font-family=\"Times New Roman,serif\" font-size=\"14.00\">0</text>\r\n",
       "</g>\r\n",
       "<!-- 0&#45;&gt;31 -->\r\n",
       "<g id=\"edge3\" class=\"edge\">\r\n",
       "<title>0&#45;&gt;31</title>\r\n",
       "<path fill=\"none\" stroke=\"black\" d=\"M585.81,-508.81C603,-497.67 628.62,-481.06 647.99,-468.5\"/>\r\n",
       "<polygon fill=\"black\" stroke=\"black\" points=\"649.92,-471.43 656.4,-463.05 646.11,-465.56 649.92,-471.43\"/>\r\n",
       "</g>\r\n",
       "<!-- 46 -->\r\n",
       "<g id=\"node5\" class=\"node\">\r\n",
       "<title>46</title>\r\n",
       "<ellipse fill=\"#9d7272\" stroke=\"#9d7272\" cx=\"972\" cy=\"-450\" rx=\"27\" ry=\"18\"/>\r\n",
       "<text text-anchor=\"middle\" x=\"972\" y=\"-446.3\" font-family=\"Times New Roman,serif\" font-size=\"14.00\">0</text>\r\n",
       "</g>\r\n",
       "<!-- 0&#45;&gt;46 -->\r\n",
       "<g id=\"edge4\" class=\"edge\">\r\n",
       "<title>0&#45;&gt;46</title>\r\n",
       "<path fill=\"none\" stroke=\"black\" d=\"M592.95,-516.51C662.96,-504.41 855.81,-471.08 936.15,-457.2\"/>\r\n",
       "<polygon fill=\"black\" stroke=\"black\" points=\"937.01,-460.6 946.27,-455.45 935.82,-453.7 937.01,-460.6\"/>\r\n",
       "</g>\r\n",
       "<!-- 2 -->\r\n",
       "<g id=\"node6\" class=\"node\">\r\n",
       "<title>2</title>\r\n",
       "<ellipse fill=\"#9d7272\" stroke=\"#9d7272\" cx=\"27\" cy=\"-378\" rx=\"27\" ry=\"18\"/>\r\n",
       "<text text-anchor=\"middle\" x=\"27\" y=\"-374.3\" font-family=\"Times New Roman,serif\" font-size=\"14.00\">0</text>\r\n",
       "</g>\r\n",
       "<!-- 1&#45;&gt;2 -->\r\n",
       "<g id=\"edge5\" class=\"edge\">\r\n",
       "<title>1&#45;&gt;2</title>\r\n",
       "<path fill=\"none\" stroke=\"black\" d=\"M149.75,-438.67C125.4,-426.83 85.28,-407.33 57.57,-393.86\"/>\r\n",
       "<polygon fill=\"black\" stroke=\"black\" points=\"58.86,-390.6 48.33,-389.37 55.8,-396.89 58.86,-390.6\"/>\r\n",
       "</g>\r\n",
       "<!-- 3 -->\r\n",
       "<g id=\"node7\" class=\"node\">\r\n",
       "<title>3</title>\r\n",
       "<ellipse fill=\"#9d7272\" stroke=\"#9d7272\" cx=\"99\" cy=\"-378\" rx=\"27\" ry=\"18\"/>\r\n",
       "<text text-anchor=\"middle\" x=\"99\" y=\"-374.3\" font-family=\"Times New Roman,serif\" font-size=\"14.00\">0</text>\r\n",
       "</g>\r\n",
       "<!-- 1&#45;&gt;3 -->\r\n",
       "<g id=\"edge6\" class=\"edge\">\r\n",
       "<title>1&#45;&gt;3</title>\r\n",
       "<path fill=\"none\" stroke=\"black\" d=\"M156.43,-434.83C146.25,-424.94 132.48,-411.55 120.97,-400.36\"/>\r\n",
       "<polygon fill=\"black\" stroke=\"black\" points=\"123.41,-397.85 113.8,-393.38 118.53,-402.87 123.41,-397.85\"/>\r\n",
       "</g>\r\n",
       "<!-- 4 -->\r\n",
       "<g id=\"node8\" class=\"node\">\r\n",
       "<title>4</title>\r\n",
       "<ellipse fill=\"#9d7272\" stroke=\"#9d7272\" cx=\"171\" cy=\"-378\" rx=\"27\" ry=\"18\"/>\r\n",
       "<text text-anchor=\"middle\" x=\"171\" y=\"-374.3\" font-family=\"Times New Roman,serif\" font-size=\"14.00\">0</text>\r\n",
       "</g>\r\n",
       "<!-- 1&#45;&gt;4 -->\r\n",
       "<g id=\"edge7\" class=\"edge\">\r\n",
       "<title>1&#45;&gt;4</title>\r\n",
       "<path fill=\"none\" stroke=\"black\" d=\"M171,-431.7C171,-423.98 171,-414.71 171,-406.11\"/>\r\n",
       "<polygon fill=\"black\" stroke=\"black\" points=\"174.5,-406.1 171,-396.1 167.5,-406.1 174.5,-406.1\"/>\r\n",
       "</g>\r\n",
       "<!-- 5 -->\r\n",
       "<g id=\"node9\" class=\"node\">\r\n",
       "<title>5</title>\r\n",
       "<ellipse fill=\"#9d7272\" stroke=\"#9d7272\" cx=\"243\" cy=\"-378\" rx=\"27\" ry=\"18\"/>\r\n",
       "<text text-anchor=\"middle\" x=\"243\" y=\"-374.3\" font-family=\"Times New Roman,serif\" font-size=\"14.00\">0</text>\r\n",
       "</g>\r\n",
       "<!-- 1&#45;&gt;5 -->\r\n",
       "<g id=\"edge8\" class=\"edge\">\r\n",
       "<title>1&#45;&gt;5</title>\r\n",
       "<path fill=\"none\" stroke=\"black\" d=\"M185.57,-434.83C195.75,-424.94 209.52,-411.55 221.03,-400.36\"/>\r\n",
       "<polygon fill=\"black\" stroke=\"black\" points=\"223.47,-402.87 228.2,-393.38 218.59,-397.85 223.47,-402.87\"/>\r\n",
       "</g>\r\n",
       "<!-- 17 -->\r\n",
       "<g id=\"node20\" class=\"node\">\r\n",
       "<title>17</title>\r\n",
       "<ellipse fill=\"#9d7272\" stroke=\"#9d7272\" cx=\"315\" cy=\"-378\" rx=\"27\" ry=\"18\"/>\r\n",
       "<text text-anchor=\"middle\" x=\"315\" y=\"-374.3\" font-family=\"Times New Roman,serif\" font-size=\"14.00\">0</text>\r\n",
       "</g>\r\n",
       "<!-- 16&#45;&gt;17 -->\r\n",
       "<g id=\"edge25\" class=\"edge\">\r\n",
       "<title>16&#45;&gt;17</title>\r\n",
       "<path fill=\"none\" stroke=\"black\" d=\"M437.75,-438.67C413.4,-426.83 373.28,-407.33 345.57,-393.86\"/>\r\n",
       "<polygon fill=\"black\" stroke=\"black\" points=\"346.86,-390.6 336.33,-389.37 343.8,-396.89 346.86,-390.6\"/>\r\n",
       "</g>\r\n",
       "<!-- 18 -->\r\n",
       "<g id=\"node21\" class=\"node\">\r\n",
       "<title>18</title>\r\n",
       "<ellipse fill=\"#9d7272\" stroke=\"#9d7272\" cx=\"387\" cy=\"-378\" rx=\"27\" ry=\"18\"/>\r\n",
       "<text text-anchor=\"middle\" x=\"387\" y=\"-374.3\" font-family=\"Times New Roman,serif\" font-size=\"14.00\">0</text>\r\n",
       "</g>\r\n",
       "<!-- 16&#45;&gt;18 -->\r\n",
       "<g id=\"edge26\" class=\"edge\">\r\n",
       "<title>16&#45;&gt;18</title>\r\n",
       "<path fill=\"none\" stroke=\"black\" d=\"M444.43,-434.83C434.25,-424.94 420.48,-411.55 408.97,-400.36\"/>\r\n",
       "<polygon fill=\"black\" stroke=\"black\" points=\"411.41,-397.85 401.8,-393.38 406.53,-402.87 411.41,-397.85\"/>\r\n",
       "</g>\r\n",
       "<!-- 19 -->\r\n",
       "<g id=\"node22\" class=\"node\">\r\n",
       "<title>19</title>\r\n",
       "<ellipse fill=\"#9d7272\" stroke=\"#9d7272\" cx=\"459\" cy=\"-378\" rx=\"27\" ry=\"18\"/>\r\n",
       "<text text-anchor=\"middle\" x=\"459\" y=\"-374.3\" font-family=\"Times New Roman,serif\" font-size=\"14.00\">0</text>\r\n",
       "</g>\r\n",
       "<!-- 16&#45;&gt;19 -->\r\n",
       "<g id=\"edge27\" class=\"edge\">\r\n",
       "<title>16&#45;&gt;19</title>\r\n",
       "<path fill=\"none\" stroke=\"black\" d=\"M459,-431.7C459,-423.98 459,-414.71 459,-406.11\"/>\r\n",
       "<polygon fill=\"black\" stroke=\"black\" points=\"462.5,-406.1 459,-396.1 455.5,-406.1 462.5,-406.1\"/>\r\n",
       "</g>\r\n",
       "<!-- 20 -->\r\n",
       "<g id=\"node23\" class=\"node\">\r\n",
       "<title>20</title>\r\n",
       "<ellipse fill=\"#9d7272\" stroke=\"#9d7272\" cx=\"531\" cy=\"-378\" rx=\"27\" ry=\"18\"/>\r\n",
       "<text text-anchor=\"middle\" x=\"531\" y=\"-374.3\" font-family=\"Times New Roman,serif\" font-size=\"14.00\">0</text>\r\n",
       "</g>\r\n",
       "<!-- 16&#45;&gt;20 -->\r\n",
       "<g id=\"edge28\" class=\"edge\">\r\n",
       "<title>16&#45;&gt;20</title>\r\n",
       "<path fill=\"none\" stroke=\"black\" d=\"M473.57,-434.83C483.75,-424.94 497.52,-411.55 509.03,-400.36\"/>\r\n",
       "<polygon fill=\"black\" stroke=\"black\" points=\"511.47,-402.87 516.2,-393.38 506.59,-397.85 511.47,-402.87\"/>\r\n",
       "</g>\r\n",
       "<!-- 32 -->\r\n",
       "<g id=\"node34\" class=\"node\">\r\n",
       "<title>32</title>\r\n",
       "<ellipse fill=\"#9d7272\" stroke=\"#9d7272\" cx=\"603\" cy=\"-378\" rx=\"27\" ry=\"18\"/>\r\n",
       "<text text-anchor=\"middle\" x=\"603\" y=\"-374.3\" font-family=\"Times New Roman,serif\" font-size=\"14.00\">0</text>\r\n",
       "</g>\r\n",
       "<!-- 31&#45;&gt;32 -->\r\n",
       "<g id=\"edge45\" class=\"edge\">\r\n",
       "<title>31&#45;&gt;32</title>\r\n",
       "<path fill=\"none\" stroke=\"black\" d=\"M660.43,-434.83C650.25,-424.94 636.48,-411.55 624.97,-400.36\"/>\r\n",
       "<polygon fill=\"black\" stroke=\"black\" points=\"627.41,-397.85 617.8,-393.38 622.53,-402.87 627.41,-397.85\"/>\r\n",
       "</g>\r\n",
       "<!-- 33 -->\r\n",
       "<g id=\"node35\" class=\"node\">\r\n",
       "<title>33</title>\r\n",
       "<ellipse fill=\"#9d7272\" stroke=\"#9d7272\" cx=\"675\" cy=\"-378\" rx=\"27\" ry=\"18\"/>\r\n",
       "<text text-anchor=\"middle\" x=\"675\" y=\"-374.3\" font-family=\"Times New Roman,serif\" font-size=\"14.00\">0</text>\r\n",
       "</g>\r\n",
       "<!-- 31&#45;&gt;33 -->\r\n",
       "<g id=\"edge46\" class=\"edge\">\r\n",
       "<title>31&#45;&gt;33</title>\r\n",
       "<path fill=\"none\" stroke=\"black\" d=\"M675,-431.7C675,-423.98 675,-414.71 675,-406.11\"/>\r\n",
       "<polygon fill=\"black\" stroke=\"black\" points=\"678.5,-406.1 675,-396.1 671.5,-406.1 678.5,-406.1\"/>\r\n",
       "</g>\r\n",
       "<!-- 34 -->\r\n",
       "<g id=\"node36\" class=\"node\">\r\n",
       "<title>34</title>\r\n",
       "<ellipse fill=\"#9d7272\" stroke=\"#9d7272\" cx=\"747\" cy=\"-378\" rx=\"27\" ry=\"18\"/>\r\n",
       "<text text-anchor=\"middle\" x=\"747\" y=\"-374.3\" font-family=\"Times New Roman,serif\" font-size=\"14.00\">0</text>\r\n",
       "</g>\r\n",
       "<!-- 31&#45;&gt;34 -->\r\n",
       "<g id=\"edge47\" class=\"edge\">\r\n",
       "<title>31&#45;&gt;34</title>\r\n",
       "<path fill=\"none\" stroke=\"black\" d=\"M689.57,-434.83C699.75,-424.94 713.52,-411.55 725.03,-400.36\"/>\r\n",
       "<polygon fill=\"black\" stroke=\"black\" points=\"727.47,-402.87 732.2,-393.38 722.59,-397.85 727.47,-402.87\"/>\r\n",
       "</g>\r\n",
       "<!-- 35 -->\r\n",
       "<g id=\"node37\" class=\"node\">\r\n",
       "<title>35</title>\r\n",
       "<ellipse fill=\"#9d7272\" stroke=\"#9d7272\" cx=\"819\" cy=\"-378\" rx=\"27\" ry=\"18\"/>\r\n",
       "<text text-anchor=\"middle\" x=\"819\" y=\"-374.3\" font-family=\"Times New Roman,serif\" font-size=\"14.00\">0</text>\r\n",
       "</g>\r\n",
       "<!-- 31&#45;&gt;35 -->\r\n",
       "<g id=\"edge48\" class=\"edge\">\r\n",
       "<title>31&#45;&gt;35</title>\r\n",
       "<path fill=\"none\" stroke=\"black\" d=\"M696.25,-438.67C720.6,-426.83 760.72,-407.33 788.43,-393.86\"/>\r\n",
       "<polygon fill=\"black\" stroke=\"black\" points=\"790.2,-396.89 797.67,-389.37 787.14,-390.6 790.2,-396.89\"/>\r\n",
       "</g>\r\n",
       "<!-- 47 -->\r\n",
       "<g id=\"node48\" class=\"node\">\r\n",
       "<title>47</title>\r\n",
       "<ellipse fill=\"#9a7171\" stroke=\"#9a7171\" cx=\"894\" cy=\"-378\" rx=\"29.8\" ry=\"18\"/>\r\n",
       "<text text-anchor=\"middle\" x=\"894\" y=\"-374.3\" font-family=\"Times New Roman,serif\" font-size=\"14.00\">&#45;2.07</text>\r\n",
       "<text text-anchor=\"middle\" x=\"860.6\" y=\"-399.8\" font-family=\"Times New Roman,serif\" font-size=\"14.00\">7</text>\r\n",
       "</g>\r\n",
       "<!-- 46&#45;&gt;47 -->\r\n",
       "<g id=\"edge65\" class=\"edge\">\r\n",
       "<title>46&#45;&gt;47</title>\r\n",
       "<path fill=\"none\" stroke=\"black\" d=\"M956.59,-435.17C945.41,-425.14 930.09,-411.39 917.41,-400.01\"/>\r\n",
       "<polygon fill=\"black\" stroke=\"black\" points=\"919.69,-397.36 909.91,-393.28 915.02,-402.57 919.69,-397.36\"/>\r\n",
       "</g>\r\n",
       "<!-- 48 -->\r\n",
       "<g id=\"node49\" class=\"node\">\r\n",
       "<title>48</title>\r\n",
       "<ellipse fill=\"#9a7171\" stroke=\"#9a7171\" cx=\"972\" cy=\"-378\" rx=\"29.8\" ry=\"18\"/>\r\n",
       "<text text-anchor=\"middle\" x=\"972\" y=\"-374.3\" font-family=\"Times New Roman,serif\" font-size=\"14.00\">&#45;3.66</text>\r\n",
       "<text text-anchor=\"middle\" x=\"938.6\" y=\"-399.8\" font-family=\"Times New Roman,serif\" font-size=\"14.00\">8</text>\r\n",
       "</g>\r\n",
       "<!-- 46&#45;&gt;48 -->\r\n",
       "<g id=\"edge66\" class=\"edge\">\r\n",
       "<title>46&#45;&gt;48</title>\r\n",
       "<path fill=\"none\" stroke=\"black\" d=\"M972,-431.7C972,-423.98 972,-414.71 972,-406.11\"/>\r\n",
       "<polygon fill=\"black\" stroke=\"black\" points=\"975.5,-406.1 972,-396.1 968.5,-406.1 975.5,-406.1\"/>\r\n",
       "</g>\r\n",
       "<!-- 49 -->\r\n",
       "<g id=\"node50\" class=\"node\">\r\n",
       "<title>49</title>\r\n",
       "<ellipse fill=\"#977171\" stroke=\"#977171\" cx=\"1050\" cy=\"-378\" rx=\"29.8\" ry=\"18\"/>\r\n",
       "<text text-anchor=\"middle\" x=\"1050\" y=\"-374.3\" font-family=\"Times New Roman,serif\" font-size=\"14.00\">&#45;2.84</text>\r\n",
       "<text text-anchor=\"middle\" x=\"1006.1\" y=\"-399.8\" font-family=\"Times New Roman,serif\" font-size=\"14.00\">9, 17</text>\r\n",
       "</g>\r\n",
       "<!-- 46&#45;&gt;49 -->\r\n",
       "<g id=\"edge67\" class=\"edge\">\r\n",
       "<title>46&#45;&gt;49</title>\r\n",
       "<path fill=\"none\" stroke=\"black\" d=\"M987.41,-435.17C998.59,-425.14 1013.91,-411.39 1026.59,-400.01\"/>\r\n",
       "<polygon fill=\"black\" stroke=\"black\" points=\"1028.98,-402.57 1034.09,-393.28 1024.31,-397.36 1028.98,-402.57\"/>\r\n",
       "</g>\r\n",
       "<!-- 50 -->\r\n",
       "<g id=\"node51\" class=\"node\">\r\n",
       "<title>50</title>\r\n",
       "<ellipse fill=\"#9a7171\" stroke=\"#9a7171\" cx=\"1125\" cy=\"-378\" rx=\"27\" ry=\"18\"/>\r\n",
       "<text text-anchor=\"middle\" x=\"1125\" y=\"-374.3\" font-family=\"Times New Roman,serif\" font-size=\"14.00\">1.69</text>\r\n",
       "<text text-anchor=\"middle\" x=\"1091\" y=\"-399.8\" font-family=\"Times New Roman,serif\" font-size=\"14.00\">10</text>\r\n",
       "</g>\r\n",
       "<!-- 46&#45;&gt;50 -->\r\n",
       "<g id=\"edge68\" class=\"edge\">\r\n",
       "<title>46&#45;&gt;50</title>\r\n",
       "<path fill=\"none\" stroke=\"black\" d=\"M994.04,-439.14C1017.6,-428.57 1056.01,-411.26 1089,-396 1090.79,-395.17 1092.62,-394.32 1094.48,-393.46\"/>\r\n",
       "<polygon fill=\"black\" stroke=\"black\" points=\"1096.14,-396.54 1103.71,-389.12 1093.17,-390.2 1096.14,-396.54\"/>\r\n",
       "</g>\r\n",
       "<!-- 6 -->\r\n",
       "<g id=\"node10\" class=\"node\">\r\n",
       "<title>6</title>\r\n",
       "<ellipse fill=\"#9d7272\" stroke=\"#9d7272\" cx=\"99\" cy=\"-306\" rx=\"27\" ry=\"18\"/>\r\n",
       "<text text-anchor=\"middle\" x=\"99\" y=\"-302.3\" font-family=\"Times New Roman,serif\" font-size=\"14.00\">0</text>\r\n",
       "</g>\r\n",
       "<!-- 2&#45;&gt;6 -->\r\n",
       "<g id=\"edge9\" class=\"edge\">\r\n",
       "<title>2&#45;&gt;6</title>\r\n",
       "<path fill=\"none\" stroke=\"black\" d=\"M41.57,-362.83C51.75,-352.94 65.52,-339.55 77.03,-328.36\"/>\r\n",
       "<polygon fill=\"black\" stroke=\"black\" points=\"79.47,-330.87 84.2,-321.38 74.59,-325.85 79.47,-330.87\"/>\r\n",
       "</g>\r\n",
       "<!-- 3&#45;&gt;6 -->\r\n",
       "<g id=\"edge10\" class=\"edge\">\r\n",
       "<title>3&#45;&gt;6</title>\r\n",
       "<path fill=\"none\" stroke=\"black\" d=\"M99,-359.7C99,-351.98 99,-342.71 99,-334.11\"/>\r\n",
       "<polygon fill=\"black\" stroke=\"black\" points=\"102.5,-334.1 99,-324.1 95.5,-334.1 102.5,-334.1\"/>\r\n",
       "</g>\r\n",
       "<!-- 7 -->\r\n",
       "<g id=\"node11\" class=\"node\">\r\n",
       "<title>7</title>\r\n",
       "<ellipse fill=\"#9d7272\" stroke=\"#9d7272\" cx=\"171\" cy=\"-306\" rx=\"27\" ry=\"18\"/>\r\n",
       "<text text-anchor=\"middle\" x=\"171\" y=\"-302.3\" font-family=\"Times New Roman,serif\" font-size=\"14.00\">0</text>\r\n",
       "</g>\r\n",
       "<!-- 4&#45;&gt;7 -->\r\n",
       "<g id=\"edge11\" class=\"edge\">\r\n",
       "<title>4&#45;&gt;7</title>\r\n",
       "<path fill=\"none\" stroke=\"black\" d=\"M171,-359.7C171,-351.98 171,-342.71 171,-334.11\"/>\r\n",
       "<polygon fill=\"black\" stroke=\"black\" points=\"174.5,-334.1 171,-324.1 167.5,-334.1 174.5,-334.1\"/>\r\n",
       "</g>\r\n",
       "<!-- 5&#45;&gt;7 -->\r\n",
       "<g id=\"edge12\" class=\"edge\">\r\n",
       "<title>5&#45;&gt;7</title>\r\n",
       "<path fill=\"none\" stroke=\"black\" d=\"M228.43,-362.83C218.25,-352.94 204.48,-339.55 192.97,-328.36\"/>\r\n",
       "<polygon fill=\"black\" stroke=\"black\" points=\"195.41,-325.85 185.8,-321.38 190.53,-330.87 195.41,-325.85\"/>\r\n",
       "</g>\r\n",
       "<!-- 8 -->\r\n",
       "<g id=\"node12\" class=\"node\">\r\n",
       "<title>8</title>\r\n",
       "<ellipse fill=\"#d17b7b\" stroke=\"#d17b7b\" cx=\"99\" cy=\"-234\" rx=\"27\" ry=\"18\"/>\r\n",
       "<text text-anchor=\"middle\" x=\"99\" y=\"-230.3\" font-family=\"Times New Roman,serif\" font-size=\"14.00\">0</text>\r\n",
       "</g>\r\n",
       "<!-- 6&#45;&gt;8 -->\r\n",
       "<g id=\"edge13\" class=\"edge\">\r\n",
       "<title>6&#45;&gt;8</title>\r\n",
       "<path fill=\"none\" stroke=\"black\" d=\"M99,-287.7C99,-279.98 99,-270.71 99,-262.11\"/>\r\n",
       "<polygon fill=\"black\" stroke=\"black\" points=\"102.5,-262.1 99,-252.1 95.5,-262.1 102.5,-262.1\"/>\r\n",
       "</g>\r\n",
       "<!-- 7&#45;&gt;8 -->\r\n",
       "<g id=\"edge14\" class=\"edge\">\r\n",
       "<title>7&#45;&gt;8</title>\r\n",
       "<path fill=\"none\" stroke=\"black\" d=\"M156.43,-290.83C146.25,-280.94 132.48,-267.55 120.97,-256.36\"/>\r\n",
       "<polygon fill=\"black\" stroke=\"black\" points=\"123.41,-253.85 113.8,-249.38 118.53,-258.87 123.41,-253.85\"/>\r\n",
       "</g>\r\n",
       "<!-- 9 -->\r\n",
       "<g id=\"node13\" class=\"node\">\r\n",
       "<title>9</title>\r\n",
       "<ellipse fill=\"#d17b7b\" stroke=\"#d17b7b\" cx=\"27\" cy=\"-162\" rx=\"27\" ry=\"18\"/>\r\n",
       "<text text-anchor=\"middle\" x=\"27\" y=\"-158.3\" font-family=\"Times New Roman,serif\" font-size=\"14.00\">0</text>\r\n",
       "</g>\r\n",
       "<!-- 8&#45;&gt;9 -->\r\n",
       "<g id=\"edge15\" class=\"edge\">\r\n",
       "<title>8&#45;&gt;9</title>\r\n",
       "<path fill=\"none\" stroke=\"black\" d=\"M84.43,-218.83C74.25,-208.94 60.48,-195.55 48.97,-184.36\"/>\r\n",
       "<polygon fill=\"black\" stroke=\"black\" points=\"51.41,-181.85 41.8,-177.38 46.53,-186.87 51.41,-181.85\"/>\r\n",
       "</g>\r\n",
       "<!-- 10 -->\r\n",
       "<g id=\"node14\" class=\"node\">\r\n",
       "<title>10</title>\r\n",
       "<ellipse fill=\"#d17b7b\" stroke=\"#d17b7b\" cx=\"99\" cy=\"-162\" rx=\"27\" ry=\"18\"/>\r\n",
       "<text text-anchor=\"middle\" x=\"99\" y=\"-158.3\" font-family=\"Times New Roman,serif\" font-size=\"14.00\">0</text>\r\n",
       "</g>\r\n",
       "<!-- 8&#45;&gt;10 -->\r\n",
       "<g id=\"edge16\" class=\"edge\">\r\n",
       "<title>8&#45;&gt;10</title>\r\n",
       "<path fill=\"none\" stroke=\"black\" d=\"M99,-215.7C99,-207.98 99,-198.71 99,-190.11\"/>\r\n",
       "<polygon fill=\"black\" stroke=\"black\" points=\"102.5,-190.1 99,-180.1 95.5,-190.1 102.5,-190.1\"/>\r\n",
       "</g>\r\n",
       "<!-- 11 -->\r\n",
       "<g id=\"node15\" class=\"node\">\r\n",
       "<title>11</title>\r\n",
       "<ellipse fill=\"#d17b7b\" stroke=\"#d17b7b\" cx=\"171\" cy=\"-162\" rx=\"27\" ry=\"18\"/>\r\n",
       "<text text-anchor=\"middle\" x=\"171\" y=\"-158.3\" font-family=\"Times New Roman,serif\" font-size=\"14.00\">0</text>\r\n",
       "</g>\r\n",
       "<!-- 8&#45;&gt;11 -->\r\n",
       "<g id=\"edge17\" class=\"edge\">\r\n",
       "<title>8&#45;&gt;11</title>\r\n",
       "<path fill=\"none\" stroke=\"black\" d=\"M113.57,-218.83C123.75,-208.94 137.52,-195.55 149.03,-184.36\"/>\r\n",
       "<polygon fill=\"black\" stroke=\"black\" points=\"151.47,-186.87 156.2,-177.38 146.59,-181.85 151.47,-186.87\"/>\r\n",
       "</g>\r\n",
       "<!-- 12 -->\r\n",
       "<g id=\"node16\" class=\"node\">\r\n",
       "<title>12</title>\r\n",
       "<ellipse fill=\"#d17b7b\" stroke=\"#d17b7b\" cx=\"243\" cy=\"-162\" rx=\"27\" ry=\"18\"/>\r\n",
       "<text text-anchor=\"middle\" x=\"243\" y=\"-158.3\" font-family=\"Times New Roman,serif\" font-size=\"14.00\">0</text>\r\n",
       "</g>\r\n",
       "<!-- 8&#45;&gt;12 -->\r\n",
       "<g id=\"edge18\" class=\"edge\">\r\n",
       "<title>8&#45;&gt;12</title>\r\n",
       "<path fill=\"none\" stroke=\"black\" d=\"M120.25,-222.67C144.6,-210.83 184.72,-191.33 212.43,-177.86\"/>\r\n",
       "<polygon fill=\"black\" stroke=\"black\" points=\"214.2,-180.89 221.67,-173.37 211.14,-174.6 214.2,-180.89\"/>\r\n",
       "</g>\r\n",
       "<!-- 13 -->\r\n",
       "<g id=\"node17\" class=\"node\">\r\n",
       "<title>13</title>\r\n",
       "<ellipse fill=\"#d17b7b\" stroke=\"#d17b7b\" cx=\"99\" cy=\"-90\" rx=\"27\" ry=\"18\"/>\r\n",
       "<text text-anchor=\"middle\" x=\"99\" y=\"-86.3\" font-family=\"Times New Roman,serif\" font-size=\"14.00\">0</text>\r\n",
       "</g>\r\n",
       "<!-- 9&#45;&gt;13 -->\r\n",
       "<g id=\"edge19\" class=\"edge\">\r\n",
       "<title>9&#45;&gt;13</title>\r\n",
       "<path fill=\"none\" stroke=\"black\" d=\"M41.57,-146.83C51.75,-136.94 65.52,-123.55 77.03,-112.36\"/>\r\n",
       "<polygon fill=\"black\" stroke=\"black\" points=\"79.47,-114.87 84.2,-105.38 74.59,-109.85 79.47,-114.87\"/>\r\n",
       "</g>\r\n",
       "<!-- 10&#45;&gt;13 -->\r\n",
       "<g id=\"edge20\" class=\"edge\">\r\n",
       "<title>10&#45;&gt;13</title>\r\n",
       "<path fill=\"none\" stroke=\"black\" d=\"M99,-143.7C99,-135.98 99,-126.71 99,-118.11\"/>\r\n",
       "<polygon fill=\"black\" stroke=\"black\" points=\"102.5,-118.1 99,-108.1 95.5,-118.1 102.5,-118.1\"/>\r\n",
       "</g>\r\n",
       "<!-- 14 -->\r\n",
       "<g id=\"node18\" class=\"node\">\r\n",
       "<title>14</title>\r\n",
       "<ellipse fill=\"#d17b7b\" stroke=\"#d17b7b\" cx=\"171\" cy=\"-90\" rx=\"27\" ry=\"18\"/>\r\n",
       "<text text-anchor=\"middle\" x=\"171\" y=\"-86.3\" font-family=\"Times New Roman,serif\" font-size=\"14.00\">0</text>\r\n",
       "</g>\r\n",
       "<!-- 11&#45;&gt;14 -->\r\n",
       "<g id=\"edge21\" class=\"edge\">\r\n",
       "<title>11&#45;&gt;14</title>\r\n",
       "<path fill=\"none\" stroke=\"black\" d=\"M171,-143.7C171,-135.98 171,-126.71 171,-118.11\"/>\r\n",
       "<polygon fill=\"black\" stroke=\"black\" points=\"174.5,-118.1 171,-108.1 167.5,-118.1 174.5,-118.1\"/>\r\n",
       "</g>\r\n",
       "<!-- 12&#45;&gt;14 -->\r\n",
       "<g id=\"edge22\" class=\"edge\">\r\n",
       "<title>12&#45;&gt;14</title>\r\n",
       "<path fill=\"none\" stroke=\"black\" d=\"M228.43,-146.83C218.25,-136.94 204.48,-123.55 192.97,-112.36\"/>\r\n",
       "<polygon fill=\"black\" stroke=\"black\" points=\"195.41,-109.85 185.8,-105.38 190.53,-114.87 195.41,-109.85\"/>\r\n",
       "</g>\r\n",
       "<!-- 15 -->\r\n",
       "<g id=\"node19\" class=\"node\">\r\n",
       "<title>15</title>\r\n",
       "<ellipse fill=\"#e17d7d\" stroke=\"#e17d7d\" cx=\"135\" cy=\"-18\" rx=\"29.8\" ry=\"18\"/>\r\n",
       "<text text-anchor=\"middle\" x=\"135\" y=\"-14.3\" font-family=\"Times New Roman,serif\" font-size=\"14.00\">&#45;5.43</text>\r\n",
       "<text text-anchor=\"middle\" x=\"101.6\" y=\"-39.8\" font-family=\"Times New Roman,serif\" font-size=\"14.00\">1</text>\r\n",
       "</g>\r\n",
       "<!-- 13&#45;&gt;15 -->\r\n",
       "<g id=\"edge23\" class=\"edge\">\r\n",
       "<title>13&#45;&gt;15</title>\r\n",
       "<path fill=\"none\" stroke=\"black\" d=\"M107.35,-72.76C111.65,-64.4 116.99,-54.02 121.83,-44.61\"/>\r\n",
       "<polygon fill=\"black\" stroke=\"black\" points=\"124.98,-46.13 126.45,-35.63 118.76,-42.93 124.98,-46.13\"/>\r\n",
       "</g>\r\n",
       "<!-- 14&#45;&gt;15 -->\r\n",
       "<g id=\"edge24\" class=\"edge\">\r\n",
       "<title>14&#45;&gt;15</title>\r\n",
       "<path fill=\"none\" stroke=\"black\" d=\"M162.65,-72.76C158.35,-64.4 153.01,-54.02 148.17,-44.61\"/>\r\n",
       "<polygon fill=\"black\" stroke=\"black\" points=\"151.24,-42.93 143.55,-35.63 145.02,-46.13 151.24,-42.93\"/>\r\n",
       "</g>\r\n",
       "<!-- 21 -->\r\n",
       "<g id=\"node24\" class=\"node\">\r\n",
       "<title>21</title>\r\n",
       "<ellipse fill=\"#9d7272\" stroke=\"#9d7272\" cx=\"387\" cy=\"-306\" rx=\"27\" ry=\"18\"/>\r\n",
       "<text text-anchor=\"middle\" x=\"387\" y=\"-302.3\" font-family=\"Times New Roman,serif\" font-size=\"14.00\">0</text>\r\n",
       "</g>\r\n",
       "<!-- 17&#45;&gt;21 -->\r\n",
       "<g id=\"edge29\" class=\"edge\">\r\n",
       "<title>17&#45;&gt;21</title>\r\n",
       "<path fill=\"none\" stroke=\"black\" d=\"M329.57,-362.83C339.75,-352.94 353.52,-339.55 365.03,-328.36\"/>\r\n",
       "<polygon fill=\"black\" stroke=\"black\" points=\"367.47,-330.87 372.2,-321.38 362.59,-325.85 367.47,-330.87\"/>\r\n",
       "</g>\r\n",
       "<!-- 18&#45;&gt;21 -->\r\n",
       "<g id=\"edge30\" class=\"edge\">\r\n",
       "<title>18&#45;&gt;21</title>\r\n",
       "<path fill=\"none\" stroke=\"black\" d=\"M387,-359.7C387,-351.98 387,-342.71 387,-334.11\"/>\r\n",
       "<polygon fill=\"black\" stroke=\"black\" points=\"390.5,-334.1 387,-324.1 383.5,-334.1 390.5,-334.1\"/>\r\n",
       "</g>\r\n",
       "<!-- 22 -->\r\n",
       "<g id=\"node25\" class=\"node\">\r\n",
       "<title>22</title>\r\n",
       "<ellipse fill=\"#9d7272\" stroke=\"#9d7272\" cx=\"459\" cy=\"-306\" rx=\"27\" ry=\"18\"/>\r\n",
       "<text text-anchor=\"middle\" x=\"459\" y=\"-302.3\" font-family=\"Times New Roman,serif\" font-size=\"14.00\">0</text>\r\n",
       "</g>\r\n",
       "<!-- 19&#45;&gt;22 -->\r\n",
       "<g id=\"edge31\" class=\"edge\">\r\n",
       "<title>19&#45;&gt;22</title>\r\n",
       "<path fill=\"none\" stroke=\"black\" d=\"M459,-359.7C459,-351.98 459,-342.71 459,-334.11\"/>\r\n",
       "<polygon fill=\"black\" stroke=\"black\" points=\"462.5,-334.1 459,-324.1 455.5,-334.1 462.5,-334.1\"/>\r\n",
       "</g>\r\n",
       "<!-- 20&#45;&gt;22 -->\r\n",
       "<g id=\"edge32\" class=\"edge\">\r\n",
       "<title>20&#45;&gt;22</title>\r\n",
       "<path fill=\"none\" stroke=\"black\" d=\"M516.43,-362.83C506.25,-352.94 492.48,-339.55 480.97,-328.36\"/>\r\n",
       "<polygon fill=\"black\" stroke=\"black\" points=\"483.41,-325.85 473.8,-321.38 478.53,-330.87 483.41,-325.85\"/>\r\n",
       "</g>\r\n",
       "<!-- 23 -->\r\n",
       "<g id=\"node26\" class=\"node\">\r\n",
       "<title>23</title>\r\n",
       "<ellipse fill=\"#d17b7b\" stroke=\"#d17b7b\" cx=\"459\" cy=\"-234\" rx=\"27\" ry=\"18\"/>\r\n",
       "<text text-anchor=\"middle\" x=\"459\" y=\"-230.3\" font-family=\"Times New Roman,serif\" font-size=\"14.00\">0</text>\r\n",
       "</g>\r\n",
       "<!-- 21&#45;&gt;23 -->\r\n",
       "<g id=\"edge33\" class=\"edge\">\r\n",
       "<title>21&#45;&gt;23</title>\r\n",
       "<path fill=\"none\" stroke=\"black\" d=\"M401.57,-290.83C411.75,-280.94 425.52,-267.55 437.03,-256.36\"/>\r\n",
       "<polygon fill=\"black\" stroke=\"black\" points=\"439.47,-258.87 444.2,-249.38 434.59,-253.85 439.47,-258.87\"/>\r\n",
       "</g>\r\n",
       "<!-- 22&#45;&gt;23 -->\r\n",
       "<g id=\"edge34\" class=\"edge\">\r\n",
       "<title>22&#45;&gt;23</title>\r\n",
       "<path fill=\"none\" stroke=\"black\" d=\"M459,-287.7C459,-279.98 459,-270.71 459,-262.11\"/>\r\n",
       "<polygon fill=\"black\" stroke=\"black\" points=\"462.5,-262.1 459,-252.1 455.5,-262.1 462.5,-262.1\"/>\r\n",
       "</g>\r\n",
       "<!-- 24 -->\r\n",
       "<g id=\"node27\" class=\"node\">\r\n",
       "<title>24</title>\r\n",
       "<ellipse fill=\"#d17b7b\" stroke=\"#d17b7b\" cx=\"315\" cy=\"-162\" rx=\"27\" ry=\"18\"/>\r\n",
       "<text text-anchor=\"middle\" x=\"315\" y=\"-158.3\" font-family=\"Times New Roman,serif\" font-size=\"14.00\">0</text>\r\n",
       "</g>\r\n",
       "<!-- 23&#45;&gt;24 -->\r\n",
       "<g id=\"edge35\" class=\"edge\">\r\n",
       "<title>23&#45;&gt;24</title>\r\n",
       "<path fill=\"none\" stroke=\"black\" d=\"M437.75,-222.67C413.4,-210.83 373.28,-191.33 345.57,-177.86\"/>\r\n",
       "<polygon fill=\"black\" stroke=\"black\" points=\"346.86,-174.6 336.33,-173.37 343.8,-180.89 346.86,-174.6\"/>\r\n",
       "</g>\r\n",
       "<!-- 25 -->\r\n",
       "<g id=\"node28\" class=\"node\">\r\n",
       "<title>25</title>\r\n",
       "<ellipse fill=\"#d17b7b\" stroke=\"#d17b7b\" cx=\"387\" cy=\"-162\" rx=\"27\" ry=\"18\"/>\r\n",
       "<text text-anchor=\"middle\" x=\"387\" y=\"-158.3\" font-family=\"Times New Roman,serif\" font-size=\"14.00\">0</text>\r\n",
       "</g>\r\n",
       "<!-- 23&#45;&gt;25 -->\r\n",
       "<g id=\"edge36\" class=\"edge\">\r\n",
       "<title>23&#45;&gt;25</title>\r\n",
       "<path fill=\"none\" stroke=\"black\" d=\"M444.43,-218.83C434.25,-208.94 420.48,-195.55 408.97,-184.36\"/>\r\n",
       "<polygon fill=\"black\" stroke=\"black\" points=\"411.41,-181.85 401.8,-177.38 406.53,-186.87 411.41,-181.85\"/>\r\n",
       "</g>\r\n",
       "<!-- 26 -->\r\n",
       "<g id=\"node29\" class=\"node\">\r\n",
       "<title>26</title>\r\n",
       "<ellipse fill=\"#d17b7b\" stroke=\"#d17b7b\" cx=\"459\" cy=\"-162\" rx=\"27\" ry=\"18\"/>\r\n",
       "<text text-anchor=\"middle\" x=\"459\" y=\"-158.3\" font-family=\"Times New Roman,serif\" font-size=\"14.00\">0</text>\r\n",
       "</g>\r\n",
       "<!-- 23&#45;&gt;26 -->\r\n",
       "<g id=\"edge37\" class=\"edge\">\r\n",
       "<title>23&#45;&gt;26</title>\r\n",
       "<path fill=\"none\" stroke=\"black\" d=\"M459,-215.7C459,-207.98 459,-198.71 459,-190.11\"/>\r\n",
       "<polygon fill=\"black\" stroke=\"black\" points=\"462.5,-190.1 459,-180.1 455.5,-190.1 462.5,-190.1\"/>\r\n",
       "</g>\r\n",
       "<!-- 27 -->\r\n",
       "<g id=\"node30\" class=\"node\">\r\n",
       "<title>27</title>\r\n",
       "<ellipse fill=\"#d17b7b\" stroke=\"#d17b7b\" cx=\"531\" cy=\"-162\" rx=\"27\" ry=\"18\"/>\r\n",
       "<text text-anchor=\"middle\" x=\"531\" y=\"-158.3\" font-family=\"Times New Roman,serif\" font-size=\"14.00\">0</text>\r\n",
       "</g>\r\n",
       "<!-- 23&#45;&gt;27 -->\r\n",
       "<g id=\"edge38\" class=\"edge\">\r\n",
       "<title>23&#45;&gt;27</title>\r\n",
       "<path fill=\"none\" stroke=\"black\" d=\"M473.57,-218.83C483.75,-208.94 497.52,-195.55 509.03,-184.36\"/>\r\n",
       "<polygon fill=\"black\" stroke=\"black\" points=\"511.47,-186.87 516.2,-177.38 506.59,-181.85 511.47,-186.87\"/>\r\n",
       "</g>\r\n",
       "<!-- 28 -->\r\n",
       "<g id=\"node31\" class=\"node\">\r\n",
       "<title>28</title>\r\n",
       "<ellipse fill=\"#d17b7b\" stroke=\"#d17b7b\" cx=\"387\" cy=\"-90\" rx=\"27\" ry=\"18\"/>\r\n",
       "<text text-anchor=\"middle\" x=\"387\" y=\"-86.3\" font-family=\"Times New Roman,serif\" font-size=\"14.00\">0</text>\r\n",
       "</g>\r\n",
       "<!-- 24&#45;&gt;28 -->\r\n",
       "<g id=\"edge39\" class=\"edge\">\r\n",
       "<title>24&#45;&gt;28</title>\r\n",
       "<path fill=\"none\" stroke=\"black\" d=\"M329.57,-146.83C339.75,-136.94 353.52,-123.55 365.03,-112.36\"/>\r\n",
       "<polygon fill=\"black\" stroke=\"black\" points=\"367.47,-114.87 372.2,-105.38 362.59,-109.85 367.47,-114.87\"/>\r\n",
       "</g>\r\n",
       "<!-- 25&#45;&gt;28 -->\r\n",
       "<g id=\"edge40\" class=\"edge\">\r\n",
       "<title>25&#45;&gt;28</title>\r\n",
       "<path fill=\"none\" stroke=\"black\" d=\"M387,-143.7C387,-135.98 387,-126.71 387,-118.11\"/>\r\n",
       "<polygon fill=\"black\" stroke=\"black\" points=\"390.5,-118.1 387,-108.1 383.5,-118.1 390.5,-118.1\"/>\r\n",
       "</g>\r\n",
       "<!-- 29 -->\r\n",
       "<g id=\"node32\" class=\"node\">\r\n",
       "<title>29</title>\r\n",
       "<ellipse fill=\"#d17b7b\" stroke=\"#d17b7b\" cx=\"459\" cy=\"-90\" rx=\"27\" ry=\"18\"/>\r\n",
       "<text text-anchor=\"middle\" x=\"459\" y=\"-86.3\" font-family=\"Times New Roman,serif\" font-size=\"14.00\">0</text>\r\n",
       "</g>\r\n",
       "<!-- 26&#45;&gt;29 -->\r\n",
       "<g id=\"edge41\" class=\"edge\">\r\n",
       "<title>26&#45;&gt;29</title>\r\n",
       "<path fill=\"none\" stroke=\"black\" d=\"M459,-143.7C459,-135.98 459,-126.71 459,-118.11\"/>\r\n",
       "<polygon fill=\"black\" stroke=\"black\" points=\"462.5,-118.1 459,-108.1 455.5,-118.1 462.5,-118.1\"/>\r\n",
       "</g>\r\n",
       "<!-- 27&#45;&gt;29 -->\r\n",
       "<g id=\"edge42\" class=\"edge\">\r\n",
       "<title>27&#45;&gt;29</title>\r\n",
       "<path fill=\"none\" stroke=\"black\" d=\"M516.43,-146.83C506.25,-136.94 492.48,-123.55 480.97,-112.36\"/>\r\n",
       "<polygon fill=\"black\" stroke=\"black\" points=\"483.41,-109.85 473.8,-105.38 478.53,-114.87 483.41,-109.85\"/>\r\n",
       "</g>\r\n",
       "<!-- 30 -->\r\n",
       "<g id=\"node33\" class=\"node\">\r\n",
       "<title>30</title>\r\n",
       "<ellipse fill=\"#e17d7d\" stroke=\"#e17d7d\" cx=\"423\" cy=\"-18\" rx=\"29.8\" ry=\"18\"/>\r\n",
       "<text text-anchor=\"middle\" x=\"423\" y=\"-14.3\" font-family=\"Times New Roman,serif\" font-size=\"14.00\">&#45;9.35</text>\r\n",
       "<text text-anchor=\"middle\" x=\"389.6\" y=\"-39.8\" font-family=\"Times New Roman,serif\" font-size=\"14.00\">2</text>\r\n",
       "</g>\r\n",
       "<!-- 28&#45;&gt;30 -->\r\n",
       "<g id=\"edge43\" class=\"edge\">\r\n",
       "<title>28&#45;&gt;30</title>\r\n",
       "<path fill=\"none\" stroke=\"black\" d=\"M395.35,-72.76C399.65,-64.4 404.99,-54.02 409.83,-44.61\"/>\r\n",
       "<polygon fill=\"black\" stroke=\"black\" points=\"412.98,-46.13 414.45,-35.63 406.76,-42.93 412.98,-46.13\"/>\r\n",
       "</g>\r\n",
       "<!-- 29&#45;&gt;30 -->\r\n",
       "<g id=\"edge44\" class=\"edge\">\r\n",
       "<title>29&#45;&gt;30</title>\r\n",
       "<path fill=\"none\" stroke=\"black\" d=\"M450.65,-72.76C446.35,-64.4 441.01,-54.02 436.17,-44.61\"/>\r\n",
       "<polygon fill=\"black\" stroke=\"black\" points=\"439.24,-42.93 431.55,-35.63 433.02,-46.13 439.24,-42.93\"/>\r\n",
       "</g>\r\n",
       "<!-- 36 -->\r\n",
       "<g id=\"node38\" class=\"node\">\r\n",
       "<title>36</title>\r\n",
       "<ellipse fill=\"#9d7272\" stroke=\"#9d7272\" cx=\"675\" cy=\"-306\" rx=\"27\" ry=\"18\"/>\r\n",
       "<text text-anchor=\"middle\" x=\"675\" y=\"-302.3\" font-family=\"Times New Roman,serif\" font-size=\"14.00\">0</text>\r\n",
       "</g>\r\n",
       "<!-- 32&#45;&gt;36 -->\r\n",
       "<g id=\"edge49\" class=\"edge\">\r\n",
       "<title>32&#45;&gt;36</title>\r\n",
       "<path fill=\"none\" stroke=\"black\" d=\"M617.57,-362.83C627.75,-352.94 641.52,-339.55 653.03,-328.36\"/>\r\n",
       "<polygon fill=\"black\" stroke=\"black\" points=\"655.47,-330.87 660.2,-321.38 650.59,-325.85 655.47,-330.87\"/>\r\n",
       "</g>\r\n",
       "<!-- 33&#45;&gt;36 -->\r\n",
       "<g id=\"edge50\" class=\"edge\">\r\n",
       "<title>33&#45;&gt;36</title>\r\n",
       "<path fill=\"none\" stroke=\"black\" d=\"M675,-359.7C675,-351.98 675,-342.71 675,-334.11\"/>\r\n",
       "<polygon fill=\"black\" stroke=\"black\" points=\"678.5,-334.1 675,-324.1 671.5,-334.1 678.5,-334.1\"/>\r\n",
       "</g>\r\n",
       "<!-- 37 -->\r\n",
       "<g id=\"node39\" class=\"node\">\r\n",
       "<title>37</title>\r\n",
       "<ellipse fill=\"#9d7272\" stroke=\"#9d7272\" cx=\"747\" cy=\"-306\" rx=\"27\" ry=\"18\"/>\r\n",
       "<text text-anchor=\"middle\" x=\"747\" y=\"-302.3\" font-family=\"Times New Roman,serif\" font-size=\"14.00\">0</text>\r\n",
       "</g>\r\n",
       "<!-- 34&#45;&gt;37 -->\r\n",
       "<g id=\"edge51\" class=\"edge\">\r\n",
       "<title>34&#45;&gt;37</title>\r\n",
       "<path fill=\"none\" stroke=\"black\" d=\"M747,-359.7C747,-351.98 747,-342.71 747,-334.11\"/>\r\n",
       "<polygon fill=\"black\" stroke=\"black\" points=\"750.5,-334.1 747,-324.1 743.5,-334.1 750.5,-334.1\"/>\r\n",
       "</g>\r\n",
       "<!-- 35&#45;&gt;37 -->\r\n",
       "<g id=\"edge52\" class=\"edge\">\r\n",
       "<title>35&#45;&gt;37</title>\r\n",
       "<path fill=\"none\" stroke=\"black\" d=\"M804.43,-362.83C794.25,-352.94 780.48,-339.55 768.97,-328.36\"/>\r\n",
       "<polygon fill=\"black\" stroke=\"black\" points=\"771.41,-325.85 761.8,-321.38 766.53,-330.87 771.41,-325.85\"/>\r\n",
       "</g>\r\n",
       "<!-- 38 -->\r\n",
       "<g id=\"node40\" class=\"node\">\r\n",
       "<title>38</title>\r\n",
       "<ellipse fill=\"#d17b7b\" stroke=\"#d17b7b\" cx=\"711\" cy=\"-234\" rx=\"27\" ry=\"18\"/>\r\n",
       "<text text-anchor=\"middle\" x=\"711\" y=\"-230.3\" font-family=\"Times New Roman,serif\" font-size=\"14.00\">0</text>\r\n",
       "</g>\r\n",
       "<!-- 36&#45;&gt;38 -->\r\n",
       "<g id=\"edge53\" class=\"edge\">\r\n",
       "<title>36&#45;&gt;38</title>\r\n",
       "<path fill=\"none\" stroke=\"black\" d=\"M683.35,-288.76C687.71,-280.28 693.15,-269.71 698.04,-260.2\"/>\r\n",
       "<polygon fill=\"black\" stroke=\"black\" points=\"701.23,-261.64 702.7,-251.15 695.01,-258.44 701.23,-261.64\"/>\r\n",
       "</g>\r\n",
       "<!-- 37&#45;&gt;38 -->\r\n",
       "<g id=\"edge54\" class=\"edge\">\r\n",
       "<title>37&#45;&gt;38</title>\r\n",
       "<path fill=\"none\" stroke=\"black\" d=\"M738.65,-288.76C734.29,-280.28 728.85,-269.71 723.96,-260.2\"/>\r\n",
       "<polygon fill=\"black\" stroke=\"black\" points=\"726.99,-258.44 719.3,-251.15 720.77,-261.64 726.99,-258.44\"/>\r\n",
       "</g>\r\n",
       "<!-- 39 -->\r\n",
       "<g id=\"node41\" class=\"node\">\r\n",
       "<title>39</title>\r\n",
       "<ellipse fill=\"#d17b7b\" stroke=\"#d17b7b\" cx=\"604\" cy=\"-162\" rx=\"27\" ry=\"18\"/>\r\n",
       "<text text-anchor=\"middle\" x=\"604\" y=\"-158.3\" font-family=\"Times New Roman,serif\" font-size=\"14.00\">0</text>\r\n",
       "</g>\r\n",
       "<!-- 38&#45;&gt;39 -->\r\n",
       "<g id=\"edge55\" class=\"edge\">\r\n",
       "<title>38&#45;&gt;39</title>\r\n",
       "<path fill=\"none\" stroke=\"black\" d=\"M692.36,-220.81C675.51,-209.78 650.49,-193.41 631.37,-180.9\"/>\r\n",
       "<polygon fill=\"black\" stroke=\"black\" points=\"633.07,-177.83 622.78,-175.29 629.24,-183.69 633.07,-177.83\"/>\r\n",
       "</g>\r\n",
       "<!-- 40 -->\r\n",
       "<g id=\"node42\" class=\"node\">\r\n",
       "<title>40</title>\r\n",
       "<ellipse fill=\"#d17b7b\" stroke=\"#d17b7b\" cx=\"676\" cy=\"-162\" rx=\"27\" ry=\"18\"/>\r\n",
       "<text text-anchor=\"middle\" x=\"676\" y=\"-158.3\" font-family=\"Times New Roman,serif\" font-size=\"14.00\">0</text>\r\n",
       "</g>\r\n",
       "<!-- 38&#45;&gt;40 -->\r\n",
       "<g id=\"edge56\" class=\"edge\">\r\n",
       "<title>38&#45;&gt;40</title>\r\n",
       "<path fill=\"none\" stroke=\"black\" d=\"M702.88,-216.76C698.7,-208.4 693.51,-198.02 688.8,-188.61\"/>\r\n",
       "<polygon fill=\"black\" stroke=\"black\" points=\"691.92,-187.01 684.32,-179.63 685.66,-190.14 691.92,-187.01\"/>\r\n",
       "</g>\r\n",
       "<!-- 41 -->\r\n",
       "<g id=\"node43\" class=\"node\">\r\n",
       "<title>41</title>\r\n",
       "<ellipse fill=\"#d17b7b\" stroke=\"#d17b7b\" cx=\"748\" cy=\"-162\" rx=\"27\" ry=\"18\"/>\r\n",
       "<text text-anchor=\"middle\" x=\"748\" y=\"-158.3\" font-family=\"Times New Roman,serif\" font-size=\"14.00\">0</text>\r\n",
       "</g>\r\n",
       "<!-- 38&#45;&gt;41 -->\r\n",
       "<g id=\"edge57\" class=\"edge\">\r\n",
       "<title>38&#45;&gt;41</title>\r\n",
       "<path fill=\"none\" stroke=\"black\" d=\"M719.58,-216.76C724.06,-208.28 729.65,-197.71 734.68,-188.2\"/>\r\n",
       "<polygon fill=\"black\" stroke=\"black\" points=\"737.89,-189.62 739.46,-179.15 731.7,-186.35 737.89,-189.62\"/>\r\n",
       "</g>\r\n",
       "<!-- 42 -->\r\n",
       "<g id=\"node44\" class=\"node\">\r\n",
       "<title>42</title>\r\n",
       "<ellipse fill=\"#d17b7b\" stroke=\"#d17b7b\" cx=\"820\" cy=\"-162\" rx=\"27\" ry=\"18\"/>\r\n",
       "<text text-anchor=\"middle\" x=\"820\" y=\"-158.3\" font-family=\"Times New Roman,serif\" font-size=\"14.00\">0</text>\r\n",
       "</g>\r\n",
       "<!-- 38&#45;&gt;42 -->\r\n",
       "<g id=\"edge58\" class=\"edge\">\r\n",
       "<title>38&#45;&gt;42</title>\r\n",
       "<path fill=\"none\" stroke=\"black\" d=\"M729.99,-220.81C747.34,-209.67 773.19,-193.06 792.74,-180.5\"/>\r\n",
       "<polygon fill=\"black\" stroke=\"black\" points=\"794.71,-183.4 801.23,-175.05 790.93,-177.51 794.71,-183.4\"/>\r\n",
       "</g>\r\n",
       "<!-- 43 -->\r\n",
       "<g id=\"node45\" class=\"node\">\r\n",
       "<title>43</title>\r\n",
       "<ellipse fill=\"#d17b7b\" stroke=\"#d17b7b\" cx=\"676\" cy=\"-90\" rx=\"27\" ry=\"18\"/>\r\n",
       "<text text-anchor=\"middle\" x=\"676\" y=\"-86.3\" font-family=\"Times New Roman,serif\" font-size=\"14.00\">0</text>\r\n",
       "</g>\r\n",
       "<!-- 39&#45;&gt;43 -->\r\n",
       "<g id=\"edge59\" class=\"edge\">\r\n",
       "<title>39&#45;&gt;43</title>\r\n",
       "<path fill=\"none\" stroke=\"black\" d=\"M618.57,-146.83C628.75,-136.94 642.52,-123.55 654.03,-112.36\"/>\r\n",
       "<polygon fill=\"black\" stroke=\"black\" points=\"656.47,-114.87 661.2,-105.38 651.59,-109.85 656.47,-114.87\"/>\r\n",
       "</g>\r\n",
       "<!-- 40&#45;&gt;43 -->\r\n",
       "<g id=\"edge60\" class=\"edge\">\r\n",
       "<title>40&#45;&gt;43</title>\r\n",
       "<path fill=\"none\" stroke=\"black\" d=\"M676,-143.7C676,-135.98 676,-126.71 676,-118.11\"/>\r\n",
       "<polygon fill=\"black\" stroke=\"black\" points=\"679.5,-118.1 676,-108.1 672.5,-118.1 679.5,-118.1\"/>\r\n",
       "</g>\r\n",
       "<!-- 44 -->\r\n",
       "<g id=\"node46\" class=\"node\">\r\n",
       "<title>44</title>\r\n",
       "<ellipse fill=\"#d17b7b\" stroke=\"#d17b7b\" cx=\"748\" cy=\"-90\" rx=\"27\" ry=\"18\"/>\r\n",
       "<text text-anchor=\"middle\" x=\"748\" y=\"-86.3\" font-family=\"Times New Roman,serif\" font-size=\"14.00\">0</text>\r\n",
       "</g>\r\n",
       "<!-- 41&#45;&gt;44 -->\r\n",
       "<g id=\"edge61\" class=\"edge\">\r\n",
       "<title>41&#45;&gt;44</title>\r\n",
       "<path fill=\"none\" stroke=\"black\" d=\"M748,-143.7C748,-135.98 748,-126.71 748,-118.11\"/>\r\n",
       "<polygon fill=\"black\" stroke=\"black\" points=\"751.5,-118.1 748,-108.1 744.5,-118.1 751.5,-118.1\"/>\r\n",
       "</g>\r\n",
       "<!-- 42&#45;&gt;44 -->\r\n",
       "<g id=\"edge62\" class=\"edge\">\r\n",
       "<title>42&#45;&gt;44</title>\r\n",
       "<path fill=\"none\" stroke=\"black\" d=\"M805.43,-146.83C795.25,-136.94 781.48,-123.55 769.97,-112.36\"/>\r\n",
       "<polygon fill=\"black\" stroke=\"black\" points=\"772.41,-109.85 762.8,-105.38 767.53,-114.87 772.41,-109.85\"/>\r\n",
       "</g>\r\n",
       "<!-- 45 -->\r\n",
       "<g id=\"node47\" class=\"node\">\r\n",
       "<title>45</title>\r\n",
       "<ellipse fill=\"#e17d7d\" stroke=\"#e17d7d\" cx=\"712\" cy=\"-18\" rx=\"29.5\" ry=\"18\"/>\r\n",
       "<text text-anchor=\"middle\" x=\"712\" y=\"-14.3\" font-family=\"Times New Roman,serif\" font-size=\"14.00\">&#45;11.4</text>\r\n",
       "<text text-anchor=\"middle\" x=\"679.25\" y=\"-39.8\" font-family=\"Times New Roman,serif\" font-size=\"14.00\">3</text>\r\n",
       "</g>\r\n",
       "<!-- 43&#45;&gt;45 -->\r\n",
       "<g id=\"edge63\" class=\"edge\">\r\n",
       "<title>43&#45;&gt;45</title>\r\n",
       "<path fill=\"none\" stroke=\"black\" d=\"M684.35,-72.76C688.65,-64.4 693.99,-54.02 698.83,-44.61\"/>\r\n",
       "<polygon fill=\"black\" stroke=\"black\" points=\"701.98,-46.13 703.45,-35.63 695.76,-42.93 701.98,-46.13\"/>\r\n",
       "</g>\r\n",
       "<!-- 44&#45;&gt;45 -->\r\n",
       "<g id=\"edge64\" class=\"edge\">\r\n",
       "<title>44&#45;&gt;45</title>\r\n",
       "<path fill=\"none\" stroke=\"black\" d=\"M739.65,-72.76C735.35,-64.4 730.01,-54.02 725.17,-44.61\"/>\r\n",
       "<polygon fill=\"black\" stroke=\"black\" points=\"728.24,-42.93 720.55,-35.63 722.02,-46.13 728.24,-42.93\"/>\r\n",
       "</g>\r\n",
       "<!-- 51 -->\r\n",
       "<g id=\"node52\" class=\"node\">\r\n",
       "<title>51</title>\r\n",
       "<ellipse fill=\"#9d7272\" stroke=\"#9d7272\" cx=\"972\" cy=\"-306\" rx=\"27\" ry=\"18\"/>\r\n",
       "<text text-anchor=\"middle\" x=\"972\" y=\"-302.3\" font-family=\"Times New Roman,serif\" font-size=\"14.00\">0</text>\r\n",
       "</g>\r\n",
       "<!-- 47&#45;&gt;51 -->\r\n",
       "<g id=\"edge69\" class=\"edge\">\r\n",
       "<title>47&#45;&gt;51</title>\r\n",
       "<path fill=\"none\" stroke=\"black\" d=\"M910.16,-362.5C921.29,-352.51 936.25,-339.09 948.66,-327.94\"/>\r\n",
       "<polygon fill=\"black\" stroke=\"black\" points=\"951.29,-330.29 956.39,-321.01 946.61,-325.08 951.29,-330.29\"/>\r\n",
       "</g>\r\n",
       "<!-- 48&#45;&gt;51 -->\r\n",
       "<g id=\"edge70\" class=\"edge\">\r\n",
       "<title>48&#45;&gt;51</title>\r\n",
       "<path fill=\"none\" stroke=\"black\" d=\"M972,-359.7C972,-351.98 972,-342.71 972,-334.11\"/>\r\n",
       "<polygon fill=\"black\" stroke=\"black\" points=\"975.5,-334.1 972,-324.1 968.5,-334.1 975.5,-334.1\"/>\r\n",
       "</g>\r\n",
       "<!-- 52 -->\r\n",
       "<g id=\"node53\" class=\"node\">\r\n",
       "<title>52</title>\r\n",
       "<ellipse fill=\"#9d7272\" stroke=\"#9d7272\" cx=\"1050\" cy=\"-306\" rx=\"27\" ry=\"18\"/>\r\n",
       "<text text-anchor=\"middle\" x=\"1050\" y=\"-302.3\" font-family=\"Times New Roman,serif\" font-size=\"14.00\">0</text>\r\n",
       "</g>\r\n",
       "<!-- 49&#45;&gt;52 -->\r\n",
       "<g id=\"edge71\" class=\"edge\">\r\n",
       "<title>49&#45;&gt;52</title>\r\n",
       "<path fill=\"none\" stroke=\"black\" d=\"M1050,-359.7C1050,-351.98 1050,-342.71 1050,-334.11\"/>\r\n",
       "<polygon fill=\"black\" stroke=\"black\" points=\"1053.5,-334.1 1050,-324.1 1046.5,-334.1 1053.5,-334.1\"/>\r\n",
       "</g>\r\n",
       "<!-- 50&#45;&gt;52 -->\r\n",
       "<g id=\"edge72\" class=\"edge\">\r\n",
       "<title>50&#45;&gt;52</title>\r\n",
       "<path fill=\"none\" stroke=\"black\" d=\"M1109.82,-362.83C1099.15,-352.87 1084.68,-339.37 1072.65,-328.14\"/>\r\n",
       "<polygon fill=\"black\" stroke=\"black\" points=\"1074.85,-325.41 1065.15,-321.14 1070.08,-330.53 1074.85,-325.41\"/>\r\n",
       "</g>\r\n",
       "<!-- 53 -->\r\n",
       "<g id=\"node54\" class=\"node\">\r\n",
       "<title>53</title>\r\n",
       "<ellipse fill=\"#d17b7b\" stroke=\"#d17b7b\" cx=\"1009\" cy=\"-234\" rx=\"27\" ry=\"18\"/>\r\n",
       "<text text-anchor=\"middle\" x=\"1009\" y=\"-230.3\" font-family=\"Times New Roman,serif\" font-size=\"14.00\">0</text>\r\n",
       "</g>\r\n",
       "<!-- 51&#45;&gt;53 -->\r\n",
       "<g id=\"edge73\" class=\"edge\">\r\n",
       "<title>51&#45;&gt;53</title>\r\n",
       "<path fill=\"none\" stroke=\"black\" d=\"M980.58,-288.76C985.06,-280.28 990.65,-269.71 995.68,-260.2\"/>\r\n",
       "<polygon fill=\"black\" stroke=\"black\" points=\"998.89,-261.62 1000.46,-251.15 992.7,-258.35 998.89,-261.62\"/>\r\n",
       "</g>\r\n",
       "<!-- 52&#45;&gt;53 -->\r\n",
       "<g id=\"edge74\" class=\"edge\">\r\n",
       "<title>52&#45;&gt;53</title>\r\n",
       "<path fill=\"none\" stroke=\"black\" d=\"M1040.49,-288.76C1035.47,-280.19 1029.2,-269.49 1023.58,-259.9\"/>\r\n",
       "<polygon fill=\"black\" stroke=\"black\" points=\"1026.53,-258.01 1018.46,-251.15 1020.49,-261.55 1026.53,-258.01\"/>\r\n",
       "</g>\r\n",
       "<!-- 54 -->\r\n",
       "<g id=\"node55\" class=\"node\">\r\n",
       "<title>54</title>\r\n",
       "<ellipse fill=\"#be7777\" stroke=\"#be7777\" cx=\"896\" cy=\"-162\" rx=\"29.8\" ry=\"18\"/>\r\n",
       "<text text-anchor=\"middle\" x=\"896\" y=\"-158.3\" font-family=\"Times New Roman,serif\" font-size=\"14.00\">&#45;5.61</text>\r\n",
       "<text text-anchor=\"middle\" x=\"862.6\" y=\"-183.8\" font-family=\"Times New Roman,serif\" font-size=\"14.00\">5</text>\r\n",
       "</g>\r\n",
       "<!-- 53&#45;&gt;54 -->\r\n",
       "<g id=\"edge75\" class=\"edge\">\r\n",
       "<title>53&#45;&gt;54</title>\r\n",
       "<path fill=\"none\" stroke=\"black\" d=\"M989.83,-221.13C971.95,-210.05 945.04,-193.38 924.62,-180.73\"/>\r\n",
       "<polygon fill=\"black\" stroke=\"black\" points=\"926.37,-177.7 916.03,-175.4 922.68,-183.65 926.37,-177.7\"/>\r\n",
       "</g>\r\n",
       "<!-- 55 -->\r\n",
       "<g id=\"node56\" class=\"node\">\r\n",
       "<title>55</title>\r\n",
       "<ellipse fill=\"#be7777\" stroke=\"#be7777\" cx=\"971\" cy=\"-162\" rx=\"27\" ry=\"18\"/>\r\n",
       "<text text-anchor=\"middle\" x=\"971\" y=\"-158.3\" font-family=\"Times New Roman,serif\" font-size=\"14.00\">9.9</text>\r\n",
       "<text text-anchor=\"middle\" x=\"940.5\" y=\"-183.8\" font-family=\"Times New Roman,serif\" font-size=\"14.00\">6</text>\r\n",
       "</g>\r\n",
       "<!-- 53&#45;&gt;55 -->\r\n",
       "<g id=\"edge76\" class=\"edge\">\r\n",
       "<title>53&#45;&gt;55</title>\r\n",
       "<path fill=\"none\" stroke=\"black\" d=\"M1000.19,-216.76C995.58,-208.28 989.84,-197.71 984.68,-188.2\"/>\r\n",
       "<polygon fill=\"black\" stroke=\"black\" points=\"987.61,-186.27 979.77,-179.15 981.46,-189.61 987.61,-186.27\"/>\r\n",
       "</g>\r\n",
       "<!-- 56 -->\r\n",
       "<g id=\"node57\" class=\"node\">\r\n",
       "<title>56</title>\r\n",
       "<ellipse fill=\"#b27676\" stroke=\"#b27676\" cx=\"1047\" cy=\"-162\" rx=\"31.4\" ry=\"18\"/>\r\n",
       "<text text-anchor=\"middle\" x=\"1047\" y=\"-158.3\" font-family=\"Times New Roman,serif\" font-size=\"14.00\">10.33</text>\r\n",
       "<text text-anchor=\"middle\" x=\"998.3\" y=\"-183.8\" font-family=\"Times New Roman,serif\" font-size=\"14.00\">11, 14</text>\r\n",
       "</g>\r\n",
       "<!-- 53&#45;&gt;56 -->\r\n",
       "<g id=\"edge77\" class=\"edge\">\r\n",
       "<title>53&#45;&gt;56</title>\r\n",
       "<path fill=\"none\" stroke=\"black\" d=\"M1017.81,-216.76C1022.35,-208.4 1027.99,-198.02 1033.1,-188.61\"/>\r\n",
       "<polygon fill=\"black\" stroke=\"black\" points=\"1036.28,-190.09 1037.97,-179.63 1030.12,-186.75 1036.28,-190.09\"/>\r\n",
       "</g>\r\n",
       "<!-- 57 -->\r\n",
       "<g id=\"node58\" class=\"node\">\r\n",
       "<title>57</title>\r\n",
       "<ellipse fill=\"#b27676\" stroke=\"#b27676\" cx=\"1123\" cy=\"-162\" rx=\"27\" ry=\"18\"/>\r\n",
       "<text text-anchor=\"middle\" x=\"1123\" y=\"-158.3\" font-family=\"Times New Roman,serif\" font-size=\"14.00\">0.93</text>\r\n",
       "<text text-anchor=\"middle\" x=\"1078.5\" y=\"-183.8\" font-family=\"Times New Roman,serif\" font-size=\"14.00\">13, 15</text>\r\n",
       "</g>\r\n",
       "<!-- 53&#45;&gt;57 -->\r\n",
       "<g id=\"edge78\" class=\"edge\">\r\n",
       "<title>53&#45;&gt;57</title>\r\n",
       "<path fill=\"none\" stroke=\"black\" d=\"M1028.34,-221.13C1046.6,-209.91 1074.19,-192.97 1094.89,-180.26\"/>\r\n",
       "<polygon fill=\"black\" stroke=\"black\" points=\"1096.88,-183.15 1103.57,-174.93 1093.21,-177.18 1096.88,-183.15\"/>\r\n",
       "</g>\r\n",
       "<!-- 58 -->\r\n",
       "<g id=\"node59\" class=\"node\">\r\n",
       "<title>58</title>\r\n",
       "<ellipse fill=\"#be7777\" stroke=\"#be7777\" cx=\"971\" cy=\"-90\" rx=\"27\" ry=\"18\"/>\r\n",
       "<text text-anchor=\"middle\" x=\"971\" y=\"-86.3\" font-family=\"Times New Roman,serif\" font-size=\"14.00\">1.54</text>\r\n",
       "<text text-anchor=\"middle\" x=\"937\" y=\"-111.8\" font-family=\"Times New Roman,serif\" font-size=\"14.00\">16</text>\r\n",
       "</g>\r\n",
       "<!-- 54&#45;&gt;58 -->\r\n",
       "<g id=\"edge79\" class=\"edge\">\r\n",
       "<title>54&#45;&gt;58</title>\r\n",
       "<path fill=\"none\" stroke=\"black\" d=\"M911.54,-146.5C922.24,-136.51 936.62,-123.09 948.56,-111.94\"/>\r\n",
       "<polygon fill=\"black\" stroke=\"black\" points=\"951.07,-114.39 955.99,-105.01 946.29,-109.27 951.07,-114.39\"/>\r\n",
       "</g>\r\n",
       "<!-- 55&#45;&gt;58 -->\r\n",
       "<g id=\"edge80\" class=\"edge\">\r\n",
       "<title>55&#45;&gt;58</title>\r\n",
       "<path fill=\"none\" stroke=\"black\" d=\"M971,-143.7C971,-135.98 971,-126.71 971,-118.11\"/>\r\n",
       "<polygon fill=\"black\" stroke=\"black\" points=\"974.5,-118.1 971,-108.1 967.5,-118.1 974.5,-118.1\"/>\r\n",
       "</g>\r\n",
       "<!-- 59 -->\r\n",
       "<g id=\"node60\" class=\"node\">\r\n",
       "<title>59</title>\r\n",
       "<ellipse fill=\"#be7777\" stroke=\"#be7777\" cx=\"1047\" cy=\"-90\" rx=\"31.4\" ry=\"18\"/>\r\n",
       "<text text-anchor=\"middle\" x=\"1047\" y=\"-86.3\" font-family=\"Times New Roman,serif\" font-size=\"14.00\">10.06</text>\r\n",
       "<text text-anchor=\"middle\" x=\"1008.8\" y=\"-111.8\" font-family=\"Times New Roman,serif\" font-size=\"14.00\">12</text>\r\n",
       "</g>\r\n",
       "<!-- 56&#45;&gt;59 -->\r\n",
       "<g id=\"edge81\" class=\"edge\">\r\n",
       "<title>56&#45;&gt;59</title>\r\n",
       "<path fill=\"none\" stroke=\"black\" d=\"M1047,-143.7C1047,-135.98 1047,-126.71 1047,-118.11\"/>\r\n",
       "<polygon fill=\"black\" stroke=\"black\" points=\"1050.5,-118.1 1047,-108.1 1043.5,-118.1 1050.5,-118.1\"/>\r\n",
       "</g>\r\n",
       "<!-- 57&#45;&gt;59 -->\r\n",
       "<g id=\"edge82\" class=\"edge\">\r\n",
       "<title>57&#45;&gt;59</title>\r\n",
       "<path fill=\"none\" stroke=\"black\" d=\"M1107.62,-146.83C1096.95,-137 1082.53,-123.72 1070.43,-112.58\"/>\r\n",
       "<polygon fill=\"black\" stroke=\"black\" points=\"1072.61,-109.83 1062.88,-105.63 1067.86,-114.98 1072.61,-109.83\"/>\r\n",
       "</g>\r\n",
       "<!-- 60 -->\r\n",
       "<g id=\"node61\" class=\"node\">\r\n",
       "<title>60</title>\r\n",
       "<ellipse fill=\"#e17d7d\" stroke=\"#e17d7d\" cx=\"1009\" cy=\"-18\" rx=\"27\" ry=\"18\"/>\r\n",
       "<text text-anchor=\"middle\" x=\"1009\" y=\"-14.3\" font-family=\"Times New Roman,serif\" font-size=\"14.00\">9.87</text>\r\n",
       "<text text-anchor=\"middle\" x=\"978.5\" y=\"-39.8\" font-family=\"Times New Roman,serif\" font-size=\"14.00\">4</text>\r\n",
       "</g>\r\n",
       "<!-- 58&#45;&gt;60 -->\r\n",
       "<g id=\"edge83\" class=\"edge\">\r\n",
       "<title>58&#45;&gt;60</title>\r\n",
       "<path fill=\"none\" stroke=\"black\" d=\"M979.81,-72.76C984.42,-64.28 990.16,-53.71 995.32,-44.2\"/>\r\n",
       "<polygon fill=\"black\" stroke=\"black\" points=\"998.54,-45.61 1000.23,-35.15 992.39,-42.27 998.54,-45.61\"/>\r\n",
       "</g>\r\n",
       "<!-- 59&#45;&gt;60 -->\r\n",
       "<g id=\"edge84\" class=\"edge\">\r\n",
       "<title>59&#45;&gt;60</title>\r\n",
       "<path fill=\"none\" stroke=\"black\" d=\"M1037.99,-72.41C1033.45,-64.04 1027.84,-53.71 1022.77,-44.37\"/>\r\n",
       "<polygon fill=\"black\" stroke=\"black\" points=\"1025.79,-42.59 1017.94,-35.47 1019.64,-45.93 1025.79,-42.59\"/>\r\n",
       "</g>\r\n",
       "</g>\r\n",
       "</svg>\r\n"
      ],
      "text/plain": [
       "<graphviz.dot.Digraph at 0x18882aabca0>"
      ]
     },
     "execution_count": 6,
     "metadata": {},
     "output_type": "execute_result"
    }
   ],
   "source": [
    "# https://stackoverflow.com/questions/25668828/how-to-create-colour-gradient-in-python\n",
    "def colorFader(c1,c2,mix=0): #fade (linear interpolate) from color c1 (at mix=0) to c2 (mix=1)\n",
    "    import matplotlib as mpl\n",
    "    c1=np.array(mpl.colors.to_rgb(c1))\n",
    "    c2=np.array(mpl.colors.to_rgb(c2))\n",
    "    return mpl.colors.to_hex((1-mix)*c1 + mix*c2)\n",
    "\n",
    "def render(state, tree):\n",
    "    from graphviz import Digraph\n",
    "        \n",
    "        \n",
    "    def color(val):\n",
    "        if val > 0:\n",
    "            return '#8EBF87'\n",
    "        else:\n",
    "            return '#F7BDC4'\n",
    "    \n",
    "    max_sigma = np.round(max([x.sigma if hasattr(x, \"sigma\") else 0 for x in state]))+1\n",
    "    print(max_sigma)\n",
    "    dot = Digraph()\n",
    "    for x, ys in enumerate(tree):\n",
    "        if hasattr(state[x], \"mu\"):\n",
    "            mean, sigma = state[x].mu, state[x].sigma\n",
    "        else:\n",
    "            mean, sigma = state[x], 0\n",
    "        #observed = not hasattr(state[x], 'sample')\n",
    "        #c = color(r) if observed else 'grey'\n",
    "        c = colorFader(\"dimgrey\", \"lightcoral\", mix=sigma/max_sigma)\n",
    "        l = str(round(mean, 2)) #if observed else str(x)\n",
    "        xl = \", \".join([str(x) for x in get_action_indices(df, x)])\n",
    "        dot.node(str(x), label=l, style='filled', color=c, xlabel=xl)\n",
    "        for y in ys:\n",
    "            dot.edge(str(x), str(y))\n",
    "    return dot\n",
    "\n",
    "render(states[-1], TREE)"
   ]
  },
  {
   "cell_type": "markdown",
   "metadata": {},
   "source": [
    "### Discrepancy evaluation\n",
    "This section tests the discrepancy between the current MGPO version used in the simulation experiment and the previous MGPO version used the training experiment."
   ]
  },
  {
   "cell_type": "code",
   "execution_count": 1,
   "metadata": {},
   "outputs": [
    {
     "ename": "NameError",
     "evalue": "name 'json' is not defined",
     "output_type": "error",
     "traceback": [
      "\u001b[1;31m---------------------------------------------------------------------------\u001b[0m",
      "\u001b[1;31mNameError\u001b[0m                                 Traceback (most recent call last)",
      "Cell \u001b[1;32mIn[1], line 2\u001b[0m\n\u001b[0;32m      1\u001b[0m \u001b[38;5;28;01mwith\u001b[39;00m \u001b[38;5;28mopen\u001b[39m(\u001b[38;5;124m\"\u001b[39m\u001b[38;5;124m./data/simulation_results/mgpo_optimization/4_2_0.05.json\u001b[39m\u001b[38;5;124m\"\u001b[39m, \u001b[38;5;124m\"\u001b[39m\u001b[38;5;124mr\u001b[39m\u001b[38;5;124m\"\u001b[39m) \u001b[38;5;28;01mas\u001b[39;00m f:\n\u001b[1;32m----> 2\u001b[0m     cost_weight \u001b[38;5;241m=\u001b[39m \u001b[43mjson\u001b[49m\u001b[38;5;241m.\u001b[39mload(f)[\u001b[38;5;124m\"\u001b[39m\u001b[38;5;124mW\u001b[39m\u001b[38;5;124m\"\u001b[39m]\n\u001b[0;32m      4\u001b[0m \u001b[38;5;28;01mdef\u001b[39;00m \u001b[38;5;21mcompare_actions\u001b[39m(a1, a2):\n\u001b[0;32m      5\u001b[0m     min_length \u001b[38;5;241m=\u001b[39m \u001b[38;5;28mmin\u001b[39m(\u001b[38;5;28mlen\u001b[39m(a1), \u001b[38;5;28mlen\u001b[39m(a2))\n",
      "\u001b[1;31mNameError\u001b[0m: name 'json' is not defined"
     ]
    }
   ],
   "source": [
    "with open(\"./data/simulation_results/mgpo_optimization/4_2_0.05.json\", \"r\") as f:\n",
    "    cost_weight = json.load(f)[\"W\"]\n",
    "\n",
    "def compare_actions(a1, a2):\n",
    "    min_length = min(len(a1), len(a2))\n",
    "    for i in range(min_length):\n",
    "        if a1[i] != a2[i]:\n",
    "            return i\n",
    "    return min_length\n",
    "\n",
    "\n",
    "data = []\n",
    "for i in range(500):\n",
    "    # Old strategy\n",
    "    df, states, reward_old = analyse_generic(TREE, INIT, TAU, COST, seed=i, max_actions=200, myopic_mode=\"old\")\n",
    "    actions_old = df[\"Action\"].tolist()\n",
    "    # New strategy\n",
    "    df, states, reward_new = analyse_generic(TREE, INIT, TAU, COST, seed=i, max_actions=200, myopic_mode=\"normal\", cost_weight=cost_weight)\n",
    "    actions_new = df[\"Action\"].tolist()\n",
    "    data.append([i, compare_actions(actions_old, actions_new), len(actions_new), len(actions_old), reward_old, reward_new])\n",
    "df = pd.DataFrame(data, columns=[\"Seed\", \"Identical actions\", \"ActionsNew\", \"ActionsOld\", \"RewardOld\", \"RewardNew\"])\n"
   ]
  },
  {
   "cell_type": "code",
   "execution_count": 10,
   "metadata": {},
   "outputs": [
    {
     "data": {
      "text/plain": [
       "Seed                 249.500000\n",
       "Identical actions      4.432000\n",
       "ActionsNew            44.188000\n",
       "ActionsOld            18.672000\n",
       "RewardOld             26.367775\n",
       "RewardNew             31.975063\n",
       "dtype: float64"
      ]
     },
     "execution_count": 10,
     "metadata": {},
     "output_type": "execute_result"
    }
   ],
   "source": [
    "df.mean()"
   ]
  },
  {
   "cell_type": "code",
   "execution_count": 12,
   "metadata": {},
   "outputs": [
    {
     "name": "stdout",
     "output_type": "stream",
     "text": [
      "5.607287860756518\n"
     ]
    }
   ],
   "source": [
    "print(df[\"RewardNew\"].mean()-df[\"RewardOld\"].mean())"
   ]
  },
  {
   "cell_type": "code",
   "execution_count": 33,
   "metadata": {},
   "outputs": [
    {
     "data": {
      "text/plain": [
       "<AxesSubplot:xlabel='Identical actions', ylabel='Count'>"
      ]
     },
     "execution_count": 33,
     "metadata": {},
     "output_type": "execute_result"
    },
    {
     "data": {
      "image/png": "[encoded data removed]",
      "text/plain": [
       "<Figure size 432x288 with 1 Axes>"
      ]
     },
     "metadata": {
      "needs_background": "light"
     },
     "output_type": "display_data"
    }
   ],
   "source": [
    "sns.histplot(df[\"Identical actions\"])"
   ]
  },
  {
   "cell_type": "markdown",
   "metadata": {},
   "source": [
    "### Outlier participant investigation\n",
    "\n",
    "This section investigates participants that achive a high resource rationality score while also having a low click agreement"
   ]
  },
  {
   "cell_type": "code",
   "execution_count": 1,
   "metadata": {},
   "outputs": [
    {
     "data": {
      "text/plain": [
       "Index(['Unnamed: 0', 'Participant', 'Condition', 'Counterbalance', 'TrialId',\n",
       "       'Score', 'ExpectedScore', 'ClickedScore', 'NumClicks', 'Actions',\n",
       "       'TestEnv', 'OptimalScore', 'ClickAgreement', 'RepeatAgreement',\n",
       "       'StrictRepeatAgreement', 'TermAgreement', 'RepeatClicks', 'BmpsReward',\n",
       "       'BmpsClick', 'BmpsRepeatClicks', 'BmpsActions', 'Cost', 'Tau',\n",
       "       'BmpsGoalStrategy', 'GoalStrategy', 'Excluded'],\n",
       "      dtype='object')"
      ]
     },
     "execution_count": 1,
     "metadata": {},
     "output_type": "execute_result"
    }
   ],
   "source": [
    "import pandas as pd\n",
    "\n",
    "df = pd.read_csv(\"./data/tutor_experiment/tutor_experiment_exclusion_data.csv\")\n",
    "df.columns"
   ]
  },
  {
   "cell_type": "code",
   "execution_count": 2,
   "metadata": {},
   "outputs": [
    {
     "data": {
      "text/html": [
       "<div>\n",
       "<style scoped>\n",
       "    .dataframe tbody tr th:only-of-type {\n",
       "        vertical-align: middle;\n",
       "    }\n",
       "\n",
       "    .dataframe tbody tr th {\n",
       "        vertical-align: top;\n",
       "    }\n",
       "\n",
       "    .dataframe thead th {\n",
       "        text-align: right;\n",
       "    }\n",
       "</style>\n",
       "<table border=\"1\" class=\"dataframe\">\n",
       "  <thead>\n",
       "    <tr style=\"text-align: right;\">\n",
       "      <th></th>\n",
       "      <th>ClickAgreement</th>\n",
       "      <th>ExpectedScore</th>\n",
       "      <th>Condition</th>\n",
       "    </tr>\n",
       "    <tr>\n",
       "      <th>Participant</th>\n",
       "      <th></th>\n",
       "      <th></th>\n",
       "      <th></th>\n",
       "    </tr>\n",
       "  </thead>\n",
       "  <tbody>\n",
       "    <tr>\n",
       "      <th>0</th>\n",
       "      <td>0.557333</td>\n",
       "      <td>21.823745</td>\n",
       "      <td>2.0</td>\n",
       "    </tr>\n",
       "    <tr>\n",
       "      <th>1</th>\n",
       "      <td>0.254430</td>\n",
       "      <td>23.617529</td>\n",
       "      <td>0.0</td>\n",
       "    </tr>\n",
       "    <tr>\n",
       "      <th>2</th>\n",
       "      <td>0.152024</td>\n",
       "      <td>8.487750</td>\n",
       "      <td>2.0</td>\n",
       "    </tr>\n",
       "    <tr>\n",
       "      <th>3</th>\n",
       "      <td>0.015385</td>\n",
       "      <td>7.892123</td>\n",
       "      <td>0.0</td>\n",
       "    </tr>\n",
       "    <tr>\n",
       "      <th>4</th>\n",
       "      <td>0.050000</td>\n",
       "      <td>0.093841</td>\n",
       "      <td>2.0</td>\n",
       "    </tr>\n",
       "  </tbody>\n",
       "</table>\n",
       "</div>"
      ],
      "text/plain": [
       "             ClickAgreement  ExpectedScore Condition\n",
       "Participant                                         \n",
       "0                  0.557333      21.823745       2.0\n",
       "1                  0.254430      23.617529       0.0\n",
       "2                  0.152024       8.487750       2.0\n",
       "3                  0.015385       7.892123       0.0\n",
       "4                  0.050000       0.093841       2.0"
      ]
     },
     "execution_count": 2,
     "metadata": {},
     "output_type": "execute_result"
    }
   ],
   "source": [
    "\n",
    "mean_participant_df = df[[\"Participant\", \"ClickAgreement\", \"ExpectedScore\", \"Condition\"]].groupby(\"Participant\").mean()\n",
    "mean_participant_df[\"Condition\"] = mean_participant_df[\"Condition\"].astype('category')\n",
    "mean_participant_df.head()"
   ]
  },
  {
   "cell_type": "code",
   "execution_count": 23,
   "metadata": {},
   "outputs": [
    {
     "data": {
      "application/vnd.plotly.v1+json": {
       "config": {
        "plotlyServerURL": "https://plot.ly"
       },
       "data": [
        {
         "hovertemplate": "Click Agreement=%{x}<br>Expected Score=%{y}<extra></extra>",
         "legendgroup": "",
         "marker": {
          "color": "#636efa",
          "symbol": "circle"
         },
         "mode": "markers",
         "name": "",
         "orientation": "v",
         "showlegend": false,
         "type": "scatter",
         "x": [
          0.557333342985517,
          0.25443008516537924,
          0.1520238095238095,
          0.01538461538461538,
          0.05,
          0.26741382112899137,
          0.10653395408543984,
          0.22625221396960526,
          0.19761033563623076,
          0.25341336142002857,
          0.1101093351093351,
          0.4254789886039886,
          0.23659681778489827,
          0.387973137973138,
          0.14649265265499675,
          0.4054191453616006,
          0.3424551739372038,
          0.32091494290023703,
          0.29263510254997427,
          0.12395022337923192,
          0.2128571428571428,
          0.06870103523799623,
          0.22945792680047034,
          0.2704609279609279,
          0.02307692307692307,
          0.13333160690104995,
          0.2957820615057457,
          0.25387188506471287,
          0.17729706940233253,
          0.17772642390289448,
          0.0875,
          0.3916648456491035,
          0.11833333333333329,
          0.02222222222222222,
          0.14983462832087316,
          0.3880043355337473,
          0.16845959595959595,
          0.4622429261559696,
          0.35857454514500986,
          0.5419453315563155,
          0.031410256410256396,
          0.5450401314371902,
          0.3875210296949427,
          0.1712121212121212,
          0.44820041070041067,
          0.5508991228070175,
          0.32598720120459246,
          0.5299042168701611,
          0.21279602637346703,
          0.18498458109865717,
          0.2243774395003903,
          0.20650681988556968,
          0.285511329652634,
          0.26244241664177537,
          0.38389904213433623,
          0,
          0.32893772893772893,
          0.4111888111888112,
          0.0905133123483507,
          0.31430655129184537,
          0.3886764705882353,
          0.00714285714285714,
          0.23937263076994197,
          0.34350275129814767,
          0.23087301587301584,
          0.26370874845717224,
          0.3111281532197681,
          0.3953549582226053,
          0.3562115662115662,
          0.4800541125541125,
          0.2397331167805643,
          0.5333333333333333,
          0.4011062750459035,
          0.19619656351504947,
          0.11740807791529351,
          0.05506160554274544,
          0.3117354479474023,
          0.21666666666666665,
          0.17119994532086183,
          0.14179737221842484,
          0.47454670329670334,
          0.25664136622390893,
          0.3183477429433311,
          0.19016827017545368,
          0.41052508894614154,
          0.23539679951803336,
          0.5380813222724987,
          0.29060532144059203,
          0.41380952380952374,
          0.2308013156673967,
          0,
          0.09154066339393338,
          0.4046338987099857,
          0.4386047286047286,
          0.40908846872082166,
          0.1391025641025641,
          0.4916666666666666,
          0.548937728937729,
          0.2991237685005352,
          0.23397700029588572,
          0.28547952047952047,
          0.27746383246903084,
          0.14583333333333331,
          0.436031746031746,
          0.2914619447253747,
          0.10344627594627594,
          0.3187437216654233,
          0.37777607593969575,
          0.2613939393939394,
          0.4051387827858416,
          0.1012853302611367,
          0.3506944444444444,
          0.217920592479416,
          0.2019185824623871,
          0.19179240436206377,
          0.1873461550489414,
          0.16457501280081926,
          0.23710722489632374,
          0.31476724452821364,
          0.3655128205128205,
          0.04942704354469059,
          0.4380950898946255,
          0.261738367841309,
          0.2245151948005629,
          0.2851554736529269,
          0.04445051359751901,
          0.16795893719806762,
          0.01944444444444444,
          0.2817130187819843,
          0.3281357239251976,
          0.3422913613299861,
          0.32585577133564747,
          0.13580232947880005,
          0,
          0.07417671409050718,
          0.23666666666666666,
          0.3894182294817503,
          0.05288461538461538,
          0.3597339267617905,
          0.4572750477002395,
          0.09698412698412698,
          0.2460590057394568,
          0.2140395511071241,
          0.038742461962706656,
          0.21230482107344462,
          0.3536461582026098,
          0.3959940281082788,
          0.13036075036075034,
          0.04911924223995161,
          0.2560578353262718,
          0.18188079893962245,
          0.31388915432393694,
          0.5436961662348659,
          0.25942228061793277,
          0.3270641006167322,
          0.44959746245040366,
          0.2809944741846747,
          0.4239271013666067,
          0.13499241816527888,
          0.32324092661043574,
          0.5807936507936508,
          0.06750762437641775,
          0,
          0.33024838365395637,
          0.414554305343779,
          0.3007603002283309,
          0.34962182425417715,
          0.30785611447376154,
          0.3125,
          0.3676190476190476,
          0,
          0.18724301224301224,
          0.24775347459557984,
          0.34598684210526315,
          0.08220869957178271,
          0.39771425885199985,
          0.2758327879403951,
          0.4851365120947165,
          0.045,
          0,
          0.39636613386613384,
          0.4726063332204805,
          0.555993812996123,
          0.2752090756911039,
          0.176755883005883,
          0.0898614795166519,
          0.47592117548773893,
          0.3045920745920746,
          0.08852272727272728,
          0.01897727272727272,
          0.06971153846153845,
          0.10420698679879101,
          0.2260415086717904,
          0.32539727429433307,
          0.4554793874071367,
          0,
          0.38352321019941155,
          0.3336786987522281,
          0.29590175890175885,
          0.04,
          0.3217906404372569,
          0.24788745067919637,
          0.25677794572317897,
          0.18979058228936116,
          0.24738409738409733,
          0.3546853146853147,
          0.33162533785444,
          0.07976190476190476,
          0.04523809523809523,
          0.1449524012503552,
          0.2318839657074951,
          0.3608779962727331,
          0.10761904761904759,
          0.3259485032511348,
          0.3510858988904486,
          0.3125858991369827,
          0.4765781277545983,
          0.23265558397271952,
          0.3742930353959766,
          0.3555033416875522,
          0.29277840322731963,
          0.17759016425499996,
          0.12575172636537385,
          0.05874999999999999,
          0.2604466202225115,
          0,
          0.22399846519598277,
          0.26758403361344535,
          0.38758484162895923,
          0.46380952380952384,
          0.1109242429819564,
          0.15327362156402868,
          0.37557884144840664,
          0.33877856936443274,
          0.33472346023429617,
          0.3398352068253384,
          0.31,
          0.29917596292596293,
          0.3515534696784696,
          0.18649026412184305,
          0.07568986514454454,
          0.25778710449442155,
          0.3372205022359821,
          0,
          0.13466533466533465,
          0.35594268476621416,
          0.38861111111111113,
          0.15113630764946553,
          0.17608225108225106,
          0.17457264957264956,
          0.16764144418866533,
          0.5527872127872128,
          0.42350301659125184,
          0.44281523274754947,
          0.164454276230592,
          0.06475464190981431,
          0.21400059259326992,
          0.2496890549064462,
          0.06871794871794872,
          0.30645619512627176,
          0.3623108133018851,
          0.30836343722610443,
          0.20908255487202854,
          0.18910389610389608,
          0.41323279790385054,
          0.16132283146571363,
          0,
          0.03562145497629367,
          0.2494949494949495,
          0.2584607421563943,
          0.03694444444444443,
          0.11714912280701754,
          0.19464655172413792,
          0.19166799757102054,
          0.26144241478044494,
          0.38973236155564345,
          0,
          0.03728064462846178,
          0.051764705882352935,
          0.15932900432900432,
          0.26928788765021155,
          0.2485098965362123,
          0.41620915032679734,
          0.37923396048396046,
          0.3243335611756664,
          0.12082013746487427,
          0.353652683745563,
          0.10431526547047729,
          0,
          0.02777777777777777,
          0.13014963880288954,
          0.19059855986017013,
          0.05362155388471176
         ],
         "xaxis": "x",
         "y": [
          21.82374531786649,
          23.617528628108353,
          8.487750221936887,
          7.892123214049721,
          0.0938407079646018,
          18.88425931435214,
          21.51210781723598,
          11.24819635919636,
          16.898697844825524,
          16.889930813978047,
          12.11504539186809,
          22.559007288354785,
          15.139340237789046,
          26.64683270784579,
          20.728719580479055,
          29.0305765608407,
          17.488380383095844,
          21.697806830661317,
          26.58053881325253,
          13.451698898236026,
          15.600180594488814,
          20.366192157356572,
          20.599723209942074,
          17.315270136646546,
          10.449953081725962,
          18.78428435975329,
          17.341307330925954,
          30.972456186967737,
          13.520297056299992,
          15.79073983850273,
          8.119105900648924,
          17.824905170492308,
          7.657717527522157,
          6.922053563111317,
          21.234531301404008,
          17.576094721062862,
          8.950767035433703,
          17.52721538636961,
          20.216416692344318,
          19.84589986326421,
          7.916289916477107,
          22.279585126585125,
          16.40626496910728,
          0.09400106326422146,
          17.440212075358488,
          24.27521792254887,
          21.14956367796867,
          22.523126589463942,
          20.123870466845638,
          26.559571417153887,
          8.91578706216514,
          21.884728065021545,
          23.881131722361523,
          25.917186815288908,
          11.150313954960946,
          0.7062795698924729,
          20.144881422483387,
          17.827238871253353,
          10.435583695756034,
          18.446760267333946,
          15.707879791904622,
          8.704687550333,
          17.90255100999195,
          24.85809698699237,
          14.434015774510154,
          12.71325217624184,
          23.67298252035551,
          30.20171519199514,
          20.558378836317136,
          13.273419179669265,
          20.333464184972396,
          11.032246913580249,
          24.708052221961868,
          17.821476190476186,
          8.935595749239747,
          10.310477069895672,
          17.256812343732832,
          -1.895775700934579,
          16.400386530153057,
          22.597858641997387,
          20.561785302375984,
          31.382321775446776,
          19.302862790876414,
          20.749390197901835,
          18.447734680832305,
          26.47927400610859,
          24.59853348970335,
          24.461236525163137,
          14.96796511221073,
          25.901839882415807,
          0.6866681222707423,
          21.554995239715844,
          21.504076269388058,
          17.721245114540814,
          13.639486241720784,
          9.808844656797424,
          11.258640625000002,
          11.90717883791051,
          22.27556761293562,
          20.884070509994398,
          15.535661223919126,
          23.076746690563006,
          2.4744934284237274,
          14.594820081133516,
          13.433558565979748,
          4.247185380573935,
          31.147134642179203,
          24.475846112962508,
          18.91272627823109,
          21.1962156296241,
          11.31333670616167,
          25.730539473684207,
          7.0758222531768,
          21.28617000885263,
          16.183499734183947,
          15.687026143790849,
          15.385292536119465,
          28.692190306380173,
          24.834300972323625,
          20.425282991470265,
          12.591983481902625,
          24.74628078032357,
          22.28034586247086,
          19.984907801284855,
          18.07571929866149,
          4.350679090247761,
          13.565396103846684,
          9.66837383363113,
          14.285698793985361,
          23.801060378867398,
          23.596467562101697,
          18.465848647702195,
          12.07422757887274,
          -0.004,
          14.131781203368178,
          7.289338977716229,
          22.398435715039746,
          9.430893538223424,
          13.96914283307685,
          29.673167106232672,
          6.3073017561094025,
          22.136210463395166,
          22.510824735148518,
          6.701240377774306,
          20.81479710899736,
          29.20293655793219,
          27.02317992633371,
          10.600750208056443,
          8.550725317773955,
          22.52650390450247,
          15.74701284242505,
          24.646981113598773,
          18.058023967180368,
          13.983719607843137,
          21.72549147143706,
          20.733421881943137,
          19.438599322455715,
          26.330426836232895,
          16.982379751167432,
          27.618974853344106,
          18.710657137210987,
          24.20902701101134,
          1.7596849315068497,
          18.2519091503268,
          17.197786991932638,
          26.078428445370463,
          21.262908344498936,
          17.817737542467817,
          15.155736777032555,
          11.548140476709483,
          0,
          12.759344718631713,
          16.646440625383285,
          18.80570692653628,
          8.010079365079363,
          28.50095141040623,
          23.411990850039874,
          28.090530133739396,
          7.56038250751443,
          2.678058437686344,
          21.78385544144165,
          26.608225267931385,
          20.082759854140765,
          18.760878107847642,
          8.997156804524835,
          15.969681932828886,
          25.908707979606305,
          21.767975566964815,
          7.679114361302977,
          9.312952422201013,
          13.270522110746679,
          27.924483444701206,
          21.148267362287275,
          24.90883479432041,
          22.28823013933518,
          2.0379672131147544,
          26.987891748077196,
          27.672784516540823,
          20.380535233796017,
          7.800674763832658,
          19.283138803068177,
          23.419122642740412,
          22.564702944027257,
          22.439968077455926,
          19.359114061170214,
          16.44971961208369,
          25.667346974251007,
          14.974083643229017,
          5.698869095816464,
          14.351388835487834,
          19.967294888526595,
          23.726819129144104,
          9.932265857363864,
          26.92614854448741,
          27.200022038615877,
          20.327002523841205,
          25.635651925758378,
          21.421891903009385,
          23.111936509108446,
          23.164993619670092,
          26.534650546511948,
          14.032203139682712,
          16.13906178513175,
          15.63045597529792,
          27.639708702587733,
          2.633195767195767,
          27.073457161125322,
          12.716205604702688,
          19.45825306032632,
          9.277918918918918,
          22.591087328201972,
          19.09005852557931,
          21.88478081399892,
          17.65344346003154,
          23.477413791183114,
          27.414357785128253,
          14.86365087884865,
          15.27868925607417,
          15.63094774035088,
          15.711280322580127,
          22.236854034720963,
          24.577929541516834,
          26.60290357895578,
          6.2205533080892135,
          12.319799375885507,
          20.90747944086524,
          15.683707816847962,
          15.356752918070487,
          14.465272959280943,
          17.433186314561183,
          11.873760255525436,
          18.003248561270116,
          26.16147013479776,
          23.76543762886167,
          24.354636771881967,
          3.852256418733213,
          19.495827138968785,
          25.462488129066212,
          11.563037024990512,
          20.803665899656814,
          23.431306577478843,
          23.90098158036865,
          8.288485406061739,
          17.039075729743008,
          19.601412509251986,
          12.238523941122251,
          1.8612676973990379,
          13.33894433266264,
          12.103018165053722,
          18.811791721347525,
          2.094576761096917,
          13.771068098510085,
          21.223034294097125,
          27.033175014155,
          30.004444840054056,
          27.984239887386632,
          0,
          20.37925425937512,
          11.59058296045671,
          7.240359646401984,
          27.142831377527585,
          19.700110056610054,
          25.0429820971867,
          18.936056518015942,
          23.210451817801108,
          7.477269292203253,
          26.113303227856967,
          20.21233196281993,
          1.406352422907489,
          9.223455613825681,
          19.072151319681446,
          22.91415050171786,
          9.080406624383368
         ],
         "yaxis": "y"
        }
       ],
       "layout": {
        "annotations": [
         {
          "showarrow": false,
          "text": "MGPS",
          "x": 0,
          "xanchor": "left",
          "xref": "x domain",
          "y": 22.415081036217632,
          "yanchor": "bottom",
          "yref": "y"
         }
        ],
        "legend": {
         "tracegroupgap": 0
        },
        "shapes": [
         {
          "line": {
           "color": "red",
           "dash": "dash"
          },
          "type": "line",
          "x0": 0,
          "x1": 1,
          "xref": "x domain",
          "y0": 22.415081036217632,
          "y1": 22.415081036217632,
          "yref": "y"
         }
        ],
        "template": {
         "data": {
          "bar": [
           {
            "error_x": {
             "color": "#2a3f5f"
            },
            "error_y": {
             "color": "#2a3f5f"
            },
            "marker": {
             "line": {
              "color": "#E5ECF6",
              "width": 0.5
             },
             "pattern": {
              "fillmode": "overlay",
              "size": 10,
              "solidity": 0.2
             }
            },
            "type": "bar"
           }
          ],
          "barpolar": [
           {
            "marker": {
             "line": {
              "color": "#E5ECF6",
              "width": 0.5
             },
             "pattern": {
              "fillmode": "overlay",
              "size": 10,
              "solidity": 0.2
             }
            },
            "type": "barpolar"
           }
          ],
          "carpet": [
           {
            "aaxis": {
             "endlinecolor": "#2a3f5f",
             "gridcolor": "white",
             "linecolor": "white",
             "minorgridcolor": "white",
             "startlinecolor": "#2a3f5f"
            },
            "baxis": {
             "endlinecolor": "#2a3f5f",
             "gridcolor": "white",
             "linecolor": "white",
             "minorgridcolor": "white",
             "startlinecolor": "#2a3f5f"
            },
            "type": "carpet"
           }
          ],
          "choropleth": [
           {
            "colorbar": {
             "outlinewidth": 0,
             "ticks": ""
            },
            "type": "choropleth"
           }
          ],
          "contour": [
           {
            "colorbar": {
             "outlinewidth": 0,
             "ticks": ""
            },
            "colorscale": [
             [
              0,
              "#0d0887"
             ],
             [
              0.1111111111111111,
              "#46039f"
             ],
             [
              0.2222222222222222,
              "#7201a8"
             ],
             [
              0.3333333333333333,
              "#9c179e"
             ],
             [
              0.4444444444444444,
              "#bd3786"
             ],
             [
              0.5555555555555556,
              "#d8576b"
             ],
             [
              0.6666666666666666,
              "#ed7953"
             ],
             [
              0.7777777777777778,
              "#fb9f3a"
             ],
             [
              0.8888888888888888,
              "#fdca26"
             ],
             [
              1,
              "#f0f921"
             ]
            ],
            "type": "contour"
           }
          ],
          "contourcarpet": [
           {
            "colorbar": {
             "outlinewidth": 0,
             "ticks": ""
            },
            "type": "contourcarpet"
           }
          ],
          "heatmap": [
           {
            "colorbar": {
             "outlinewidth": 0,
             "ticks": ""
            },
            "colorscale": [
             [
              0,
              "#0d0887"
             ],
             [
              0.1111111111111111,
              "#46039f"
             ],
             [
              0.2222222222222222,
              "#7201a8"
             ],
             [
              0.3333333333333333,
              "#9c179e"
             ],
             [
              0.4444444444444444,
              "#bd3786"
             ],
             [
              0.5555555555555556,
              "#d8576b"
             ],
             [
              0.6666666666666666,
              "#ed7953"
             ],
             [
              0.7777777777777778,
              "#fb9f3a"
             ],
             [
              0.8888888888888888,
              "#fdca26"
             ],
             [
              1,
              "#f0f921"
             ]
            ],
            "type": "heatmap"
           }
          ],
          "heatmapgl": [
           {
            "colorbar": {
             "outlinewidth": 0,
             "ticks": ""
            },
            "colorscale": [
             [
              0,
              "#0d0887"
             ],
             [
              0.1111111111111111,
              "#46039f"
             ],
             [
              0.2222222222222222,
              "#7201a8"
             ],
             [
              0.3333333333333333,
              "#9c179e"
             ],
             [
              0.4444444444444444,
              "#bd3786"
             ],
             [
              0.5555555555555556,
              "#d8576b"
             ],
             [
              0.6666666666666666,
              "#ed7953"
             ],
             [
              0.7777777777777778,
              "#fb9f3a"
             ],
             [
              0.8888888888888888,
              "#fdca26"
             ],
             [
              1,
              "#f0f921"
             ]
            ],
            "type": "heatmapgl"
           }
          ],
          "histogram": [
           {
            "marker": {
             "pattern": {
              "fillmode": "overlay",
              "size": 10,
              "solidity": 0.2
             }
            },
            "type": "histogram"
           }
          ],
          "histogram2d": [
           {
            "colorbar": {
             "outlinewidth": 0,
             "ticks": ""
            },
            "colorscale": [
             [
              0,
              "#0d0887"
             ],
             [
              0.1111111111111111,
              "#46039f"
             ],
             [
              0.2222222222222222,
              "#7201a8"
             ],
             [
              0.3333333333333333,
              "#9c179e"
             ],
             [
              0.4444444444444444,
              "#bd3786"
             ],
             [
              0.5555555555555556,
              "#d8576b"
             ],
             [
              0.6666666666666666,
              "#ed7953"
             ],
             [
              0.7777777777777778,
              "#fb9f3a"
             ],
             [
              0.8888888888888888,
              "#fdca26"
             ],
             [
              1,
              "#f0f921"
             ]
            ],
            "type": "histogram2d"
           }
          ],
          "histogram2dcontour": [
           {
            "colorbar": {
             "outlinewidth": 0,
             "ticks": ""
            },
            "colorscale": [
             [
              0,
              "#0d0887"
             ],
             [
              0.1111111111111111,
              "#46039f"
             ],
             [
              0.2222222222222222,
              "#7201a8"
             ],
             [
              0.3333333333333333,
              "#9c179e"
             ],
             [
              0.4444444444444444,
              "#bd3786"
             ],
             [
              0.5555555555555556,
              "#d8576b"
             ],
             [
              0.6666666666666666,
              "#ed7953"
             ],
             [
              0.7777777777777778,
              "#fb9f3a"
             ],
             [
              0.8888888888888888,
              "#fdca26"
             ],
             [
              1,
              "#f0f921"
             ]
            ],
            "type": "histogram2dcontour"
           }
          ],
          "mesh3d": [
           {
            "colorbar": {
             "outlinewidth": 0,
             "ticks": ""
            },
            "type": "mesh3d"
           }
          ],
          "parcoords": [
           {
            "line": {
             "colorbar": {
              "outlinewidth": 0,
              "ticks": ""
             }
            },
            "type": "parcoords"
           }
          ],
          "pie": [
           {
            "automargin": true,
            "type": "pie"
           }
          ],
          "scatter": [
           {
            "fillpattern": {
             "fillmode": "overlay",
             "size": 10,
             "solidity": 0.2
            },
            "type": "scatter"
           }
          ],
          "scatter3d": [
           {
            "line": {
             "colorbar": {
              "outlinewidth": 0,
              "ticks": ""
             }
            },
            "marker": {
             "colorbar": {
              "outlinewidth": 0,
              "ticks": ""
             }
            },
            "type": "scatter3d"
           }
          ],
          "scattercarpet": [
           {
            "marker": {
             "colorbar": {
              "outlinewidth": 0,
              "ticks": ""
             }
            },
            "type": "scattercarpet"
           }
          ],
          "scattergeo": [
           {
            "marker": {
             "colorbar": {
              "outlinewidth": 0,
              "ticks": ""
             }
            },
            "type": "scattergeo"
           }
          ],
          "scattergl": [
           {
            "marker": {
             "colorbar": {
              "outlinewidth": 0,
              "ticks": ""
             }
            },
            "type": "scattergl"
           }
          ],
          "scattermapbox": [
           {
            "marker": {
             "colorbar": {
              "outlinewidth": 0,
              "ticks": ""
             }
            },
            "type": "scattermapbox"
           }
          ],
          "scatterpolar": [
           {
            "marker": {
             "colorbar": {
              "outlinewidth": 0,
              "ticks": ""
             }
            },
            "type": "scatterpolar"
           }
          ],
          "scatterpolargl": [
           {
            "marker": {
             "colorbar": {
              "outlinewidth": 0,
              "ticks": ""
             }
            },
            "type": "scatterpolargl"
           }
          ],
          "scatterternary": [
           {
            "marker": {
             "colorbar": {
              "outlinewidth": 0,
              "ticks": ""
             }
            },
            "type": "scatterternary"
           }
          ],
          "surface": [
           {
            "colorbar": {
             "outlinewidth": 0,
             "ticks": ""
            },
            "colorscale": [
             [
              0,
              "#0d0887"
             ],
             [
              0.1111111111111111,
              "#46039f"
             ],
             [
              0.2222222222222222,
              "#7201a8"
             ],
             [
              0.3333333333333333,
              "#9c179e"
             ],
             [
              0.4444444444444444,
              "#bd3786"
             ],
             [
              0.5555555555555556,
              "#d8576b"
             ],
             [
              0.6666666666666666,
              "#ed7953"
             ],
             [
              0.7777777777777778,
              "#fb9f3a"
             ],
             [
              0.8888888888888888,
              "#fdca26"
             ],
             [
              1,
              "#f0f921"
             ]
            ],
            "type": "surface"
           }
          ],
          "table": [
           {
            "cells": {
             "fill": {
              "color": "#EBF0F8"
             },
             "line": {
              "color": "white"
             }
            },
            "header": {
             "fill": {
              "color": "#C8D4E3"
             },
             "line": {
              "color": "white"
             }
            },
            "type": "table"
           }
          ]
         },
         "layout": {
          "annotationdefaults": {
           "arrowcolor": "#2a3f5f",
           "arrowhead": 0,
           "arrowwidth": 1
          },
          "autotypenumbers": "strict",
          "coloraxis": {
           "colorbar": {
            "outlinewidth": 0,
            "ticks": ""
           }
          },
          "colorscale": {
           "diverging": [
            [
             0,
             "#8e0152"
            ],
            [
             0.1,
             "#c51b7d"
            ],
            [
             0.2,
             "#de77ae"
            ],
            [
             0.3,
             "#f1b6da"
            ],
            [
             0.4,
             "#fde0ef"
            ],
            [
             0.5,
             "#f7f7f7"
            ],
            [
             0.6,
             "#e6f5d0"
            ],
            [
             0.7,
             "#b8e186"
            ],
            [
             0.8,
             "#7fbc41"
            ],
            [
             0.9,
             "#4d9221"
            ],
            [
             1,
             "#276419"
            ]
           ],
           "sequential": [
            [
             0,
             "#0d0887"
            ],
            [
             0.1111111111111111,
             "#46039f"
            ],
            [
             0.2222222222222222,
             "#7201a8"
            ],
            [
             0.3333333333333333,
             "#9c179e"
            ],
            [
             0.4444444444444444,
             "#bd3786"
            ],
            [
             0.5555555555555556,
             "#d8576b"
            ],
            [
             0.6666666666666666,
             "#ed7953"
            ],
            [
             0.7777777777777778,
             "#fb9f3a"
            ],
            [
             0.8888888888888888,
             "#fdca26"
            ],
            [
             1,
             "#f0f921"
            ]
           ],
           "sequentialminus": [
            [
             0,
             "#0d0887"
            ],
            [
             0.1111111111111111,
             "#46039f"
            ],
            [
             0.2222222222222222,
             "#7201a8"
            ],
            [
             0.3333333333333333,
             "#9c179e"
            ],
            [
             0.4444444444444444,
             "#bd3786"
            ],
            [
             0.5555555555555556,
             "#d8576b"
            ],
            [
             0.6666666666666666,
             "#ed7953"
            ],
            [
             0.7777777777777778,
             "#fb9f3a"
            ],
            [
             0.8888888888888888,
             "#fdca26"
            ],
            [
             1,
             "#f0f921"
            ]
           ]
          },
          "colorway": [
           "#636efa",
           "#EF553B",
           "#00cc96",
           "#ab63fa",
           "#FFA15A",
           "#19d3f3",
           "#FF6692",
           "#B6E880",
           "#FF97FF",
           "#FECB52"
          ],
          "font": {
           "color": "#2a3f5f"
          },
          "geo": {
           "bgcolor": "white",
           "lakecolor": "white",
           "landcolor": "#E5ECF6",
           "showlakes": true,
           "showland": true,
           "subunitcolor": "white"
          },
          "hoverlabel": {
           "align": "left"
          },
          "hovermode": "closest",
          "mapbox": {
           "style": "light"
          },
          "paper_bgcolor": "white",
          "plot_bgcolor": "#E5ECF6",
          "polar": {
           "angularaxis": {
            "gridcolor": "white",
            "linecolor": "white",
            "ticks": ""
           },
           "bgcolor": "#E5ECF6",
           "radialaxis": {
            "gridcolor": "white",
            "linecolor": "white",
            "ticks": ""
           }
          },
          "scene": {
           "xaxis": {
            "backgroundcolor": "#E5ECF6",
            "gridcolor": "white",
            "gridwidth": 2,
            "linecolor": "white",
            "showbackground": true,
            "ticks": "",
            "zerolinecolor": "white"
           },
           "yaxis": {
            "backgroundcolor": "#E5ECF6",
            "gridcolor": "white",
            "gridwidth": 2,
            "linecolor": "white",
            "showbackground": true,
            "ticks": "",
            "zerolinecolor": "white"
           },
           "zaxis": {
            "backgroundcolor": "#E5ECF6",
            "gridcolor": "white",
            "gridwidth": 2,
            "linecolor": "white",
            "showbackground": true,
            "ticks": "",
            "zerolinecolor": "white"
           }
          },
          "shapedefaults": {
           "line": {
            "color": "#2a3f5f"
           }
          },
          "ternary": {
           "aaxis": {
            "gridcolor": "white",
            "linecolor": "white",
            "ticks": ""
           },
           "baxis": {
            "gridcolor": "white",
            "linecolor": "white",
            "ticks": ""
           },
           "bgcolor": "#E5ECF6",
           "caxis": {
            "gridcolor": "white",
            "linecolor": "white",
            "ticks": ""
           }
          },
          "title": {
           "x": 0.05
          },
          "xaxis": {
           "automargin": true,
           "gridcolor": "white",
           "linecolor": "white",
           "ticks": "",
           "title": {
            "standoff": 15
           },
           "zerolinecolor": "white",
           "zerolinewidth": 2
          },
          "yaxis": {
           "automargin": true,
           "gridcolor": "white",
           "linecolor": "white",
           "ticks": "",
           "title": {
            "standoff": 15
           },
           "zerolinecolor": "white",
           "zerolinewidth": 2
          }
         }
        },
        "title": {
         "text": "Click agreement vs expected score per participant"
        },
        "width": 800,
        "xaxis": {
         "anchor": "y",
         "domain": [
          0,
          1
         ],
         "title": {
          "text": "Click Agreement"
         }
        },
        "yaxis": {
         "anchor": "x",
         "domain": [
          0,
          1
         ],
         "title": {
          "text": "Expected Score"
         }
        }
       }
      }
     },
     "metadata": {},
     "output_type": "display_data"
    }
   ],
   "source": [
    "import plotly.express as px\n",
    "\n",
    "avg_bmps = df[\"BmpsReward\"].mean()\n",
    "\n",
    "fig = px.scatter(mean_participant_df, x=\"ClickAgreement\", y=\"ExpectedScore\", \n",
    "                 title=\"Click agreement vs expected score per participant\",\n",
    "                 labels={\"ClickAgreement\": \"Click Agreement\", \n",
    "                        \"ExpectedScore\": \"Expected Score\"}, width=800)\n",
    "\n",
    "# Add horizontal line for average BMPS score\n",
    "fig.add_hline(y=avg_bmps, line_dash=\"dash\", line_color=\"red\",\n",
    "              annotation_text=f\"MGPS\",\n",
    "              annotation_position=\"top left\")\n",
    "\n",
    "fig.show()\n"
   ]
  },
  {
   "cell_type": "code",
   "execution_count": 4,
   "metadata": {},
   "outputs": [
    {
     "name": "stdout",
     "output_type": "stream",
     "text": [
      "R-squared: 0.338\n"
     ]
    }
   ],
   "source": [
    "# Calculate R-squared\n",
    "from sklearn.linear_model import LinearRegression\n",
    "import numpy as np\n",
    "X = mean_participant_df[\"ClickAgreement\"].values.reshape(-1, 1)\n",
    "y = mean_participant_df[\"ExpectedScore\"].values\n",
    "model = LinearRegression()\n",
    "model.fit(X, y)\n",
    "r_squared = model.score(X, y)\n",
    "print(f\"R-squared: {r_squared:.3f}\")"
   ]
  },
  {
   "cell_type": "code",
   "execution_count": 5,
   "metadata": {},
   "outputs": [
    {
     "name": "stdout",
     "output_type": "stream",
     "text": [
      "Correlation: 0.581\n"
     ]
    }
   ],
   "source": [
    "correlation = np.corrcoef(mean_participant_df[\"ClickAgreement\"], mean_participant_df[\"ExpectedScore\"])[0,1]\n",
    "print(f\"Correlation: {correlation:.3f}\")"
   ]
  },
  {
   "cell_type": "code",
   "execution_count": 6,
   "metadata": {},
   "outputs": [
    {
     "name": "stdout",
     "output_type": "stream",
     "text": [
      "             ClickAgreement  ExpectedScore Condition\n",
      "Participant                                         \n",
      "297                0.104207      27.924483       2.0\n",
      "446                0.191668      27.033175       1.0\n",
      "78                 0.184985      26.559571       0.0\n",
      "412                0.164454      24.354637       1.0\n",
      "246                0.067508      24.209027       0.0\n",
      "476                0.190599      22.914151       1.0\n",
      "123                0.141797      22.597859       2.0\n",
      "369                0.110924      22.591087       0.0\n",
      "317                0.189791      22.439968       0.0\n",
      "383                0.075690      22.236854       0.0\n"
     ]
    }
   ],
   "source": [
    "top_participants = mean_participant_df[mean_participant_df[\"ClickAgreement\"] < 0.2]\n",
    "top_participants = top_participants.sort_values(by=\"ExpectedScore\", ascending=False).head(10)\n",
    "top_participant_ids = top_participants.index.tolist()\n",
    "print(top_participants)"
   ]
  },
  {
   "cell_type": "code",
   "execution_count": 15,
   "metadata": {},
   "outputs": [
    {
     "name": "stdout",
     "output_type": "stream",
     "text": [
      "Average number of actions for top participants: 55.16\n",
      "Average number of BMPS actions for top participants: 20.35\n"
     ]
    }
   ],
   "source": [
    "# Calculate average number of actions and BMPS actions for top participants\n",
    "avg_actions = df[df[\"Participant\"].isin(top_participant_ids)][\"NumClicks\"].mean()\n",
    "avg_bmps_actions = df[df[\"Participant\"].isin(top_participant_ids)][\"BmpsClick\"].mean()\n",
    "\n",
    "print(f\"Average number of actions for top participants: {avg_actions:.2f}\")\n",
    "print(f\"Average number of BMPS actions for top participants: {avg_bmps_actions:.2f}\")\n"
   ]
  },
  {
   "cell_type": "code",
   "execution_count": 17,
   "metadata": {},
   "outputs": [
    {
     "name": "stdout",
     "output_type": "stream",
     "text": [
      "Average reward for top participants: 24.29\n",
      "Average bmps reward on same trials: 22.34\n"
     ]
    }
   ],
   "source": [
    "top_participant_scores = df[df[\"Participant\"].isin(top_participant_ids)][\"Score\"].to_numpy()\n",
    "bmps_scores = df[df[\"Participant\"].isin(top_participant_ids)][\"BmpsReward\"].to_numpy()\n",
    "avg_participant_score = df[df[\"Participant\"].isin(top_participant_ids)][\"Score\"].mean()\n",
    "avg_bmps_score = df[df[\"Participant\"].isin(top_participant_ids)][\"BmpsReward\"].mean()\n",
    "\n",
    "print(f\"Average reward for top participants: {avg_participant_score:.2f}\")\n",
    "print(f\"Average bmps reward on same trials: {avg_bmps_score:.2f}\")"
   ]
  },
  {
   "cell_type": "code",
   "execution_count": 19,
   "metadata": {},
   "outputs": [
    {
     "name": "stdout",
     "output_type": "stream",
     "text": [
      "Statistic: 0.9795857071876526, p-value: 0.12340910732746124\n",
      "Statistic: 0.9762158989906311, p-value: 0.06719156354665756\n"
     ]
    }
   ],
   "source": [
    "from scipy.stats import shapiro\n",
    "\n",
    "stat, p_value = shapiro(top_participant_scores)\n",
    "print(f\"Statistic: {stat}, p-value: {p_value}\")\n",
    "\n",
    "stat, p_value = shapiro(bmps_scores)\n",
    "print(f\"Statistic: {stat}, p-value: {p_value}\")"
   ]
  },
  {
   "cell_type": "code",
   "execution_count": 22,
   "metadata": {},
   "outputs": [
    {
     "name": "stdout",
     "output_type": "stream",
     "text": [
      "Statistic: 1.5378783701834589, p-value: 0.12726846613179507\n"
     ]
    }
   ],
   "source": [
    "from scipy.stats import ttest_rel\n",
    "\n",
    "stat, p_value = ttest_rel(top_participant_scores, bmps_scores)\n",
    "print(f\"Statistic: {stat}, p-value: {p_value}\")"
   ]
  }
 ],
 "metadata": {
  "interpreter": {
   "hash": "a60773b366b4107a5de44e67768ecd05b214497884eb609fc0ec34cfa78eb300"
  },
  "kernelspec": {
   "display_name": "Python 3.8.10 ('cogtut')",
   "language": "python",
   "name": "python3"
  },
  "language_info": {
   "codemirror_mode": {
    "name": "ipython",
    "version": 3
   },
   "file_extension": ".py",
   "mimetype": "text/x-python",
   "name": "python",
   "nbconvert_exporter": "python",
   "pygments_lexer": "ipython3",
   "version": "3.11.4"
  },
  "orig_nbformat": 4
 },
 "nbformat": 4,
 "nbformat_minor": 2
}
