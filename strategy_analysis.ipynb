{
 "cells": [
  {
   "cell_type": "markdown",
   "metadata": {},
   "source": [
    "## Interpretation of the MGPO strategy\n",
    "\n",
    "This notebook contains an exemplary execution of the strategy discovered by MGPO and plots the belief state after termination. The figure final figure was created by annotating the order of actions in an image editing software."
   ]
  },
  {
   "cell_type": "code",
   "execution_count": 1,
   "metadata": {},
   "outputs": [],
   "source": [
    "from src.utils.experiment_creation import create_tree, create_init\n",
    "from src.po_BMPS import analyse_generic\n",
    "import numpy as np\n",
    "import json\n",
    "import seaborn as sns\n",
    "import pandas as pd\n",
    "\n",
    "%load_ext autoreload\n",
    "%autoreload 2"
   ]
  },
  {
   "cell_type": "code",
   "execution_count": 2,
   "metadata": {},
   "outputs": [],
   "source": [
    "TREE = create_tree(4, 2)\n",
    "INIT = create_init(4, 2)\n",
    "TAU = 0.005\n",
    "COST = 0.05"
   ]
  },
  {
   "cell_type": "code",
   "execution_count": 4,
   "metadata": {},
   "outputs": [
    {
     "data": {
      "text/html": [
       "<div>\n",
       "<style scoped>\n",
       "    .dataframe tbody tr th:only-of-type {\n",
       "        vertical-align: middle;\n",
       "    }\n",
       "\n",
       "    .dataframe tbody tr th {\n",
       "        vertical-align: top;\n",
       "    }\n",
       "\n",
       "    .dataframe thead th {\n",
       "        text-align: right;\n",
       "    }\n",
       "</style>\n",
       "<table border=\"1\" class=\"dataframe\">\n",
       "  <thead>\n",
       "    <tr style=\"text-align: right;\">\n",
       "      <th></th>\n",
       "      <th>Action</th>\n",
       "      <th>VOC</th>\n",
       "      <th>Observation</th>\n",
       "      <th>ExpTermReward</th>\n",
       "    </tr>\n",
       "  </thead>\n",
       "  <tbody>\n",
       "    <tr>\n",
       "      <th>0</th>\n",
       "      <td>15</td>\n",
       "      <td>3.232350</td>\n",
       "      <td>-8.138935</td>\n",
       "      <td>0.000000</td>\n",
       "    </tr>\n",
       "    <tr>\n",
       "      <th>1</th>\n",
       "      <td>30</td>\n",
       "      <td>3.232350</td>\n",
       "      <td>-14.028475</td>\n",
       "      <td>0.000000</td>\n",
       "    </tr>\n",
       "    <tr>\n",
       "      <th>2</th>\n",
       "      <td>45</td>\n",
       "      <td>3.232350</td>\n",
       "      <td>-17.093611</td>\n",
       "      <td>0.000000</td>\n",
       "    </tr>\n",
       "    <tr>\n",
       "      <th>3</th>\n",
       "      <td>60</td>\n",
       "      <td>2.054037</td>\n",
       "      <td>14.805989</td>\n",
       "      <td>9.870660</td>\n",
       "    </tr>\n",
       "    <tr>\n",
       "      <th>4</th>\n",
       "      <td>54</td>\n",
       "      <td>1.126647</td>\n",
       "      <td>-16.831765</td>\n",
       "      <td>9.870660</td>\n",
       "    </tr>\n",
       "    <tr>\n",
       "      <th>5</th>\n",
       "      <td>55</td>\n",
       "      <td>1.126647</td>\n",
       "      <td>29.686601</td>\n",
       "      <td>19.766193</td>\n",
       "    </tr>\n",
       "    <tr>\n",
       "      <th>6</th>\n",
       "      <td>47</td>\n",
       "      <td>0.307452</td>\n",
       "      <td>-18.636797</td>\n",
       "      <td>19.766193</td>\n",
       "    </tr>\n",
       "    <tr>\n",
       "      <th>7</th>\n",
       "      <td>48</td>\n",
       "      <td>0.307452</td>\n",
       "      <td>-32.962961</td>\n",
       "      <td>19.766193</td>\n",
       "    </tr>\n",
       "    <tr>\n",
       "      <th>8</th>\n",
       "      <td>49</td>\n",
       "      <td>0.307452</td>\n",
       "      <td>-2.708804</td>\n",
       "      <td>19.766193</td>\n",
       "    </tr>\n",
       "    <tr>\n",
       "      <th>9</th>\n",
       "      <td>50</td>\n",
       "      <td>0.237614</td>\n",
       "      <td>15.245872</td>\n",
       "      <td>21.460179</td>\n",
       "    </tr>\n",
       "    <tr>\n",
       "      <th>10</th>\n",
       "      <td>56</td>\n",
       "      <td>0.026023</td>\n",
       "      <td>21.277228</td>\n",
       "      <td>21.460179</td>\n",
       "    </tr>\n",
       "    <tr>\n",
       "      <th>11</th>\n",
       "      <td>59</td>\n",
       "      <td>0.558997</td>\n",
       "      <td>30.173291</td>\n",
       "      <td>28.714818</td>\n",
       "    </tr>\n",
       "    <tr>\n",
       "      <th>12</th>\n",
       "      <td>57</td>\n",
       "      <td>0.127730</td>\n",
       "      <td>18.7873</td>\n",
       "      <td>28.714818</td>\n",
       "    </tr>\n",
       "    <tr>\n",
       "      <th>13</th>\n",
       "      <td>56</td>\n",
       "      <td>0.598615</td>\n",
       "      <td>20.027533</td>\n",
       "      <td>31.948599</td>\n",
       "    </tr>\n",
       "    <tr>\n",
       "      <th>14</th>\n",
       "      <td>57</td>\n",
       "      <td>0.146558</td>\n",
       "      <td>-15.05276</td>\n",
       "      <td>31.948599</td>\n",
       "    </tr>\n",
       "    <tr>\n",
       "      <th>15</th>\n",
       "      <td>58</td>\n",
       "      <td>0.014515</td>\n",
       "      <td>4.615378</td>\n",
       "      <td>31.948599</td>\n",
       "    </tr>\n",
       "    <tr>\n",
       "      <th>16</th>\n",
       "      <td>49</td>\n",
       "      <td>0.006266</td>\n",
       "      <td>-25.660117</td>\n",
       "      <td>31.948599</td>\n",
       "    </tr>\n",
       "    <tr>\n",
       "      <th>17</th>\n",
       "      <td>61</td>\n",
       "      <td>0.000000</td>\n",
       "      <td>False</td>\n",
       "      <td>31.948599</td>\n",
       "    </tr>\n",
       "  </tbody>\n",
       "</table>\n",
       "</div>"
      ],
      "text/plain": [
       "    Action       VOC Observation  ExpTermReward\n",
       "0       15  3.232350   -8.138935       0.000000\n",
       "1       30  3.232350  -14.028475       0.000000\n",
       "2       45  3.232350  -17.093611       0.000000\n",
       "3       60  2.054037   14.805989       9.870660\n",
       "4       54  1.126647  -16.831765       9.870660\n",
       "5       55  1.126647   29.686601      19.766193\n",
       "6       47  0.307452  -18.636797      19.766193\n",
       "7       48  0.307452  -32.962961      19.766193\n",
       "8       49  0.307452   -2.708804      19.766193\n",
       "9       50  0.237614   15.245872      21.460179\n",
       "10      56  0.026023   21.277228      21.460179\n",
       "11      59  0.558997   30.173291      28.714818\n",
       "12      57  0.127730     18.7873      28.714818\n",
       "13      56  0.598615   20.027533      31.948599\n",
       "14      57  0.146558   -15.05276      31.948599\n",
       "15      58  0.014515    4.615378      31.948599\n",
       "16      49  0.006266  -25.660117      31.948599\n",
       "17      61  0.000000       False      31.948599"
      ]
     },
     "execution_count": 4,
     "metadata": {},
     "output_type": "execute_result"
    }
   ],
   "source": [
    "df, states, _ = analyse_generic(TREE, INIT, TAU, COST, seed=6, max_actions=200)\n",
    "df"
   ]
  },
  {
   "cell_type": "code",
   "execution_count": 5,
   "metadata": {},
   "outputs": [],
   "source": [
    "def get_action_indices(df, action):\n",
    "    actions = df[\"Action\"].tolist()\n",
    "    indices = []\n",
    "    for i, a in enumerate(actions):\n",
    "        if a == action:\n",
    "            indices.append(i+1)\n",
    "    return indices"
   ]
  },
  {
   "cell_type": "code",
   "execution_count": 6,
   "metadata": {},
   "outputs": [
    {
     "name": "stdout",
     "output_type": "stream",
     "text": [
      "13.0\n"
     ]
    },
    {
     "data": {
      "image/svg+xml": "<?xml version=\"1.0\" encoding=\"UTF-8\" standalone=\"no\"?>\r\n<!DOCTYPE svg PUBLIC \"-//W3C//DTD SVG 1.1//EN\"\r\n \"http://www.w3.org/Graphics/SVG/1.1/DTD/svg11.dtd\">\r\n<!-- Generated by graphviz version 2.48.0 (0)\r\n -->\r\n<!-- Pages: 1 -->\r\n<svg width=\"1160pt\" height=\"548pt\"\r\n viewBox=\"0.00 0.00 1160.00 548.00\" xmlns=\"http://www.w3.org/2000/svg\" xmlns:xlink=\"http://www.w3.org/1999/xlink\">\r\n<g id=\"graph0\" class=\"graph\" transform=\"scale(1 1) rotate(0) translate(4 544)\">\r\n<polygon fill=\"white\" stroke=\"transparent\" points=\"-4,4 -4,-544 1156,-544 1156,4 -4,4\"/>\r\n<!-- 0 -->\r\n<g id=\"node1\" class=\"node\">\r\n<title>0</title>\r\n<ellipse fill=\"#696969\" stroke=\"#696969\" cx=\"567\" cy=\"-522\" rx=\"27\" ry=\"18\"/>\r\n<text text-anchor=\"middle\" x=\"567\" y=\"-518.3\" font-family=\"Times New Roman,serif\" font-size=\"14.00\">0</text>\r\n</g>\r\n<!-- 1 -->\r\n<g id=\"node2\" class=\"node\">\r\n<title>1</title>\r\n<ellipse fill=\"#9d7272\" stroke=\"#9d7272\" cx=\"171\" cy=\"-450\" rx=\"27\" ry=\"18\"/>\r\n<text text-anchor=\"middle\" x=\"171\" y=\"-446.3\" font-family=\"Times New Roman,serif\" font-size=\"14.00\">0</text>\r\n</g>\r\n<!-- 0&#45;&gt;1 -->\r\n<g id=\"edge1\" class=\"edge\">\r\n<title>0&#45;&gt;1</title>\r\n<path fill=\"none\" stroke=\"black\" d=\"M541.02,-516.41C472.27,-504.25 285.48,-471.24 206.75,-457.32\"/>\r\n<polygon fill=\"black\" stroke=\"black\" points=\"207.28,-453.86 196.82,-455.56 206.06,-460.75 207.28,-453.86\"/>\r\n</g>\r\n<!-- 16 -->\r\n<g id=\"node3\" class=\"node\">\r\n<title>16</title>\r\n<ellipse fill=\"#9d7272\" stroke=\"#9d7272\" cx=\"459\" cy=\"-450\" rx=\"27\" ry=\"18\"/>\r\n<text text-anchor=\"middle\" x=\"459\" y=\"-446.3\" font-family=\"Times New Roman,serif\" font-size=\"14.00\">0</text>\r\n</g>\r\n<!-- 0&#45;&gt;16 -->\r\n<g id=\"edge2\" class=\"edge\">\r\n<title>0&#45;&gt;16</title>\r\n<path fill=\"none\" stroke=\"black\" d=\"M548.19,-508.81C531,-497.67 505.38,-481.06 486.01,-468.5\"/>\r\n<polygon fill=\"black\" stroke=\"black\" points=\"487.89,-465.56 477.6,-463.05 484.08,-471.43 487.89,-465.56\"/>\r\n</g>\r\n<!-- 31 -->\r\n<g id=\"node4\" class=\"node\">\r\n<title>31</title>\r\n<ellipse fill=\"#9d7272\" stroke=\"#9d7272\" cx=\"675\" cy=\"-450\" rx=\"27\" ry=\"18\"/>\r\n<text text-anchor=\"middle\" x=\"675\" y=\"-446.3\" font-family=\"Times New Roman,serif\" font-size=\"14.00\">0</text>\r\n</g>\r\n<!-- 0&#45;&gt;31 -->\r\n<g id=\"edge3\" class=\"edge\">\r\n<title>0&#45;&gt;31</title>\r\n<path fill=\"none\" stroke=\"black\" d=\"M585.81,-508.81C603,-497.67 628.62,-481.06 647.99,-468.5\"/>\r\n<polygon fill=\"black\" stroke=\"black\" points=\"649.92,-471.43 656.4,-463.05 646.11,-465.56 649.92,-471.43\"/>\r\n</g>\r\n<!-- 46 -->\r\n<g id=\"node5\" class=\"node\">\r\n<title>46</title>\r\n<ellipse fill=\"#9d7272\" stroke=\"#9d7272\" cx=\"972\" cy=\"-450\" rx=\"27\" ry=\"18\"/>\r\n<text text-anchor=\"middle\" x=\"972\" y=\"-446.3\" font-family=\"Times New Roman,serif\" font-size=\"14.00\">0</text>\r\n</g>\r\n<!-- 0&#45;&gt;46 -->\r\n<g id=\"edge4\" class=\"edge\">\r\n<title>0&#45;&gt;46</title>\r\n<path fill=\"none\" stroke=\"black\" d=\"M592.95,-516.51C662.96,-504.41 855.81,-471.08 936.15,-457.2\"/>\r\n<polygon fill=\"black\" stroke=\"black\" points=\"937.01,-460.6 946.27,-455.45 935.82,-453.7 937.01,-460.6\"/>\r\n</g>\r\n<!-- 2 -->\r\n<g id=\"node6\" class=\"node\">\r\n<title>2</title>\r\n<ellipse fill=\"#9d7272\" stroke=\"#9d7272\" cx=\"27\" cy=\"-378\" rx=\"27\" ry=\"18\"/>\r\n<text text-anchor=\"middle\" x=\"27\" y=\"-374.3\" font-family=\"Times New Roman,serif\" font-size=\"14.00\">0</text>\r\n</g>\r\n<!-- 1&#45;&gt;2 -->\r\n<g id=\"edge5\" class=\"edge\">\r\n<title>1&#45;&gt;2</title>\r\n<path fill=\"none\" stroke=\"black\" d=\"M149.75,-438.67C125.4,-426.83 85.28,-407.33 57.57,-393.86\"/>\r\n<polygon fill=\"black\" stroke=\"black\" points=\"58.86,-390.6 48.33,-389.37 55.8,-396.89 58.86,-390.6\"/>\r\n</g>\r\n<!-- 3 -->\r\n<g id=\"node7\" class=\"node\">\r\n<title>3</title>\r\n<ellipse fill=\"#9d7272\" stroke=\"#9d7272\" cx=\"99\" cy=\"-378\" rx=\"27\" ry=\"18\"/>\r\n<text text-anchor=\"middle\" x=\"99\" y=\"-374.3\" font-family=\"Times New Roman,serif\" font-size=\"14.00\">0</text>\r\n</g>\r\n<!-- 1&#45;&gt;3 -->\r\n<g id=\"edge6\" class=\"edge\">\r\n<title>1&#45;&gt;3</title>\r\n<path fill=\"none\" stroke=\"black\" d=\"M156.43,-434.83C146.25,-424.94 132.48,-411.55 120.97,-400.36\"/>\r\n<polygon fill=\"black\" stroke=\"black\" points=\"123.41,-397.85 113.8,-393.38 118.53,-402.87 123.41,-397.85\"/>\r\n</g>\r\n<!-- 4 -->\r\n<g id=\"node8\" class=\"node\">\r\n<title>4</title>\r\n<ellipse fill=\"#9d7272\" stroke=\"#9d7272\" cx=\"171\" cy=\"-378\" rx=\"27\" ry=\"18\"/>\r\n<text text-anchor=\"middle\" x=\"171\" y=\"-374.3\" font-family=\"Times New Roman,serif\" font-size=\"14.00\">0</text>\r\n</g>\r\n<!-- 1&#45;&gt;4 -->\r\n<g id=\"edge7\" class=\"edge\">\r\n<title>1&#45;&gt;4</title>\r\n<path fill=\"none\" stroke=\"black\" d=\"M171,-431.7C171,-423.98 171,-414.71 171,-406.11\"/>\r\n<polygon fill=\"black\" stroke=\"black\" points=\"174.5,-406.1 171,-396.1 167.5,-406.1 174.5,-406.1\"/>\r\n</g>\r\n<!-- 5 -->\r\n<g id=\"node9\" class=\"node\">\r\n<title>5</title>\r\n<ellipse fill=\"#9d7272\" stroke=\"#9d7272\" cx=\"243\" cy=\"-378\" rx=\"27\" ry=\"18\"/>\r\n<text text-anchor=\"middle\" x=\"243\" y=\"-374.3\" font-family=\"Times New Roman,serif\" font-size=\"14.00\">0</text>\r\n</g>\r\n<!-- 1&#45;&gt;5 -->\r\n<g id=\"edge8\" class=\"edge\">\r\n<title>1&#45;&gt;5</title>\r\n<path fill=\"none\" stroke=\"black\" d=\"M185.57,-434.83C195.75,-424.94 209.52,-411.55 221.03,-400.36\"/>\r\n<polygon fill=\"black\" stroke=\"black\" points=\"223.47,-402.87 228.2,-393.38 218.59,-397.85 223.47,-402.87\"/>\r\n</g>\r\n<!-- 17 -->\r\n<g id=\"node20\" class=\"node\">\r\n<title>17</title>\r\n<ellipse fill=\"#9d7272\" stroke=\"#9d7272\" cx=\"315\" cy=\"-378\" rx=\"27\" ry=\"18\"/>\r\n<text text-anchor=\"middle\" x=\"315\" y=\"-374.3\" font-family=\"Times New Roman,serif\" font-size=\"14.00\">0</text>\r\n</g>\r\n<!-- 16&#45;&gt;17 -->\r\n<g id=\"edge25\" class=\"edge\">\r\n<title>16&#45;&gt;17</title>\r\n<path fill=\"none\" stroke=\"black\" d=\"M437.75,-438.67C413.4,-426.83 373.28,-407.33 345.57,-393.86\"/>\r\n<polygon fill=\"black\" stroke=\"black\" points=\"346.86,-390.6 336.33,-389.37 343.8,-396.89 346.86,-390.6\"/>\r\n</g>\r\n<!-- 18 -->\r\n<g id=\"node21\" class=\"node\">\r\n<title>18</title>\r\n<ellipse fill=\"#9d7272\" stroke=\"#9d7272\" cx=\"387\" cy=\"-378\" rx=\"27\" ry=\"18\"/>\r\n<text text-anchor=\"middle\" x=\"387\" y=\"-374.3\" font-family=\"Times New Roman,serif\" font-size=\"14.00\">0</text>\r\n</g>\r\n<!-- 16&#45;&gt;18 -->\r\n<g id=\"edge26\" class=\"edge\">\r\n<title>16&#45;&gt;18</title>\r\n<path fill=\"none\" stroke=\"black\" d=\"M444.43,-434.83C434.25,-424.94 420.48,-411.55 408.97,-400.36\"/>\r\n<polygon fill=\"black\" stroke=\"black\" points=\"411.41,-397.85 401.8,-393.38 406.53,-402.87 411.41,-397.85\"/>\r\n</g>\r\n<!-- 19 -->\r\n<g id=\"node22\" class=\"node\">\r\n<title>19</title>\r\n<ellipse fill=\"#9d7272\" stroke=\"#9d7272\" cx=\"459\" cy=\"-378\" rx=\"27\" ry=\"18\"/>\r\n<text text-anchor=\"middle\" x=\"459\" y=\"-374.3\" font-family=\"Times New Roman,serif\" font-size=\"14.00\">0</text>\r\n</g>\r\n<!-- 16&#45;&gt;19 -->\r\n<g id=\"edge27\" class=\"edge\">\r\n<title>16&#45;&gt;19</title>\r\n<path fill=\"none\" stroke=\"black\" d=\"M459,-431.7C459,-423.98 459,-414.71 459,-406.11\"/>\r\n<polygon fill=\"black\" stroke=\"black\" points=\"462.5,-406.1 459,-396.1 455.5,-406.1 462.5,-406.1\"/>\r\n</g>\r\n<!-- 20 -->\r\n<g id=\"node23\" class=\"node\">\r\n<title>20</title>\r\n<ellipse fill=\"#9d7272\" stroke=\"#9d7272\" cx=\"531\" cy=\"-378\" rx=\"27\" ry=\"18\"/>\r\n<text text-anchor=\"middle\" x=\"531\" y=\"-374.3\" font-family=\"Times New Roman,serif\" font-size=\"14.00\">0</text>\r\n</g>\r\n<!-- 16&#45;&gt;20 -->\r\n<g id=\"edge28\" class=\"edge\">\r\n<title>16&#45;&gt;20</title>\r\n<path fill=\"none\" stroke=\"black\" d=\"M473.57,-434.83C483.75,-424.94 497.52,-411.55 509.03,-400.36\"/>\r\n<polygon fill=\"black\" stroke=\"black\" points=\"511.47,-402.87 516.2,-393.38 506.59,-397.85 511.47,-402.87\"/>\r\n</g>\r\n<!-- 32 -->\r\n<g id=\"node34\" class=\"node\">\r\n<title>32</title>\r\n<ellipse fill=\"#9d7272\" stroke=\"#9d7272\" cx=\"603\" cy=\"-378\" rx=\"27\" ry=\"18\"/>\r\n<text text-anchor=\"middle\" x=\"603\" y=\"-374.3\" font-family=\"Times New Roman,serif\" font-size=\"14.00\">0</text>\r\n</g>\r\n<!-- 31&#45;&gt;32 -->\r\n<g id=\"edge45\" class=\"edge\">\r\n<title>31&#45;&gt;32</title>\r\n<path fill=\"none\" stroke=\"black\" d=\"M660.43,-434.83C650.25,-424.94 636.48,-411.55 624.97,-400.36\"/>\r\n<polygon fill=\"black\" stroke=\"black\" points=\"627.41,-397.85 617.8,-393.38 622.53,-402.87 627.41,-397.85\"/>\r\n</g>\r\n<!-- 33 -->\r\n<g id=\"node35\" class=\"node\">\r\n<title>33</title>\r\n<ellipse fill=\"#9d7272\" stroke=\"#9d7272\" cx=\"675\" cy=\"-378\" rx=\"27\" ry=\"18\"/>\r\n<text text-anchor=\"middle\" x=\"675\" y=\"-374.3\" font-family=\"Times New Roman,serif\" font-size=\"14.00\">0</text>\r\n</g>\r\n<!-- 31&#45;&gt;33 -->\r\n<g id=\"edge46\" class=\"edge\">\r\n<title>31&#45;&gt;33</title>\r\n<path fill=\"none\" stroke=\"black\" d=\"M675,-431.7C675,-423.98 675,-414.71 675,-406.11\"/>\r\n<polygon fill=\"black\" stroke=\"black\" points=\"678.5,-406.1 675,-396.1 671.5,-406.1 678.5,-406.1\"/>\r\n</g>\r\n<!-- 34 -->\r\n<g id=\"node36\" class=\"node\">\r\n<title>34</title>\r\n<ellipse fill=\"#9d7272\" stroke=\"#9d7272\" cx=\"747\" cy=\"-378\" rx=\"27\" ry=\"18\"/>\r\n<text text-anchor=\"middle\" x=\"747\" y=\"-374.3\" font-family=\"Times New Roman,serif\" font-size=\"14.00\">0</text>\r\n</g>\r\n<!-- 31&#45;&gt;34 -->\r\n<g id=\"edge47\" class=\"edge\">\r\n<title>31&#45;&gt;34</title>\r\n<path fill=\"none\" stroke=\"black\" d=\"M689.57,-434.83C699.75,-424.94 713.52,-411.55 725.03,-400.36\"/>\r\n<polygon fill=\"black\" stroke=\"black\" points=\"727.47,-402.87 732.2,-393.38 722.59,-397.85 727.47,-402.87\"/>\r\n</g>\r\n<!-- 35 -->\r\n<g id=\"node37\" class=\"node\">\r\n<title>35</title>\r\n<ellipse fill=\"#9d7272\" stroke=\"#9d7272\" cx=\"819\" cy=\"-378\" rx=\"27\" ry=\"18\"/>\r\n<text text-anchor=\"middle\" x=\"819\" y=\"-374.3\" font-family=\"Times New Roman,serif\" font-size=\"14.00\">0</text>\r\n</g>\r\n<!-- 31&#45;&gt;35 -->\r\n<g id=\"edge48\" class=\"edge\">\r\n<title>31&#45;&gt;35</title>\r\n<path fill=\"none\" stroke=\"black\" d=\"M696.25,-438.67C720.6,-426.83 760.72,-407.33 788.43,-393.86\"/>\r\n<polygon fill=\"black\" stroke=\"black\" points=\"790.2,-396.89 797.67,-389.37 787.14,-390.6 790.2,-396.89\"/>\r\n</g>\r\n<!-- 47 -->\r\n<g id=\"node48\" class=\"node\">\r\n<title>47</title>\r\n<ellipse fill=\"#9a7171\" stroke=\"#9a7171\" cx=\"894\" cy=\"-378\" rx=\"29.8\" ry=\"18\"/>\r\n<text text-anchor=\"middle\" x=\"894\" y=\"-374.3\" font-family=\"Times New Roman,serif\" font-size=\"14.00\">&#45;2.07</text>\r\n<text text-anchor=\"middle\" x=\"860.6\" y=\"-399.8\" font-family=\"Times New Roman,serif\" font-size=\"14.00\">7</text>\r\n</g>\r\n<!-- 46&#45;&gt;47 -->\r\n<g id=\"edge65\" class=\"edge\">\r\n<title>46&#45;&gt;47</title>\r\n<path fill=\"none\" stroke=\"black\" d=\"M956.59,-435.17C945.41,-425.14 930.09,-411.39 917.41,-400.01\"/>\r\n<polygon fill=\"black\" stroke=\"black\" points=\"919.69,-397.36 909.91,-393.28 915.02,-402.57 919.69,-397.36\"/>\r\n</g>\r\n<!-- 48 -->\r\n<g id=\"node49\" class=\"node\">\r\n<title>48</title>\r\n<ellipse fill=\"#9a7171\" stroke=\"#9a7171\" cx=\"972\" cy=\"-378\" rx=\"29.8\" ry=\"18\"/>\r\n<text text-anchor=\"middle\" x=\"972\" y=\"-374.3\" font-family=\"Times New Roman,serif\" font-size=\"14.00\">&#45;3.66</text>\r\n<text text-anchor=\"middle\" x=\"938.6\" y=\"-399.8\" font-family=\"Times New Roman,serif\" font-size=\"14.00\">8</text>\r\n</g>\r\n<!-- 46&#45;&gt;48 -->\r\n<g id=\"edge66\" class=\"edge\">\r\n<title>46&#45;&gt;48</title>\r\n<path fill=\"none\" stroke=\"black\" d=\"M972,-431.7C972,-423.98 972,-414.71 972,-406.11\"/>\r\n<polygon fill=\"black\" stroke=\"black\" points=\"975.5,-406.1 972,-396.1 968.5,-406.1 975.5,-406.1\"/>\r\n</g>\r\n<!-- 49 -->\r\n<g id=\"node50\" class=\"node\">\r\n<title>49</title>\r\n<ellipse fill=\"#977171\" stroke=\"#977171\" cx=\"1050\" cy=\"-378\" rx=\"29.8\" ry=\"18\"/>\r\n<text text-anchor=\"middle\" x=\"1050\" y=\"-374.3\" font-family=\"Times New Roman,serif\" font-size=\"14.00\">&#45;2.84</text>\r\n<text text-anchor=\"middle\" x=\"1006.1\" y=\"-399.8\" font-family=\"Times New Roman,serif\" font-size=\"14.00\">9, 17</text>\r\n</g>\r\n<!-- 46&#45;&gt;49 -->\r\n<g id=\"edge67\" class=\"edge\">\r\n<title>46&#45;&gt;49</title>\r\n<path fill=\"none\" stroke=\"black\" d=\"M987.41,-435.17C998.59,-425.14 1013.91,-411.39 1026.59,-400.01\"/>\r\n<polygon fill=\"black\" stroke=\"black\" points=\"1028.98,-402.57 1034.09,-393.28 1024.31,-397.36 1028.98,-402.57\"/>\r\n</g>\r\n<!-- 50 -->\r\n<g id=\"node51\" class=\"node\">\r\n<title>50</title>\r\n<ellipse fill=\"#9a7171\" stroke=\"#9a7171\" cx=\"1125\" cy=\"-378\" rx=\"27\" ry=\"18\"/>\r\n<text text-anchor=\"middle\" x=\"1125\" y=\"-374.3\" font-family=\"Times New Roman,serif\" font-size=\"14.00\">1.69</text>\r\n<text text-anchor=\"middle\" x=\"1091\" y=\"-399.8\" font-family=\"Times New Roman,serif\" font-size=\"14.00\">10</text>\r\n</g>\r\n<!-- 46&#45;&gt;50 -->\r\n<g id=\"edge68\" class=\"edge\">\r\n<title>46&#45;&gt;50</title>\r\n<path fill=\"none\" stroke=\"black\" d=\"M994.04,-439.14C1017.6,-428.57 1056.01,-411.26 1089,-396 1090.79,-395.17 1092.62,-394.32 1094.48,-393.46\"/>\r\n<polygon fill=\"black\" stroke=\"black\" points=\"1096.14,-396.54 1103.71,-389.12 1093.17,-390.2 1096.14,-396.54\"/>\r\n</g>\r\n<!-- 6 -->\r\n<g id=\"node10\" class=\"node\">\r\n<title>6</title>\r\n<ellipse fill=\"#9d7272\" stroke=\"#9d7272\" cx=\"99\" cy=\"-306\" rx=\"27\" ry=\"18\"/>\r\n<text text-anchor=\"middle\" x=\"99\" y=\"-302.3\" font-family=\"Times New Roman,serif\" font-size=\"14.00\">0</text>\r\n</g>\r\n<!-- 2&#45;&gt;6 -->\r\n<g id=\"edge9\" class=\"edge\">\r\n<title>2&#45;&gt;6</title>\r\n<path fill=\"none\" stroke=\"black\" d=\"M41.57,-362.83C51.75,-352.94 65.52,-339.55 77.03,-328.36\"/>\r\n<polygon fill=\"black\" stroke=\"black\" points=\"79.47,-330.87 84.2,-321.38 74.59,-325.85 79.47,-330.87\"/>\r\n</g>\r\n<!-- 3&#45;&gt;6 -->\r\n<g id=\"edge10\" class=\"edge\">\r\n<title>3&#45;&gt;6</title>\r\n<path fill=\"none\" stroke=\"black\" d=\"M99,-359.7C99,-351.98 99,-342.71 99,-334.11\"/>\r\n<polygon fill=\"black\" stroke=\"black\" points=\"102.5,-334.1 99,-324.1 95.5,-334.1 102.5,-334.1\"/>\r\n</g>\r\n<!-- 7 -->\r\n<g id=\"node11\" class=\"node\">\r\n<title>7</title>\r\n<ellipse fill=\"#9d7272\" stroke=\"#9d7272\" cx=\"171\" cy=\"-306\" rx=\"27\" ry=\"18\"/>\r\n<text text-anchor=\"middle\" x=\"171\" y=\"-302.3\" font-family=\"Times New Roman,serif\" font-size=\"14.00\">0</text>\r\n</g>\r\n<!-- 4&#45;&gt;7 -->\r\n<g id=\"edge11\" class=\"edge\">\r\n<title>4&#45;&gt;7</title>\r\n<path fill=\"none\" stroke=\"black\" d=\"M171,-359.7C171,-351.98 171,-342.71 171,-334.11\"/>\r\n<polygon fill=\"black\" stroke=\"black\" points=\"174.5,-334.1 171,-324.1 167.5,-334.1 174.5,-334.1\"/>\r\n</g>\r\n<!-- 5&#45;&gt;7 -->\r\n<g id=\"edge12\" class=\"edge\">\r\n<title>5&#45;&gt;7</title>\r\n<path fill=\"none\" stroke=\"black\" d=\"M228.43,-362.83C218.25,-352.94 204.48,-339.55 192.97,-328.36\"/>\r\n<polygon fill=\"black\" stroke=\"black\" points=\"195.41,-325.85 185.8,-321.38 190.53,-330.87 195.41,-325.85\"/>\r\n</g>\r\n<!-- 8 -->\r\n<g id=\"node12\" class=\"node\">\r\n<title>8</title>\r\n<ellipse fill=\"#d17b7b\" stroke=\"#d17b7b\" cx=\"99\" cy=\"-234\" rx=\"27\" ry=\"18\"/>\r\n<text text-anchor=\"middle\" x=\"99\" y=\"-230.3\" font-family=\"Times New Roman,serif\" font-size=\"14.00\">0</text>\r\n</g>\r\n<!-- 6&#45;&gt;8 -->\r\n<g id=\"edge13\" class=\"edge\">\r\n<title>6&#45;&gt;8</title>\r\n<path fill=\"none\" stroke=\"black\" d=\"M99,-287.7C99,-279.98 99,-270.71 99,-262.11\"/>\r\n<polygon fill=\"black\" stroke=\"black\" points=\"102.5,-262.1 99,-252.1 95.5,-262.1 102.5,-262.1\"/>\r\n</g>\r\n<!-- 7&#45;&gt;8 -->\r\n<g id=\"edge14\" class=\"edge\">\r\n<title>7&#45;&gt;8</title>\r\n<path fill=\"none\" stroke=\"black\" d=\"M156.43,-290.83C146.25,-280.94 132.48,-267.55 120.97,-256.36\"/>\r\n<polygon fill=\"black\" stroke=\"black\" points=\"123.41,-253.85 113.8,-249.38 118.53,-258.87 123.41,-253.85\"/>\r\n</g>\r\n<!-- 9 -->\r\n<g id=\"node13\" class=\"node\">\r\n<title>9</title>\r\n<ellipse fill=\"#d17b7b\" stroke=\"#d17b7b\" cx=\"27\" cy=\"-162\" rx=\"27\" ry=\"18\"/>\r\n<text text-anchor=\"middle\" x=\"27\" y=\"-158.3\" font-family=\"Times New Roman,serif\" font-size=\"14.00\">0</text>\r\n</g>\r\n<!-- 8&#45;&gt;9 -->\r\n<g id=\"edge15\" class=\"edge\">\r\n<title>8&#45;&gt;9</title>\r\n<path fill=\"none\" stroke=\"black\" d=\"M84.43,-218.83C74.25,-208.94 60.48,-195.55 48.97,-184.36\"/>\r\n<polygon fill=\"black\" stroke=\"black\" points=\"51.41,-181.85 41.8,-177.38 46.53,-186.87 51.41,-181.85\"/>\r\n</g>\r\n<!-- 10 -->\r\n<g id=\"node14\" class=\"node\">\r\n<title>10</title>\r\n<ellipse fill=\"#d17b7b\" stroke=\"#d17b7b\" cx=\"99\" cy=\"-162\" rx=\"27\" ry=\"18\"/>\r\n<text text-anchor=\"middle\" x=\"99\" y=\"-158.3\" font-family=\"Times New Roman,serif\" font-size=\"14.00\">0</text>\r\n</g>\r\n<!-- 8&#45;&gt;10 -->\r\n<g id=\"edge16\" class=\"edge\">\r\n<title>8&#45;&gt;10</title>\r\n<path fill=\"none\" stroke=\"black\" d=\"M99,-215.7C99,-207.98 99,-198.71 99,-190.11\"/>\r\n<polygon fill=\"black\" stroke=\"black\" points=\"102.5,-190.1 99,-180.1 95.5,-190.1 102.5,-190.1\"/>\r\n</g>\r\n<!-- 11 -->\r\n<g id=\"node15\" class=\"node\">\r\n<title>11</title>\r\n<ellipse fill=\"#d17b7b\" stroke=\"#d17b7b\" cx=\"171\" cy=\"-162\" rx=\"27\" ry=\"18\"/>\r\n<text text-anchor=\"middle\" x=\"171\" y=\"-158.3\" font-family=\"Times New Roman,serif\" font-size=\"14.00\">0</text>\r\n</g>\r\n<!-- 8&#45;&gt;11 -->\r\n<g id=\"edge17\" class=\"edge\">\r\n<title>8&#45;&gt;11</title>\r\n<path fill=\"none\" stroke=\"black\" d=\"M113.57,-218.83C123.75,-208.94 137.52,-195.55 149.03,-184.36\"/>\r\n<polygon fill=\"black\" stroke=\"black\" points=\"151.47,-186.87 156.2,-177.38 146.59,-181.85 151.47,-186.87\"/>\r\n</g>\r\n<!-- 12 -->\r\n<g id=\"node16\" class=\"node\">\r\n<title>12</title>\r\n<ellipse fill=\"#d17b7b\" stroke=\"#d17b7b\" cx=\"243\" cy=\"-162\" rx=\"27\" ry=\"18\"/>\r\n<text text-anchor=\"middle\" x=\"243\" y=\"-158.3\" font-family=\"Times New Roman,serif\" font-size=\"14.00\">0</text>\r\n</g>\r\n<!-- 8&#45;&gt;12 -->\r\n<g id=\"edge18\" class=\"edge\">\r\n<title>8&#45;&gt;12</title>\r\n<path fill=\"none\" stroke=\"black\" d=\"M120.25,-222.67C144.6,-210.83 184.72,-191.33 212.43,-177.86\"/>\r\n<polygon fill=\"black\" stroke=\"black\" points=\"214.2,-180.89 221.67,-173.37 211.14,-174.6 214.2,-180.89\"/>\r\n</g>\r\n<!-- 13 -->\r\n<g id=\"node17\" class=\"node\">\r\n<title>13</title>\r\n<ellipse fill=\"#d17b7b\" stroke=\"#d17b7b\" cx=\"99\" cy=\"-90\" rx=\"27\" ry=\"18\"/>\r\n<text text-anchor=\"middle\" x=\"99\" y=\"-86.3\" font-family=\"Times New Roman,serif\" font-size=\"14.00\">0</text>\r\n</g>\r\n<!-- 9&#45;&gt;13 -->\r\n<g id=\"edge19\" class=\"edge\">\r\n<title>9&#45;&gt;13</title>\r\n<path fill=\"none\" stroke=\"black\" d=\"M41.57,-146.83C51.75,-136.94 65.52,-123.55 77.03,-112.36\"/>\r\n<polygon fill=\"black\" stroke=\"black\" points=\"79.47,-114.87 84.2,-105.38 74.59,-109.85 79.47,-114.87\"/>\r\n</g>\r\n<!-- 10&#45;&gt;13 -->\r\n<g id=\"edge20\" class=\"edge\">\r\n<title>10&#45;&gt;13</title>\r\n<path fill=\"none\" stroke=\"black\" d=\"M99,-143.7C99,-135.98 99,-126.71 99,-118.11\"/>\r\n<polygon fill=\"black\" stroke=\"black\" points=\"102.5,-118.1 99,-108.1 95.5,-118.1 102.5,-118.1\"/>\r\n</g>\r\n<!-- 14 -->\r\n<g id=\"node18\" class=\"node\">\r\n<title>14</title>\r\n<ellipse fill=\"#d17b7b\" stroke=\"#d17b7b\" cx=\"171\" cy=\"-90\" rx=\"27\" ry=\"18\"/>\r\n<text text-anchor=\"middle\" x=\"171\" y=\"-86.3\" font-family=\"Times New Roman,serif\" font-size=\"14.00\">0</text>\r\n</g>\r\n<!-- 11&#45;&gt;14 -->\r\n<g id=\"edge21\" class=\"edge\">\r\n<title>11&#45;&gt;14</title>\r\n<path fill=\"none\" stroke=\"black\" d=\"M171,-143.7C171,-135.98 171,-126.71 171,-118.11\"/>\r\n<polygon fill=\"black\" stroke=\"black\" points=\"174.5,-118.1 171,-108.1 167.5,-118.1 174.5,-118.1\"/>\r\n</g>\r\n<!-- 12&#45;&gt;14 -->\r\n<g id=\"edge22\" class=\"edge\">\r\n<title>12&#45;&gt;14</title>\r\n<path fill=\"none\" stroke=\"black\" d=\"M228.43,-146.83C218.25,-136.94 204.48,-123.55 192.97,-112.36\"/>\r\n<polygon fill=\"black\" stroke=\"black\" points=\"195.41,-109.85 185.8,-105.38 190.53,-114.87 195.41,-109.85\"/>\r\n</g>\r\n<!-- 15 -->\r\n<g id=\"node19\" class=\"node\">\r\n<title>15</title>\r\n<ellipse fill=\"#e17d7d\" stroke=\"#e17d7d\" cx=\"135\" cy=\"-18\" rx=\"29.8\" ry=\"18\"/>\r\n<text text-anchor=\"middle\" x=\"135\" y=\"-14.3\" font-family=\"Times New Roman,serif\" font-size=\"14.00\">&#45;5.43</text>\r\n<text text-anchor=\"middle\" x=\"101.6\" y=\"-39.8\" font-family=\"Times New Roman,serif\" font-size=\"14.00\">1</text>\r\n</g>\r\n<!-- 13&#45;&gt;15 -->\r\n<g id=\"edge23\" class=\"edge\">\r\n<title>13&#45;&gt;15</title>\r\n<path fill=\"none\" stroke=\"black\" d=\"M107.35,-72.76C111.65,-64.4 116.99,-54.02 121.83,-44.61\"/>\r\n<polygon fill=\"black\" stroke=\"black\" points=\"124.98,-46.13 126.45,-35.63 118.76,-42.93 124.98,-46.13\"/>\r\n</g>\r\n<!-- 14&#45;&gt;15 -->\r\n<g id=\"edge24\" class=\"edge\">\r\n<title>14&#45;&gt;15</title>\r\n<path fill=\"none\" stroke=\"black\" d=\"M162.65,-72.76C158.35,-64.4 153.01,-54.02 148.17,-44.61\"/>\r\n<polygon fill=\"black\" stroke=\"black\" points=\"151.24,-42.93 143.55,-35.63 145.02,-46.13 151.24,-42.93\"/>\r\n</g>\r\n<!-- 21 -->\r\n<g id=\"node24\" class=\"node\">\r\n<title>21</title>\r\n<ellipse fill=\"#9d7272\" stroke=\"#9d7272\" cx=\"387\" cy=\"-306\" rx=\"27\" ry=\"18\"/>\r\n<text text-anchor=\"middle\" x=\"387\" y=\"-302.3\" font-family=\"Times New Roman,serif\" font-size=\"14.00\">0</text>\r\n</g>\r\n<!-- 17&#45;&gt;21 -->\r\n<g id=\"edge29\" class=\"edge\">\r\n<title>17&#45;&gt;21</title>\r\n<path fill=\"none\" stroke=\"black\" d=\"M329.57,-362.83C339.75,-352.94 353.52,-339.55 365.03,-328.36\"/>\r\n<polygon fill=\"black\" stroke=\"black\" points=\"367.47,-330.87 372.2,-321.38 362.59,-325.85 367.47,-330.87\"/>\r\n</g>\r\n<!-- 18&#45;&gt;21 -->\r\n<g id=\"edge30\" class=\"edge\">\r\n<title>18&#45;&gt;21</title>\r\n<path fill=\"none\" stroke=\"black\" d=\"M387,-359.7C387,-351.98 387,-342.71 387,-334.11\"/>\r\n<polygon fill=\"black\" stroke=\"black\" points=\"390.5,-334.1 387,-324.1 383.5,-334.1 390.5,-334.1\"/>\r\n</g>\r\n<!-- 22 -->\r\n<g id=\"node25\" class=\"node\">\r\n<title>22</title>\r\n<ellipse fill=\"#9d7272\" stroke=\"#9d7272\" cx=\"459\" cy=\"-306\" rx=\"27\" ry=\"18\"/>\r\n<text text-anchor=\"middle\" x=\"459\" y=\"-302.3\" font-family=\"Times New Roman,serif\" font-size=\"14.00\">0</text>\r\n</g>\r\n<!-- 19&#45;&gt;22 -->\r\n<g id=\"edge31\" class=\"edge\">\r\n<title>19&#45;&gt;22</title>\r\n<path fill=\"none\" stroke=\"black\" d=\"M459,-359.7C459,-351.98 459,-342.71 459,-334.11\"/>\r\n<polygon fill=\"black\" stroke=\"black\" points=\"462.5,-334.1 459,-324.1 455.5,-334.1 462.5,-334.1\"/>\r\n</g>\r\n<!-- 20&#45;&gt;22 -->\r\n<g id=\"edge32\" class=\"edge\">\r\n<title>20&#45;&gt;22</title>\r\n<path fill=\"none\" stroke=\"black\" d=\"M516.43,-362.83C506.25,-352.94 492.48,-339.55 480.97,-328.36\"/>\r\n<polygon fill=\"black\" stroke=\"black\" points=\"483.41,-325.85 473.8,-321.38 478.53,-330.87 483.41,-325.85\"/>\r\n</g>\r\n<!-- 23 -->\r\n<g id=\"node26\" class=\"node\">\r\n<title>23</title>\r\n<ellipse fill=\"#d17b7b\" stroke=\"#d17b7b\" cx=\"459\" cy=\"-234\" rx=\"27\" ry=\"18\"/>\r\n<text text-anchor=\"middle\" x=\"459\" y=\"-230.3\" font-family=\"Times New Roman,serif\" font-size=\"14.00\">0</text>\r\n</g>\r\n<!-- 21&#45;&gt;23 -->\r\n<g id=\"edge33\" class=\"edge\">\r\n<title>21&#45;&gt;23</title>\r\n<path fill=\"none\" stroke=\"black\" d=\"M401.57,-290.83C411.75,-280.94 425.52,-267.55 437.03,-256.36\"/>\r\n<polygon fill=\"black\" stroke=\"black\" points=\"439.47,-258.87 444.2,-249.38 434.59,-253.85 439.47,-258.87\"/>\r\n</g>\r\n<!-- 22&#45;&gt;23 -->\r\n<g id=\"edge34\" class=\"edge\">\r\n<title>22&#45;&gt;23</title>\r\n<path fill=\"none\" stroke=\"black\" d=\"M459,-287.7C459,-279.98 459,-270.71 459,-262.11\"/>\r\n<polygon fill=\"black\" stroke=\"black\" points=\"462.5,-262.1 459,-252.1 455.5,-262.1 462.5,-262.1\"/>\r\n</g>\r\n<!-- 24 -->\r\n<g id=\"node27\" class=\"node\">\r\n<title>24</title>\r\n<ellipse fill=\"#d17b7b\" stroke=\"#d17b7b\" cx=\"315\" cy=\"-162\" rx=\"27\" ry=\"18\"/>\r\n<text text-anchor=\"middle\" x=\"315\" y=\"-158.3\" font-family=\"Times New Roman,serif\" font-size=\"14.00\">0</text>\r\n</g>\r\n<!-- 23&#45;&gt;24 -->\r\n<g id=\"edge35\" class=\"edge\">\r\n<title>23&#45;&gt;24</title>\r\n<path fill=\"none\" stroke=\"black\" d=\"M437.75,-222.67C413.4,-210.83 373.28,-191.33 345.57,-177.86\"/>\r\n<polygon fill=\"black\" stroke=\"black\" points=\"346.86,-174.6 336.33,-173.37 343.8,-180.89 346.86,-174.6\"/>\r\n</g>\r\n<!-- 25 -->\r\n<g id=\"node28\" class=\"node\">\r\n<title>25</title>\r\n<ellipse fill=\"#d17b7b\" stroke=\"#d17b7b\" cx=\"387\" cy=\"-162\" rx=\"27\" ry=\"18\"/>\r\n<text text-anchor=\"middle\" x=\"387\" y=\"-158.3\" font-family=\"Times New Roman,serif\" font-size=\"14.00\">0</text>\r\n</g>\r\n<!-- 23&#45;&gt;25 -->\r\n<g id=\"edge36\" class=\"edge\">\r\n<title>23&#45;&gt;25</title>\r\n<path fill=\"none\" stroke=\"black\" d=\"M444.43,-218.83C434.25,-208.94 420.48,-195.55 408.97,-184.36\"/>\r\n<polygon fill=\"black\" stroke=\"black\" points=\"411.41,-181.85 401.8,-177.38 406.53,-186.87 411.41,-181.85\"/>\r\n</g>\r\n<!-- 26 -->\r\n<g id=\"node29\" class=\"node\">\r\n<title>26</title>\r\n<ellipse fill=\"#d17b7b\" stroke=\"#d17b7b\" cx=\"459\" cy=\"-162\" rx=\"27\" ry=\"18\"/>\r\n<text text-anchor=\"middle\" x=\"459\" y=\"-158.3\" font-family=\"Times New Roman,serif\" font-size=\"14.00\">0</text>\r\n</g>\r\n<!-- 23&#45;&gt;26 -->\r\n<g id=\"edge37\" class=\"edge\">\r\n<title>23&#45;&gt;26</title>\r\n<path fill=\"none\" stroke=\"black\" d=\"M459,-215.7C459,-207.98 459,-198.71 459,-190.11\"/>\r\n<polygon fill=\"black\" stroke=\"black\" points=\"462.5,-190.1 459,-180.1 455.5,-190.1 462.5,-190.1\"/>\r\n</g>\r\n<!-- 27 -->\r\n<g id=\"node30\" class=\"node\">\r\n<title>27</title>\r\n<ellipse fill=\"#d17b7b\" stroke=\"#d17b7b\" cx=\"531\" cy=\"-162\" rx=\"27\" ry=\"18\"/>\r\n<text text-anchor=\"middle\" x=\"531\" y=\"-158.3\" font-family=\"Times New Roman,serif\" font-size=\"14.00\">0</text>\r\n</g>\r\n<!-- 23&#45;&gt;27 -->\r\n<g id=\"edge38\" class=\"edge\">\r\n<title>23&#45;&gt;27</title>\r\n<path fill=\"none\" stroke=\"black\" d=\"M473.57,-218.83C483.75,-208.94 497.52,-195.55 509.03,-184.36\"/>\r\n<polygon fill=\"black\" stroke=\"black\" points=\"511.47,-186.87 516.2,-177.38 506.59,-181.85 511.47,-186.87\"/>\r\n</g>\r\n<!-- 28 -->\r\n<g id=\"node31\" class=\"node\">\r\n<title>28</title>\r\n<ellipse fill=\"#d17b7b\" stroke=\"#d17b7b\" cx=\"387\" cy=\"-90\" rx=\"27\" ry=\"18\"/>\r\n<text text-anchor=\"middle\" x=\"387\" y=\"-86.3\" font-family=\"Times New Roman,serif\" font-size=\"14.00\">0</text>\r\n</g>\r\n<!-- 24&#45;&gt;28 -->\r\n<g id=\"edge39\" class=\"edge\">\r\n<title>24&#45;&gt;28</title>\r\n<path fill=\"none\" stroke=\"black\" d=\"M329.57,-146.83C339.75,-136.94 353.52,-123.55 365.03,-112.36\"/>\r\n<polygon fill=\"black\" stroke=\"black\" points=\"367.47,-114.87 372.2,-105.38 362.59,-109.85 367.47,-114.87\"/>\r\n</g>\r\n<!-- 25&#45;&gt;28 -->\r\n<g id=\"edge40\" class=\"edge\">\r\n<title>25&#45;&gt;28</title>\r\n<path fill=\"none\" stroke=\"black\" d=\"M387,-143.7C387,-135.98 387,-126.71 387,-118.11\"/>\r\n<polygon fill=\"black\" stroke=\"black\" points=\"390.5,-118.1 387,-108.1 383.5,-118.1 390.5,-118.1\"/>\r\n</g>\r\n<!-- 29 -->\r\n<g id=\"node32\" class=\"node\">\r\n<title>29</title>\r\n<ellipse fill=\"#d17b7b\" stroke=\"#d17b7b\" cx=\"459\" cy=\"-90\" rx=\"27\" ry=\"18\"/>\r\n<text text-anchor=\"middle\" x=\"459\" y=\"-86.3\" font-family=\"Times New Roman,serif\" font-size=\"14.00\">0</text>\r\n</g>\r\n<!-- 26&#45;&gt;29 -->\r\n<g id=\"edge41\" class=\"edge\">\r\n<title>26&#45;&gt;29</title>\r\n<path fill=\"none\" stroke=\"black\" d=\"M459,-143.7C459,-135.98 459,-126.71 459,-118.11\"/>\r\n<polygon fill=\"black\" stroke=\"black\" points=\"462.5,-118.1 459,-108.1 455.5,-118.1 462.5,-118.1\"/>\r\n</g>\r\n<!-- 27&#45;&gt;29 -->\r\n<g id=\"edge42\" class=\"edge\">\r\n<title>27&#45;&gt;29</title>\r\n<path fill=\"none\" stroke=\"black\" d=\"M516.43,-146.83C506.25,-136.94 492.48,-123.55 480.97,-112.36\"/>\r\n<polygon fill=\"black\" stroke=\"black\" points=\"483.41,-109.85 473.8,-105.38 478.53,-114.87 483.41,-109.85\"/>\r\n</g>\r\n<!-- 30 -->\r\n<g id=\"node33\" class=\"node\">\r\n<title>30</title>\r\n<ellipse fill=\"#e17d7d\" stroke=\"#e17d7d\" cx=\"423\" cy=\"-18\" rx=\"29.8\" ry=\"18\"/>\r\n<text text-anchor=\"middle\" x=\"423\" y=\"-14.3\" font-family=\"Times New Roman,serif\" font-size=\"14.00\">&#45;9.35</text>\r\n<text text-anchor=\"middle\" x=\"389.6\" y=\"-39.8\" font-family=\"Times New Roman,serif\" font-size=\"14.00\">2</text>\r\n</g>\r\n<!-- 28&#45;&gt;30 -->\r\n<g id=\"edge43\" class=\"edge\">\r\n<title>28&#45;&gt;30</title>\r\n<path fill=\"none\" stroke=\"black\" d=\"M395.35,-72.76C399.65,-64.4 404.99,-54.02 409.83,-44.61\"/>\r\n<polygon fill=\"black\" stroke=\"black\" points=\"412.98,-46.13 414.45,-35.63 406.76,-42.93 412.98,-46.13\"/>\r\n</g>\r\n<!-- 29&#45;&gt;30 -->\r\n<g id=\"edge44\" class=\"edge\">\r\n<title>29&#45;&gt;30</title>\r\n<path fill=\"none\" stroke=\"black\" d=\"M450.65,-72.76C446.35,-64.4 441.01,-54.02 436.17,-44.61\"/>\r\n<polygon fill=\"black\" stroke=\"black\" points=\"439.24,-42.93 431.55,-35.63 433.02,-46.13 439.24,-42.93\"/>\r\n</g>\r\n<!-- 36 -->\r\n<g id=\"node38\" class=\"node\">\r\n<title>36</title>\r\n<ellipse fill=\"#9d7272\" stroke=\"#9d7272\" cx=\"675\" cy=\"-306\" rx=\"27\" ry=\"18\"/>\r\n<text text-anchor=\"middle\" x=\"675\" y=\"-302.3\" font-family=\"Times New Roman,serif\" font-size=\"14.00\">0</text>\r\n</g>\r\n<!-- 32&#45;&gt;36 -->\r\n<g id=\"edge49\" class=\"edge\">\r\n<title>32&#45;&gt;36</title>\r\n<path fill=\"none\" stroke=\"black\" d=\"M617.57,-362.83C627.75,-352.94 641.52,-339.55 653.03,-328.36\"/>\r\n<polygon fill=\"black\" stroke=\"black\" points=\"655.47,-330.87 660.2,-321.38 650.59,-325.85 655.47,-330.87\"/>\r\n</g>\r\n<!-- 33&#45;&gt;36 -->\r\n<g id=\"edge50\" class=\"edge\">\r\n<title>33&#45;&gt;36</title>\r\n<path fill=\"none\" stroke=\"black\" d=\"M675,-359.7C675,-351.98 675,-342.71 675,-334.11\"/>\r\n<polygon fill=\"black\" stroke=\"black\" points=\"678.5,-334.1 675,-324.1 671.5,-334.1 678.5,-334.1\"/>\r\n</g>\r\n<!-- 37 -->\r\n<g id=\"node39\" class=\"node\">\r\n<title>37</title>\r\n<ellipse fill=\"#9d7272\" stroke=\"#9d7272\" cx=\"747\" cy=\"-306\" rx=\"27\" ry=\"18\"/>\r\n<text text-anchor=\"middle\" x=\"747\" y=\"-302.3\" font-family=\"Times New Roman,serif\" font-size=\"14.00\">0</text>\r\n</g>\r\n<!-- 34&#45;&gt;37 -->\r\n<g id=\"edge51\" class=\"edge\">\r\n<title>34&#45;&gt;37</title>\r\n<path fill=\"none\" stroke=\"black\" d=\"M747,-359.7C747,-351.98 747,-342.71 747,-334.11\"/>\r\n<polygon fill=\"black\" stroke=\"black\" points=\"750.5,-334.1 747,-324.1 743.5,-334.1 750.5,-334.1\"/>\r\n</g>\r\n<!-- 35&#45;&gt;37 -->\r\n<g id=\"edge52\" class=\"edge\">\r\n<title>35&#45;&gt;37</title>\r\n<path fill=\"none\" stroke=\"black\" d=\"M804.43,-362.83C794.25,-352.94 780.48,-339.55 768.97,-328.36\"/>\r\n<polygon fill=\"black\" stroke=\"black\" points=\"771.41,-325.85 761.8,-321.38 766.53,-330.87 771.41,-325.85\"/>\r\n</g>\r\n<!-- 38 -->\r\n<g id=\"node40\" class=\"node\">\r\n<title>38</title>\r\n<ellipse fill=\"#d17b7b\" stroke=\"#d17b7b\" cx=\"711\" cy=\"-234\" rx=\"27\" ry=\"18\"/>\r\n<text text-anchor=\"middle\" x=\"711\" y=\"-230.3\" font-family=\"Times New Roman,serif\" font-size=\"14.00\">0</text>\r\n</g>\r\n<!-- 36&#45;&gt;38 -->\r\n<g id=\"edge53\" class=\"edge\">\r\n<title>36&#45;&gt;38</title>\r\n<path fill=\"none\" stroke=\"black\" d=\"M683.35,-288.76C687.71,-280.28 693.15,-269.71 698.04,-260.2\"/>\r\n<polygon fill=\"black\" stroke=\"black\" points=\"701.23,-261.64 702.7,-251.15 695.01,-258.44 701.23,-261.64\"/>\r\n</g>\r\n<!-- 37&#45;&gt;38 -->\r\n<g id=\"edge54\" class=\"edge\">\r\n<title>37&#45;&gt;38</title>\r\n<path fill=\"none\" stroke=\"black\" d=\"M738.65,-288.76C734.29,-280.28 728.85,-269.71 723.96,-260.2\"/>\r\n<polygon fill=\"black\" stroke=\"black\" points=\"726.99,-258.44 719.3,-251.15 720.77,-261.64 726.99,-258.44\"/>\r\n</g>\r\n<!-- 39 -->\r\n<g id=\"node41\" class=\"node\">\r\n<title>39</title>\r\n<ellipse fill=\"#d17b7b\" stroke=\"#d17b7b\" cx=\"604\" cy=\"-162\" rx=\"27\" ry=\"18\"/>\r\n<text text-anchor=\"middle\" x=\"604\" y=\"-158.3\" font-family=\"Times New Roman,serif\" font-size=\"14.00\">0</text>\r\n</g>\r\n<!-- 38&#45;&gt;39 -->\r\n<g id=\"edge55\" class=\"edge\">\r\n<title>38&#45;&gt;39</title>\r\n<path fill=\"none\" stroke=\"black\" d=\"M692.36,-220.81C675.51,-209.78 650.49,-193.41 631.37,-180.9\"/>\r\n<polygon fill=\"black\" stroke=\"black\" points=\"633.07,-177.83 622.78,-175.29 629.24,-183.69 633.07,-177.83\"/>\r\n</g>\r\n<!-- 40 -->\r\n<g id=\"node42\" class=\"node\">\r\n<title>40</title>\r\n<ellipse fill=\"#d17b7b\" stroke=\"#d17b7b\" cx=\"676\" cy=\"-162\" rx=\"27\" ry=\"18\"/>\r\n<text text-anchor=\"middle\" x=\"676\" y=\"-158.3\" font-family=\"Times New Roman,serif\" font-size=\"14.00\">0</text>\r\n</g>\r\n<!-- 38&#45;&gt;40 -->\r\n<g id=\"edge56\" class=\"edge\">\r\n<title>38&#45;&gt;40</title>\r\n<path fill=\"none\" stroke=\"black\" d=\"M702.88,-216.76C698.7,-208.4 693.51,-198.02 688.8,-188.61\"/>\r\n<polygon fill=\"black\" stroke=\"black\" points=\"691.92,-187.01 684.32,-179.63 685.66,-190.14 691.92,-187.01\"/>\r\n</g>\r\n<!-- 41 -->\r\n<g id=\"node43\" class=\"node\">\r\n<title>41</title>\r\n<ellipse fill=\"#d17b7b\" stroke=\"#d17b7b\" cx=\"748\" cy=\"-162\" rx=\"27\" ry=\"18\"/>\r\n<text text-anchor=\"middle\" x=\"748\" y=\"-158.3\" font-family=\"Times New Roman,serif\" font-size=\"14.00\">0</text>\r\n</g>\r\n<!-- 38&#45;&gt;41 -->\r\n<g id=\"edge57\" class=\"edge\">\r\n<title>38&#45;&gt;41</title>\r\n<path fill=\"none\" stroke=\"black\" d=\"M719.58,-216.76C724.06,-208.28 729.65,-197.71 734.68,-188.2\"/>\r\n<polygon fill=\"black\" stroke=\"black\" points=\"737.89,-189.62 739.46,-179.15 731.7,-186.35 737.89,-189.62\"/>\r\n</g>\r\n<!-- 42 -->\r\n<g id=\"node44\" class=\"node\">\r\n<title>42</title>\r\n<ellipse fill=\"#d17b7b\" stroke=\"#d17b7b\" cx=\"820\" cy=\"-162\" rx=\"27\" ry=\"18\"/>\r\n<text text-anchor=\"middle\" x=\"820\" y=\"-158.3\" font-family=\"Times New Roman,serif\" font-size=\"14.00\">0</text>\r\n</g>\r\n<!-- 38&#45;&gt;42 -->\r\n<g id=\"edge58\" class=\"edge\">\r\n<title>38&#45;&gt;42</title>\r\n<path fill=\"none\" stroke=\"black\" d=\"M729.99,-220.81C747.34,-209.67 773.19,-193.06 792.74,-180.5\"/>\r\n<polygon fill=\"black\" stroke=\"black\" points=\"794.71,-183.4 801.23,-175.05 790.93,-177.51 794.71,-183.4\"/>\r\n</g>\r\n<!-- 43 -->\r\n<g id=\"node45\" class=\"node\">\r\n<title>43</title>\r\n<ellipse fill=\"#d17b7b\" stroke=\"#d17b7b\" cx=\"676\" cy=\"-90\" rx=\"27\" ry=\"18\"/>\r\n<text text-anchor=\"middle\" x=\"676\" y=\"-86.3\" font-family=\"Times New Roman,serif\" font-size=\"14.00\">0</text>\r\n</g>\r\n<!-- 39&#45;&gt;43 -->\r\n<g id=\"edge59\" class=\"edge\">\r\n<title>39&#45;&gt;43</title>\r\n<path fill=\"none\" stroke=\"black\" d=\"M618.57,-146.83C628.75,-136.94 642.52,-123.55 654.03,-112.36\"/>\r\n<polygon fill=\"black\" stroke=\"black\" points=\"656.47,-114.87 661.2,-105.38 651.59,-109.85 656.47,-114.87\"/>\r\n</g>\r\n<!-- 40&#45;&gt;43 -->\r\n<g id=\"edge60\" class=\"edge\">\r\n<title>40&#45;&gt;43</title>\r\n<path fill=\"none\" stroke=\"black\" d=\"M676,-143.7C676,-135.98 676,-126.71 676,-118.11\"/>\r\n<polygon fill=\"black\" stroke=\"black\" points=\"679.5,-118.1 676,-108.1 672.5,-118.1 679.5,-118.1\"/>\r\n</g>\r\n<!-- 44 -->\r\n<g id=\"node46\" class=\"node\">\r\n<title>44</title>\r\n<ellipse fill=\"#d17b7b\" stroke=\"#d17b7b\" cx=\"748\" cy=\"-90\" rx=\"27\" ry=\"18\"/>\r\n<text text-anchor=\"middle\" x=\"748\" y=\"-86.3\" font-family=\"Times New Roman,serif\" font-size=\"14.00\">0</text>\r\n</g>\r\n<!-- 41&#45;&gt;44 -->\r\n<g id=\"edge61\" class=\"edge\">\r\n<title>41&#45;&gt;44</title>\r\n<path fill=\"none\" stroke=\"black\" d=\"M748,-143.7C748,-135.98 748,-126.71 748,-118.11\"/>\r\n<polygon fill=\"black\" stroke=\"black\" points=\"751.5,-118.1 748,-108.1 744.5,-118.1 751.5,-118.1\"/>\r\n</g>\r\n<!-- 42&#45;&gt;44 -->\r\n<g id=\"edge62\" class=\"edge\">\r\n<title>42&#45;&gt;44</title>\r\n<path fill=\"none\" stroke=\"black\" d=\"M805.43,-146.83C795.25,-136.94 781.48,-123.55 769.97,-112.36\"/>\r\n<polygon fill=\"black\" stroke=\"black\" points=\"772.41,-109.85 762.8,-105.38 767.53,-114.87 772.41,-109.85\"/>\r\n</g>\r\n<!-- 45 -->\r\n<g id=\"node47\" class=\"node\">\r\n<title>45</title>\r\n<ellipse fill=\"#e17d7d\" stroke=\"#e17d7d\" cx=\"712\" cy=\"-18\" rx=\"29.5\" ry=\"18\"/>\r\n<text text-anchor=\"middle\" x=\"712\" y=\"-14.3\" font-family=\"Times New Roman,serif\" font-size=\"14.00\">&#45;11.4</text>\r\n<text text-anchor=\"middle\" x=\"679.25\" y=\"-39.8\" font-family=\"Times New Roman,serif\" font-size=\"14.00\">3</text>\r\n</g>\r\n<!-- 43&#45;&gt;45 -->\r\n<g id=\"edge63\" class=\"edge\">\r\n<title>43&#45;&gt;45</title>\r\n<path fill=\"none\" stroke=\"black\" d=\"M684.35,-72.76C688.65,-64.4 693.99,-54.02 698.83,-44.61\"/>\r\n<polygon fill=\"black\" stroke=\"black\" points=\"701.98,-46.13 703.45,-35.63 695.76,-42.93 701.98,-46.13\"/>\r\n</g>\r\n<!-- 44&#45;&gt;45 -->\r\n<g id=\"edge64\" class=\"edge\">\r\n<title>44&#45;&gt;45</title>\r\n<path fill=\"none\" stroke=\"black\" d=\"M739.65,-72.76C735.35,-64.4 730.01,-54.02 725.17,-44.61\"/>\r\n<polygon fill=\"black\" stroke=\"black\" points=\"728.24,-42.93 720.55,-35.63 722.02,-46.13 728.24,-42.93\"/>\r\n</g>\r\n<!-- 51 -->\r\n<g id=\"node52\" class=\"node\">\r\n<title>51</title>\r\n<ellipse fill=\"#9d7272\" stroke=\"#9d7272\" cx=\"972\" cy=\"-306\" rx=\"27\" ry=\"18\"/>\r\n<text text-anchor=\"middle\" x=\"972\" y=\"-302.3\" font-family=\"Times New Roman,serif\" font-size=\"14.00\">0</text>\r\n</g>\r\n<!-- 47&#45;&gt;51 -->\r\n<g id=\"edge69\" class=\"edge\">\r\n<title>47&#45;&gt;51</title>\r\n<path fill=\"none\" stroke=\"black\" d=\"M910.16,-362.5C921.29,-352.51 936.25,-339.09 948.66,-327.94\"/>\r\n<polygon fill=\"black\" stroke=\"black\" points=\"951.29,-330.29 956.39,-321.01 946.61,-325.08 951.29,-330.29\"/>\r\n</g>\r\n<!-- 48&#45;&gt;51 -->\r\n<g id=\"edge70\" class=\"edge\">\r\n<title>48&#45;&gt;51</title>\r\n<path fill=\"none\" stroke=\"black\" d=\"M972,-359.7C972,-351.98 972,-342.71 972,-334.11\"/>\r\n<polygon fill=\"black\" stroke=\"black\" points=\"975.5,-334.1 972,-324.1 968.5,-334.1 975.5,-334.1\"/>\r\n</g>\r\n<!-- 52 -->\r\n<g id=\"node53\" class=\"node\">\r\n<title>52</title>\r\n<ellipse fill=\"#9d7272\" stroke=\"#9d7272\" cx=\"1050\" cy=\"-306\" rx=\"27\" ry=\"18\"/>\r\n<text text-anchor=\"middle\" x=\"1050\" y=\"-302.3\" font-family=\"Times New Roman,serif\" font-size=\"14.00\">0</text>\r\n</g>\r\n<!-- 49&#45;&gt;52 -->\r\n<g id=\"edge71\" class=\"edge\">\r\n<title>49&#45;&gt;52</title>\r\n<path fill=\"none\" stroke=\"black\" d=\"M1050,-359.7C1050,-351.98 1050,-342.71 1050,-334.11\"/>\r\n<polygon fill=\"black\" stroke=\"black\" points=\"1053.5,-334.1 1050,-324.1 1046.5,-334.1 1053.5,-334.1\"/>\r\n</g>\r\n<!-- 50&#45;&gt;52 -->\r\n<g id=\"edge72\" class=\"edge\">\r\n<title>50&#45;&gt;52</title>\r\n<path fill=\"none\" stroke=\"black\" d=\"M1109.82,-362.83C1099.15,-352.87 1084.68,-339.37 1072.65,-328.14\"/>\r\n<polygon fill=\"black\" stroke=\"black\" points=\"1074.85,-325.41 1065.15,-321.14 1070.08,-330.53 1074.85,-325.41\"/>\r\n</g>\r\n<!-- 53 -->\r\n<g id=\"node54\" class=\"node\">\r\n<title>53</title>\r\n<ellipse fill=\"#d17b7b\" stroke=\"#d17b7b\" cx=\"1009\" cy=\"-234\" rx=\"27\" ry=\"18\"/>\r\n<text text-anchor=\"middle\" x=\"1009\" y=\"-230.3\" font-family=\"Times New Roman,serif\" font-size=\"14.00\">0</text>\r\n</g>\r\n<!-- 51&#45;&gt;53 -->\r\n<g id=\"edge73\" class=\"edge\">\r\n<title>51&#45;&gt;53</title>\r\n<path fill=\"none\" stroke=\"black\" d=\"M980.58,-288.76C985.06,-280.28 990.65,-269.71 995.68,-260.2\"/>\r\n<polygon fill=\"black\" stroke=\"black\" points=\"998.89,-261.62 1000.46,-251.15 992.7,-258.35 998.89,-261.62\"/>\r\n</g>\r\n<!-- 52&#45;&gt;53 -->\r\n<g id=\"edge74\" class=\"edge\">\r\n<title>52&#45;&gt;53</title>\r\n<path fill=\"none\" stroke=\"black\" d=\"M1040.49,-288.76C1035.47,-280.19 1029.2,-269.49 1023.58,-259.9\"/>\r\n<polygon fill=\"black\" stroke=\"black\" points=\"1026.53,-258.01 1018.46,-251.15 1020.49,-261.55 1026.53,-258.01\"/>\r\n</g>\r\n<!-- 54 -->\r\n<g id=\"node55\" class=\"node\">\r\n<title>54</title>\r\n<ellipse fill=\"#be7777\" stroke=\"#be7777\" cx=\"896\" cy=\"-162\" rx=\"29.8\" ry=\"18\"/>\r\n<text text-anchor=\"middle\" x=\"896\" y=\"-158.3\" font-family=\"Times New Roman,serif\" font-size=\"14.00\">&#45;5.61</text>\r\n<text text-anchor=\"middle\" x=\"862.6\" y=\"-183.8\" font-family=\"Times New Roman,serif\" font-size=\"14.00\">5</text>\r\n</g>\r\n<!-- 53&#45;&gt;54 -->\r\n<g id=\"edge75\" class=\"edge\">\r\n<title>53&#45;&gt;54</title>\r\n<path fill=\"none\" stroke=\"black\" d=\"M989.83,-221.13C971.95,-210.05 945.04,-193.38 924.62,-180.73\"/>\r\n<polygon fill=\"black\" stroke=\"black\" points=\"926.37,-177.7 916.03,-175.4 922.68,-183.65 926.37,-177.7\"/>\r\n</g>\r\n<!-- 55 -->\r\n<g id=\"node56\" class=\"node\">\r\n<title>55</title>\r\n<ellipse fill=\"#be7777\" stroke=\"#be7777\" cx=\"971\" cy=\"-162\" rx=\"27\" ry=\"18\"/>\r\n<text text-anchor=\"middle\" x=\"971\" y=\"-158.3\" font-family=\"Times New Roman,serif\" font-size=\"14.00\">9.9</text>\r\n<text text-anchor=\"middle\" x=\"940.5\" y=\"-183.8\" font-family=\"Times New Roman,serif\" font-size=\"14.00\">6</text>\r\n</g>\r\n<!-- 53&#45;&gt;55 -->\r\n<g id=\"edge76\" class=\"edge\">\r\n<title>53&#45;&gt;55</title>\r\n<path fill=\"none\" stroke=\"black\" d=\"M1000.19,-216.76C995.58,-208.28 989.84,-197.71 984.68,-188.2\"/>\r\n<polygon fill=\"black\" stroke=\"black\" points=\"987.61,-186.27 979.77,-179.15 981.46,-189.61 987.61,-186.27\"/>\r\n</g>\r\n<!-- 56 -->\r\n<g id=\"node57\" class=\"node\">\r\n<title>56</title>\r\n<ellipse fill=\"#b27676\" stroke=\"#b27676\" cx=\"1047\" cy=\"-162\" rx=\"31.4\" ry=\"18\"/>\r\n<text text-anchor=\"middle\" x=\"1047\" y=\"-158.3\" font-family=\"Times New Roman,serif\" font-size=\"14.00\">10.33</text>\r\n<text text-anchor=\"middle\" x=\"998.3\" y=\"-183.8\" font-family=\"Times New Roman,serif\" font-size=\"14.00\">11, 14</text>\r\n</g>\r\n<!-- 53&#45;&gt;56 -->\r\n<g id=\"edge77\" class=\"edge\">\r\n<title>53&#45;&gt;56</title>\r\n<path fill=\"none\" stroke=\"black\" d=\"M1017.81,-216.76C1022.35,-208.4 1027.99,-198.02 1033.1,-188.61\"/>\r\n<polygon fill=\"black\" stroke=\"black\" points=\"1036.28,-190.09 1037.97,-179.63 1030.12,-186.75 1036.28,-190.09\"/>\r\n</g>\r\n<!-- 57 -->\r\n<g id=\"node58\" class=\"node\">\r\n<title>57</title>\r\n<ellipse fill=\"#b27676\" stroke=\"#b27676\" cx=\"1123\" cy=\"-162\" rx=\"27\" ry=\"18\"/>\r\n<text text-anchor=\"middle\" x=\"1123\" y=\"-158.3\" font-family=\"Times New Roman,serif\" font-size=\"14.00\">0.93</text>\r\n<text text-anchor=\"middle\" x=\"1078.5\" y=\"-183.8\" font-family=\"Times New Roman,serif\" font-size=\"14.00\">13, 15</text>\r\n</g>\r\n<!-- 53&#45;&gt;57 -->\r\n<g id=\"edge78\" class=\"edge\">\r\n<title>53&#45;&gt;57</title>\r\n<path fill=\"none\" stroke=\"black\" d=\"M1028.34,-221.13C1046.6,-209.91 1074.19,-192.97 1094.89,-180.26\"/>\r\n<polygon fill=\"black\" stroke=\"black\" points=\"1096.88,-183.15 1103.57,-174.93 1093.21,-177.18 1096.88,-183.15\"/>\r\n</g>\r\n<!-- 58 -->\r\n<g id=\"node59\" class=\"node\">\r\n<title>58</title>\r\n<ellipse fill=\"#be7777\" stroke=\"#be7777\" cx=\"971\" cy=\"-90\" rx=\"27\" ry=\"18\"/>\r\n<text text-anchor=\"middle\" x=\"971\" y=\"-86.3\" font-family=\"Times New Roman,serif\" font-size=\"14.00\">1.54</text>\r\n<text text-anchor=\"middle\" x=\"937\" y=\"-111.8\" font-family=\"Times New Roman,serif\" font-size=\"14.00\">16</text>\r\n</g>\r\n<!-- 54&#45;&gt;58 -->\r\n<g id=\"edge79\" class=\"edge\">\r\n<title>54&#45;&gt;58</title>\r\n<path fill=\"none\" stroke=\"black\" d=\"M911.54,-146.5C922.24,-136.51 936.62,-123.09 948.56,-111.94\"/>\r\n<polygon fill=\"black\" stroke=\"black\" points=\"951.07,-114.39 955.99,-105.01 946.29,-109.27 951.07,-114.39\"/>\r\n</g>\r\n<!-- 55&#45;&gt;58 -->\r\n<g id=\"edge80\" class=\"edge\">\r\n<title>55&#45;&gt;58</title>\r\n<path fill=\"none\" stroke=\"black\" d=\"M971,-143.7C971,-135.98 971,-126.71 971,-118.11\"/>\r\n<polygon fill=\"black\" stroke=\"black\" points=\"974.5,-118.1 971,-108.1 967.5,-118.1 974.5,-118.1\"/>\r\n</g>\r\n<!-- 59 -->\r\n<g id=\"node60\" class=\"node\">\r\n<title>59</title>\r\n<ellipse fill=\"#be7777\" stroke=\"#be7777\" cx=\"1047\" cy=\"-90\" rx=\"31.4\" ry=\"18\"/>\r\n<text text-anchor=\"middle\" x=\"1047\" y=\"-86.3\" font-family=\"Times New Roman,serif\" font-size=\"14.00\">10.06</text>\r\n<text text-anchor=\"middle\" x=\"1008.8\" y=\"-111.8\" font-family=\"Times New Roman,serif\" font-size=\"14.00\">12</text>\r\n</g>\r\n<!-- 56&#45;&gt;59 -->\r\n<g id=\"edge81\" class=\"edge\">\r\n<title>56&#45;&gt;59</title>\r\n<path fill=\"none\" stroke=\"black\" d=\"M1047,-143.7C1047,-135.98 1047,-126.71 1047,-118.11\"/>\r\n<polygon fill=\"black\" stroke=\"black\" points=\"1050.5,-118.1 1047,-108.1 1043.5,-118.1 1050.5,-118.1\"/>\r\n</g>\r\n<!-- 57&#45;&gt;59 -->\r\n<g id=\"edge82\" class=\"edge\">\r\n<title>57&#45;&gt;59</title>\r\n<path fill=\"none\" stroke=\"black\" d=\"M1107.62,-146.83C1096.95,-137 1082.53,-123.72 1070.43,-112.58\"/>\r\n<polygon fill=\"black\" stroke=\"black\" points=\"1072.61,-109.83 1062.88,-105.63 1067.86,-114.98 1072.61,-109.83\"/>\r\n</g>\r\n<!-- 60 -->\r\n<g id=\"node61\" class=\"node\">\r\n<title>60</title>\r\n<ellipse fill=\"#e17d7d\" stroke=\"#e17d7d\" cx=\"1009\" cy=\"-18\" rx=\"27\" ry=\"18\"/>\r\n<text text-anchor=\"middle\" x=\"1009\" y=\"-14.3\" font-family=\"Times New Roman,serif\" font-size=\"14.00\">9.87</text>\r\n<text text-anchor=\"middle\" x=\"978.5\" y=\"-39.8\" font-family=\"Times New Roman,serif\" font-size=\"14.00\">4</text>\r\n</g>\r\n<!-- 58&#45;&gt;60 -->\r\n<g id=\"edge83\" class=\"edge\">\r\n<title>58&#45;&gt;60</title>\r\n<path fill=\"none\" stroke=\"black\" d=\"M979.81,-72.76C984.42,-64.28 990.16,-53.71 995.32,-44.2\"/>\r\n<polygon fill=\"black\" stroke=\"black\" points=\"998.54,-45.61 1000.23,-35.15 992.39,-42.27 998.54,-45.61\"/>\r\n</g>\r\n<!-- 59&#45;&gt;60 -->\r\n<g id=\"edge84\" class=\"edge\">\r\n<title>59&#45;&gt;60</title>\r\n<path fill=\"none\" stroke=\"black\" d=\"M1037.99,-72.41C1033.45,-64.04 1027.84,-53.71 1022.77,-44.37\"/>\r\n<polygon fill=\"black\" stroke=\"black\" points=\"1025.79,-42.59 1017.94,-35.47 1019.64,-45.93 1025.79,-42.59\"/>\r\n</g>\r\n</g>\r\n</svg>\r\n",
      "text/plain": [
       "<graphviz.dot.Digraph at 0x18882aabca0>"
      ]
     },
     "execution_count": 6,
     "metadata": {},
     "output_type": "execute_result"
    }
   ],
   "source": [
    "# https://stackoverflow.com/questions/25668828/how-to-create-colour-gradient-in-python\n",
    "def colorFader(c1,c2,mix=0): #fade (linear interpolate) from color c1 (at mix=0) to c2 (mix=1)\n",
    "    import matplotlib as mpl\n",
    "    c1=np.array(mpl.colors.to_rgb(c1))\n",
    "    c2=np.array(mpl.colors.to_rgb(c2))\n",
    "    return mpl.colors.to_hex((1-mix)*c1 + mix*c2)\n",
    "\n",
    "def render(state, tree):\n",
    "    from graphviz import Digraph\n",
    "        \n",
    "        \n",
    "    def color(val):\n",
    "        if val > 0:\n",
    "            return '#8EBF87'\n",
    "        else:\n",
    "            return '#F7BDC4'\n",
    "    \n",
    "    max_sigma = np.round(max([x.sigma if hasattr(x, \"sigma\") else 0 for x in state]))+1\n",
    "    print(max_sigma)\n",
    "    dot = Digraph()\n",
    "    for x, ys in enumerate(tree):\n",
    "        if hasattr(state[x], \"mu\"):\n",
    "            mean, sigma = state[x].mu, state[x].sigma\n",
    "        else:\n",
    "            mean, sigma = state[x], 0\n",
    "        #observed = not hasattr(state[x], 'sample')\n",
    "        #c = color(r) if observed else 'grey'\n",
    "        c = colorFader(\"dimgrey\", \"lightcoral\", mix=sigma/max_sigma)\n",
    "        l = str(round(mean, 2)) #if observed else str(x)\n",
    "        xl = \", \".join([str(x) for x in get_action_indices(df, x)])\n",
    "        dot.node(str(x), label=l, style='filled', color=c, xlabel=xl)\n",
    "        for y in ys:\n",
    "            dot.edge(str(x), str(y))\n",
    "    return dot\n",
    "\n",
    "render(states[-1], TREE)"
   ]
  },
  {
   "cell_type": "markdown",
   "metadata": {},
   "source": [
    "### Discrepancy evaluation\n",
    "This section tests the discrepancy between the current MGPO version used in the simulation experiment and the previous MGPO version used the training experiment."
   ]
  },
  {
   "cell_type": "code",
   "execution_count": 9,
   "metadata": {},
   "outputs": [],
   "source": [
    "with open(\"./data/simulation_results/mgpo_optimization/4_2_0.05.json\", \"r\") as f:\n",
    "    cost_weight = json.load(f)[\"W\"]\n",
    "\n",
    "def compare_actions(a1, a2):\n",
    "    min_length = min(len(a1), len(a2))\n",
    "    for i in range(min_length):\n",
    "        if a1[i] != a2[i]:\n",
    "            return i\n",
    "    return min_length\n",
    "\n",
    "\n",
    "data = []\n",
    "for i in range(500):\n",
    "    # Old strategy\n",
    "    df, states, reward_old = analyse_generic(TREE, INIT, TAU, COST, seed=i, max_actions=200, myopic_mode=\"old\")\n",
    "    actions_old = df[\"Action\"].tolist()\n",
    "    # New strategy\n",
    "    df, states, reward_new = analyse_generic(TREE, INIT, TAU, COST, seed=i, max_actions=200, myopic_mode=\"normal\", cost_weight=cost_weight)\n",
    "    actions_new = df[\"Action\"].tolist()\n",
    "    data.append([i, compare_actions(actions_old, actions_new), len(actions_new), len(actions_old), reward_old, reward_new])\n",
    "df = pd.DataFrame(data, columns=[\"Seed\", \"Identical actions\", \"ActionsNew\", \"ActionsOld\", \"RewardOld\", \"RewardNew\"])\n"
   ]
  },
  {
   "cell_type": "code",
   "execution_count": 10,
   "metadata": {},
   "outputs": [
    {
     "data": {
      "text/plain": [
       "Seed                 249.500000\n",
       "Identical actions      4.432000\n",
       "ActionsNew            44.188000\n",
       "ActionsOld            18.672000\n",
       "RewardOld             26.367775\n",
       "RewardNew             31.975063\n",
       "dtype: float64"
      ]
     },
     "execution_count": 10,
     "metadata": {},
     "output_type": "execute_result"
    }
   ],
   "source": [
    "df.mean()"
   ]
  },
  {
   "cell_type": "code",
   "execution_count": 12,
   "metadata": {},
   "outputs": [
    {
     "name": "stdout",
     "output_type": "stream",
     "text": [
      "5.607287860756518\n"
     ]
    }
   ],
   "source": [
    "print(df[\"RewardNew\"].mean()-df[\"RewardOld\"].mean())"
   ]
  },
  {
   "cell_type": "code",
   "execution_count": 33,
   "metadata": {},
   "outputs": [
    {
     "data": {
      "text/plain": [
       "<AxesSubplot:xlabel='Identical actions', ylabel='Count'>"
      ]
     },
     "execution_count": 33,
     "metadata": {},
     "output_type": "execute_result"
    },
    {
     "data": {
      "image/png": "[encoded data removed]",
      "text/plain": [
       "<Figure size 432x288 with 1 Axes>"
      ]
     },
     "metadata": {
      "needs_background": "light"
     },
     "output_type": "display_data"
    }
   ],
   "source": [
    "sns.histplot(df[\"Identical actions\"])"
   ]
  },
  {
   "cell_type": "code",
   "execution_count": null,
   "metadata": {},
   "outputs": [],
   "source": []
  }
 ],
 "metadata": {
  "interpreter": {
   "hash": "a60773b366b4107a5de44e67768ecd05b214497884eb609fc0ec34cfa78eb300"
  },
  "kernelspec": {
   "display_name": "Python 3.8.10 ('cogtut')",
   "language": "python",
   "name": "python3"
  },
  "language_info": {
   "codemirror_mode": {
    "name": "ipython",
    "version": 3
   },
   "file_extension": ".py",
   "mimetype": "text/x-python",
   "name": "python",
   "nbconvert_exporter": "python",
   "pygments_lexer": "ipython3",
   "version": "3.8.10"
  },
  "orig_nbformat": 4
 },
 "nbformat": 4,
 "nbformat_minor": 2
}
