{
 "cells": [
  {
   "cell_type": "markdown",
   "metadata": {},
   "source": [
    "## Environment creation for tutor experiment\n",
    "\n",
    "When creating the files used in the experiment this code had a bug resulting in incorrect values for expected reward (\"expReward\"). Since the expReward values are unused in the experiment the error had no negative impact."
   ]
  },
  {
   "cell_type": "code",
   "execution_count": null,
   "metadata": {},
   "outputs": [],
   "source": [
    "%load_ext autoreload\n",
    "%autoreload 2\n",
    "import os\n",
    "import json\n",
    "from tqdm import tqdm\n",
    "\n",
    "from src.utils.experiment_creation import create_structure, create_tree, create_init, generate_samples, create_structure_po"
   ]
  },
  {
   "cell_type": "code",
   "execution_count": null,
   "metadata": {},
   "outputs": [],
   "source": [
    "def create_env_structure(COLUMNS=4, BLOCKS=2, dir=\"./data/environments\"):\n",
    "    SIZE = COLUMNS*BLOCKS*7 + COLUMNS\n",
    "    NAME = f\"{COLUMNS}_{SIZE}\"\n",
    "\n",
    "    JSON_PATH = f\"{dir}/experiment_instances/{NAME}_json\"\n",
    "    STRUCTURE_PATH = f\"{dir}/structure_files\"\n",
    "\n",
    "    try:\n",
    "        os.mkdir(JSON_PATH)\n",
    "    except:\n",
    "        print(\"Directory already exists\")\n",
    "    \n",
    "    TREE = create_tree(columns=COLUMNS, blocks=BLOCKS)\n",
    "    INIT = create_init(columns=COLUMNS, blocks=BLOCKS)\n",
    "\n",
    "    env = create_structure(columns=COLUMNS, blocks=BLOCKS)\n",
    "    with open(f\"{STRUCTURE_PATH}/{NAME}_structure.json\", \"w\") as f:\n",
    "        json.dump(env, f)\n",
    "    \n",
    "    env_po = create_structure_po(TREE, INIT)\n",
    "    with open(f\"{STRUCTURE_PATH}/{NAME}_po_structure.json\", \"w\") as f:\n",
    "        json.dump(env_po, f)\n",
    "\n",
    "    param_mapping = json.load(open(\"./data/environments/params.json\"))\n",
    "    param_mapping = {int(k):tuple(v) for k,v in param_mapping.items()}\n",
    "    COSTS = [param_mapping[i][0] for i in range(len(param_mapping))]\n",
    "    TAUS = [param_mapping[i][1] for i in range(len(param_mapping))]\n",
    "\n",
    "    SEED = 0\n",
    "    MAX_ACTIONS = 200\n",
    "\n",
    "    for j, (COST, TAU) in tqdm(enumerate(zip(COSTS, TAUS))):\n",
    "        env_data, index = generate_samples(j, COST, TAU, TREE, INIT, SEED, MAX_ACTIONS)\n",
    "        filename = f\"/{index}_{str(COST)[2:]}_{str(TAU)[2:]}\"\n",
    "        # Uncomment to save env data\n",
    "        # with open(PATH+filename+\".p\", mode=\"wb\") as f:\n",
    "        #     pickle.dump(env_data, f)\n",
    "\n",
    "        # Create json\n",
    "        trial_data = []\n",
    "        for i in range(len(env_data[\"envs\"])):\n",
    "            env = env_data[\"envs\"][i]\n",
    "            trial = {\n",
    "                \"trial_id\": i,\n",
    "                \"stateRewards\": env[\"ground_truth\"].tolist(),\n",
    "                \"samples\": env[\"samples\"],\n",
    "                \"expReward\": env[\"mp_exp_reward\"],\n",
    "                \"n_actions\": env[\"mp_actions\"]\n",
    "            }\n",
    "            trial_data.append(trial)\n",
    "        \n",
    "        with open(JSON_PATH+filename+\".json\", 'w') as outfile:\n",
    "            json.dump(trial_data, outfile)"
   ]
  },
  {
   "cell_type": "code",
   "execution_count": null,
   "metadata": {},
   "outputs": [],
   "source": [
    "create_env_structure(1, 1)"
   ]
  },
  {
   "cell_type": "code",
   "execution_count": null,
   "metadata": {},
   "outputs": [],
   "source": [
    "create_env_structure(2, 1)"
   ]
  },
  {
   "cell_type": "code",
   "execution_count": null,
   "metadata": {},
   "outputs": [],
   "source": [
    "create_env_structure(2, 2)"
   ]
  },
  {
   "cell_type": "code",
   "execution_count": null,
   "metadata": {},
   "outputs": [],
   "source": [
    "create_env_structure(4, 2)"
   ]
  },
  {
   "cell_type": "code",
   "execution_count": null,
   "metadata": {},
   "outputs": [],
   "source": []
  }
 ],
 "metadata": {
  "interpreter": {
   "hash": "a60773b366b4107a5de44e67768ecd05b214497884eb609fc0ec34cfa78eb300"
  },
  "kernelspec": {
   "display_name": "Python 3.8.10 ('cogtut')",
   "language": "python",
   "name": "python3"
  },
  "language_info": {
   "codemirror_mode": {
    "name": "ipython",
    "version": 3
   },
   "file_extension": ".py",
   "mimetype": "text/x-python",
   "name": "python",
   "nbconvert_exporter": "python",
   "pygments_lexer": "ipython3",
   "version": "3.8.10"
  },
  "orig_nbformat": 4
 },
 "nbformat": 4,
 "nbformat_minor": 2
}
