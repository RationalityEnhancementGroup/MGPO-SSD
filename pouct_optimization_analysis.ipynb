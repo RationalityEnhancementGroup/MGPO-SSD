{
 "cells": [
  {
   "cell_type": "markdown",
   "metadata": {},
   "source": [
    "Parses the optimization data for PO-UCT hyperparameters."
   ]
  },
  {
   "cell_type": "code",
   "execution_count": 11,
   "metadata": {},
   "outputs": [],
   "source": [
    "import glob\n",
    "import pandas as pd"
   ]
  },
  {
   "cell_type": "code",
   "execution_count": 23,
   "metadata": {},
   "outputs": [],
   "source": [
    "# Optimal parameter choices for the 2_36 environments\n",
    "def parse(path):\n",
    "    data = []\n",
    "    for file_name in glob.glob(path):\n",
    "        data.append(pd.read_csv(file_name, low_memory=False))\n",
    "    df = pd.concat(data)\n",
    "    assert len(df[df[\"NumActions\"]>201]) == 0\n",
    "    return df\n",
    "df=parse(f'./data/simulation_results/po_uct_optimization/*.csv')\n",
    "\n",
    "# Remove duplicates\n",
    "df = df.loc[df[\"EnvSeed\"]>=5000]\n",
    "duplicates = df.duplicated(keep=\"first\", subset=[\"EnvSeed\", \"EnvType\", \"Cost\", \"Steps\", \"RolloutDepth\", \"ExplorationCoeff\"])\n",
    "df = df.loc[~duplicates, :]"
   ]
  },
  {
   "cell_type": "code",
   "execution_count": 24,
   "metadata": {},
   "outputs": [
    {
     "name": "stdout",
     "output_type": "stream",
     "text": [
      "{('2_36', 0.05, 10): (53.86140126755538, 0, 100.0), ('2_36', 0.05, 100): (114.79743731895626, 3, 100.0), ('2_36', 0.05, 1000): (117.22153836589568, 3, 1.0), ('2_36', 0.05, 5000): (118.98186894033901, 0, 5.0), ('2_36', 1, 10): (-136.95139489519053, 0, 100.0), ('2_36', 1, 100): (99.7101134678578, 0, 10.0), ('2_36', 1, 1000): (102.25342210808444, 0, 100.0), ('2_36', 1, 5000): (103.41719224662144, 0, 5.0), ('3_54', 0.05, 10): (54.00796981930902, 3, 100.0), ('3_54', 0.05, 100): (157.8237733668935, 3, 100.0), ('3_54', 0.05, 1000): (161.15232620732044, 3, 5.0), ('3_54', 0.05, 5000): (161.51919728120674, 0, 50.0), ('3_54', 1, 10): (-137.2166788948118, 3, 100.0), ('3_54', 1, 100): (140.0400746313717, 0, 100.0), ('3_54', 1, 1000): (144.0835938568375, 0, 10.0), ('3_54', 1, 5000): (146.05183062420843, 0, 100.0), ('4_72', 0.05, 10): (53.94942174511905, 3, 100.0), ('4_72', 0.05, 100): (193.4648609058111, 3, 10.0), ('4_72', 0.05, 1000): (196.78642688211428, 3, 10.0), ('4_72', 0.05, 5000): (196.6546167842193, 3, 5.0), ('4_72', 1, 10): (-136.75224530034518, 3, 100.0), ('4_72', 1, 100): (168.29586440698256, 0, 5.0), ('4_72', 1, 1000): (179.737688427158, 0, 50.0), ('4_72', 1, 5000): (179.94791394025933, 0, 100.0), ('5_90', 0.05, 10): (53.42816302619722, 0, 100.0), ('5_90', 0.05, 100): (224.778742343181, 3, 5.0), ('5_90', 0.05, 1000): (226.56157251038, 3, 100.0), ('5_90', 0.05, 5000): (227.62135857656196, 3, 5.0), ('5_90', 1, 10): (-137.35892671259154, 0, 100.0), ('5_90', 1, 100): (201.76461117646932, 0, 50.0), ('5_90', 1, 1000): (208.34694274776638, 0, 100.0), ('5_90', 1, 5000): (210.2164086306767, 0, 50.0)}\n"
     ]
    }
   ],
   "source": [
    "# Dict format (env, cost, steps): (reward, rollout depth, exploration coefficient)\n",
    "params = {}\n",
    "for env in [\"2_36\", \"3_54\", \"4_72\", \"5_90\"]:\n",
    "    for cost in [0.05, 1]:\n",
    "        for steps in [10, 100, 1000, 5000]:\n",
    "            key = (env, cost, steps)\n",
    "            for rollout_depth in df[\"RolloutDepth\"].unique():\n",
    "                for exploration_coeff in df[\"ExplorationCoeff\"].unique():\n",
    "                    tmp = df.loc[(df[\"EnvType\"]==env) & (df[\"Cost\"]==cost) & (df[\"Steps\"]==steps) & (df[\"RolloutDepth\"]==rollout_depth) & (df[\"ExplorationCoeff\"]==exploration_coeff), :]\n",
    "                    if len(tmp) != 500:\n",
    "                        print(f\"Observations: {len(tmp)}\")\n",
    "                        print(f\"Env: {env}, Cost: {cost}, Steps: {steps}, RolloutDepth: {rollout_depth}, ExplorationCoeff {exploration_coeff}\")\n",
    "                        missing = list(set(tmp['EnvSeed'])^set(range(5000, 5500)))\n",
    "                        missing.sort()\n",
    "                        print(f\"Missing seeds: {missing}\")\n",
    "                    mean_reward = tmp[\"ExpectedReward\"].mean()\n",
    "                    if key not in params or mean_reward > params[key][0]:\n",
    "                        params[key] = (mean_reward, rollout_depth, exploration_coeff)\n",
    "print(params)"
   ]
  },
  {
   "cell_type": "code",
   "execution_count": 25,
   "metadata": {},
   "outputs": [],
   "source": [
    "data = []\n",
    "for key, value in params.items():\n",
    "    (env, cost, steps) = key\n",
    "    (mean_reward, rollout_depth, exploration_coeff) = value\n",
    "    data.append([env, cost, steps, rollout_depth, exploration_coeff])\n",
    "\n",
    "df = pd.DataFrame(data, columns=[\"Environment\", \"Cost\", \"Steps\", \"RolloutDepth\", \"ExplorationCoeff\"])"
   ]
  },
  {
   "cell_type": "code",
   "execution_count": 26,
   "metadata": {},
   "outputs": [],
   "source": [
    "df.to_csv(\"data/simulation_results/pouct_hyperparameters.csv\")"
   ]
  },
  {
   "cell_type": "code",
   "execution_count": 27,
   "metadata": {},
   "outputs": [
    {
     "name": "stdout",
     "output_type": "stream",
     "text": [
      "\\begin{tabular}{llrrrrrrrr}\n",
      "\\toprule\n",
      "     & {} & \\multicolumn{4}{l}{ExplorationCoeff} & \\multicolumn{4}{l}{RolloutDepth} \\\\\n",
      "     & Environment &             2\\_36 &   3\\_54 &   4\\_72 &   5\\_90 &         2\\_36 & 3\\_54 & 4\\_72 & 5\\_90 \\\\\n",
      "Cost & Steps &                  &        &        &        &              &      &      &      \\\\\n",
      "\\midrule\n",
      "0.05 & 10   &            100.0 &  100.0 &  100.0 &  100.0 &          0.0 &  3.0 &  3.0 &  0.0 \\\\\n",
      "     & 100  &            100.0 &  100.0 &   10.0 &    5.0 &          3.0 &  3.0 &  3.0 &  3.0 \\\\\n",
      "     & 1000 &              1.0 &    5.0 &   10.0 &  100.0 &          3.0 &  3.0 &  3.0 &  3.0 \\\\\n",
      "     & 5000 &              5.0 &   50.0 &    5.0 &    5.0 &          0.0 &  0.0 &  3.0 &  3.0 \\\\\n",
      "1.00 & 10   &            100.0 &  100.0 &  100.0 &  100.0 &          0.0 &  3.0 &  3.0 &  0.0 \\\\\n",
      "     & 100  &             10.0 &  100.0 &    5.0 &   50.0 &          0.0 &  0.0 &  0.0 &  0.0 \\\\\n",
      "     & 1000 &            100.0 &   10.0 &   50.0 &  100.0 &          0.0 &  0.0 &  0.0 &  0.0 \\\\\n",
      "     & 5000 &              5.0 &  100.0 &  100.0 &   50.0 &          0.0 &  0.0 &  0.0 &  0.0 \\\\\n",
      "\\bottomrule\n",
      "\\end{tabular}\n",
      "\n"
     ]
    }
   ],
   "source": [
    "print(df.pivot(index=[\"Cost\", \"Steps\"], columns=[\"Environment\"], values=[\"ExplorationCoeff\", \"RolloutDepth\"]).to_latex())"
   ]
  },
  {
   "cell_type": "code",
   "execution_count": 28,
   "metadata": {},
   "outputs": [
    {
     "data": {
      "text/html": [
       "<div>\n",
       "<style scoped>\n",
       "    .dataframe tbody tr th:only-of-type {\n",
       "        vertical-align: middle;\n",
       "    }\n",
       "\n",
       "    .dataframe tbody tr th {\n",
       "        vertical-align: top;\n",
       "    }\n",
       "\n",
       "    .dataframe thead tr th {\n",
       "        text-align: left;\n",
       "    }\n",
       "\n",
       "    .dataframe thead tr:last-of-type th {\n",
       "        text-align: right;\n",
       "    }\n",
       "</style>\n",
       "<table border=\"1\" class=\"dataframe\">\n",
       "  <thead>\n",
       "    <tr>\n",
       "      <th></th>\n",
       "      <th></th>\n",
       "      <th colspan=\"4\" halign=\"left\">ExplorationCoeff</th>\n",
       "      <th colspan=\"4\" halign=\"left\">RolloutDepth</th>\n",
       "    </tr>\n",
       "    <tr>\n",
       "      <th></th>\n",
       "      <th>Environment</th>\n",
       "      <th>2_36</th>\n",
       "      <th>3_54</th>\n",
       "      <th>4_72</th>\n",
       "      <th>5_90</th>\n",
       "      <th>2_36</th>\n",
       "      <th>3_54</th>\n",
       "      <th>4_72</th>\n",
       "      <th>5_90</th>\n",
       "    </tr>\n",
       "    <tr>\n",
       "      <th>Cost</th>\n",
       "      <th>Steps</th>\n",
       "      <th></th>\n",
       "      <th></th>\n",
       "      <th></th>\n",
       "      <th></th>\n",
       "      <th></th>\n",
       "      <th></th>\n",
       "      <th></th>\n",
       "      <th></th>\n",
       "    </tr>\n",
       "  </thead>\n",
       "  <tbody>\n",
       "    <tr>\n",
       "      <th rowspan=\"4\" valign=\"top\">0.05</th>\n",
       "      <th>10</th>\n",
       "      <td>100.0</td>\n",
       "      <td>100.0</td>\n",
       "      <td>100.0</td>\n",
       "      <td>100.0</td>\n",
       "      <td>0.0</td>\n",
       "      <td>3.0</td>\n",
       "      <td>3.0</td>\n",
       "      <td>0.0</td>\n",
       "    </tr>\n",
       "    <tr>\n",
       "      <th>100</th>\n",
       "      <td>100.0</td>\n",
       "      <td>100.0</td>\n",
       "      <td>10.0</td>\n",
       "      <td>5.0</td>\n",
       "      <td>3.0</td>\n",
       "      <td>3.0</td>\n",
       "      <td>3.0</td>\n",
       "      <td>3.0</td>\n",
       "    </tr>\n",
       "    <tr>\n",
       "      <th>1000</th>\n",
       "      <td>1.0</td>\n",
       "      <td>5.0</td>\n",
       "      <td>10.0</td>\n",
       "      <td>100.0</td>\n",
       "      <td>3.0</td>\n",
       "      <td>3.0</td>\n",
       "      <td>3.0</td>\n",
       "      <td>3.0</td>\n",
       "    </tr>\n",
       "    <tr>\n",
       "      <th>5000</th>\n",
       "      <td>5.0</td>\n",
       "      <td>50.0</td>\n",
       "      <td>5.0</td>\n",
       "      <td>5.0</td>\n",
       "      <td>0.0</td>\n",
       "      <td>0.0</td>\n",
       "      <td>3.0</td>\n",
       "      <td>3.0</td>\n",
       "    </tr>\n",
       "    <tr>\n",
       "      <th rowspan=\"4\" valign=\"top\">1.00</th>\n",
       "      <th>10</th>\n",
       "      <td>100.0</td>\n",
       "      <td>100.0</td>\n",
       "      <td>100.0</td>\n",
       "      <td>100.0</td>\n",
       "      <td>0.0</td>\n",
       "      <td>3.0</td>\n",
       "      <td>3.0</td>\n",
       "      <td>0.0</td>\n",
       "    </tr>\n",
       "    <tr>\n",
       "      <th>100</th>\n",
       "      <td>10.0</td>\n",
       "      <td>100.0</td>\n",
       "      <td>5.0</td>\n",
       "      <td>50.0</td>\n",
       "      <td>0.0</td>\n",
       "      <td>0.0</td>\n",
       "      <td>0.0</td>\n",
       "      <td>0.0</td>\n",
       "    </tr>\n",
       "    <tr>\n",
       "      <th>1000</th>\n",
       "      <td>100.0</td>\n",
       "      <td>10.0</td>\n",
       "      <td>50.0</td>\n",
       "      <td>100.0</td>\n",
       "      <td>0.0</td>\n",
       "      <td>0.0</td>\n",
       "      <td>0.0</td>\n",
       "      <td>0.0</td>\n",
       "    </tr>\n",
       "    <tr>\n",
       "      <th>5000</th>\n",
       "      <td>5.0</td>\n",
       "      <td>100.0</td>\n",
       "      <td>100.0</td>\n",
       "      <td>50.0</td>\n",
       "      <td>0.0</td>\n",
       "      <td>0.0</td>\n",
       "      <td>0.0</td>\n",
       "      <td>0.0</td>\n",
       "    </tr>\n",
       "  </tbody>\n",
       "</table>\n",
       "</div>"
      ],
      "text/plain": [
       "            ExplorationCoeff                      RolloutDepth               \n",
       "Environment             2_36   3_54   4_72   5_90         2_36 3_54 4_72 5_90\n",
       "Cost Steps                                                                   \n",
       "0.05 10                100.0  100.0  100.0  100.0          0.0  3.0  3.0  0.0\n",
       "     100               100.0  100.0   10.0    5.0          3.0  3.0  3.0  3.0\n",
       "     1000                1.0    5.0   10.0  100.0          3.0  3.0  3.0  3.0\n",
       "     5000                5.0   50.0    5.0    5.0          0.0  0.0  3.0  3.0\n",
       "1.00 10                100.0  100.0  100.0  100.0          0.0  3.0  3.0  0.0\n",
       "     100                10.0  100.0    5.0   50.0          0.0  0.0  0.0  0.0\n",
       "     1000              100.0   10.0   50.0  100.0          0.0  0.0  0.0  0.0\n",
       "     5000                5.0  100.0  100.0   50.0          0.0  0.0  0.0  0.0"
      ]
     },
     "execution_count": 28,
     "metadata": {},
     "output_type": "execute_result"
    }
   ],
   "source": [
    "df.pivot(index=[\"Cost\", \"Steps\"], columns=[\"Environment\"], values=[\"ExplorationCoeff\", \"RolloutDepth\"])"
   ]
  }
 ],
 "metadata": {
  "interpreter": {
   "hash": "a60773b366b4107a5de44e67768ecd05b214497884eb609fc0ec34cfa78eb300"
  },
  "kernelspec": {
   "display_name": "Python 3.8.10 ('cogtut')",
   "language": "python",
   "name": "python3"
  },
  "language_info": {
   "codemirror_mode": {
    "name": "ipython",
    "version": 3
   },
   "file_extension": ".py",
   "mimetype": "text/x-python",
   "name": "python",
   "nbconvert_exporter": "python",
   "pygments_lexer": "ipython3",
   "version": "3.8.10"
  },
  "orig_nbformat": 4
 },
 "nbformat": 4,
 "nbformat_minor": 2
}
