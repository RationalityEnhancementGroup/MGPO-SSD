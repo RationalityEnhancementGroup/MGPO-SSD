{
 "cells": [
  {
   "cell_type": "markdown",
   "metadata": {},
   "source": [
    "## Tutor experiment analysis\n",
    "\n",
    "Analysis code for the tutor training experiment."
   ]
  },
  {
   "cell_type": "code",
   "execution_count": 1,
   "metadata": {},
   "outputs": [],
   "source": [
    "import pandas as pd\n",
    "import seaborn as sns\n",
    "import numpy as np\n",
    "\n",
    "sns.set_theme()"
   ]
  },
  {
   "cell_type": "code",
   "execution_count": 2,
   "metadata": {},
   "outputs": [
    {
     "name": "stdout",
     "output_type": "stream",
     "text": [
      "293\n",
      "['Unnamed: 0', 'Participant', 'Condition', 'Counterbalance', 'TrialId', 'Score', 'ExpectedScore', 'ClickedScore', 'NumClicks', 'Actions', 'TestEnv', 'OptimalScore', 'ClickAgreement', 'RepeatAgreement', 'StrictRepeatAgreement', 'TermAgreement', 'RepeatClicks', 'BmpsReward', 'BmpsClick', 'BmpsRepeatClicks', 'BmpsActions', 'Cost', 'Tau', 'BmpsGoalStrategy', 'GoalStrategy', 'Excluded']\n",
      "['Unnamed: 0', 'Participant', 'Condition', 'Counterbalance', 'Language', 'QuizAttempts', 'QuizFailures', 'Bonus', 'Duration', 'Was it necessary to click airports multiple times to achieve a high reward?', 'Which airports should be clicked first?', 'How enjoyable was it to learn strategies in the training environments?', 'How useful do you think the training environments were for you to learn a good strategy?', 'Have you participated this type of planning experiment in the past?', 'Did you try your best to achieve a high reward?', 'What is your age?', 'What gender do you identify with?', 'Any issues with the tutor?', 'Any comments/feedback?', 'CompleteTrialData']\n",
      "293 330\n"
     ]
    }
   ],
   "source": [
    "df_after_exclusion = pd.read_csv(\"./data/tutor_experiment/tutor_experiment_exclusion_data.csv\", converters={'BmpsActions': pd.eval, 'Actions': pd.eval})\n",
    "df = pd.read_csv(\"./data/tutor_experiment/tutor_experiment_full_data.csv\", converters={'BmpsActions': pd.eval, 'Actions': pd.eval})\n",
    "questionnaire_df = pd.read_csv(\"./data/tutor_experiment/questionnaire.csv\")\n",
    "print(len(df_after_exclusion.groupby(\"Participant\")))\n",
    "print(list(df_after_exclusion.columns))\n",
    "print(list(questionnaire_df.columns))\n",
    "participants = df_after_exclusion[\"Participant\"].unique().tolist()\n",
    "all_participants = df[\"Participant\"].unique().tolist()\n",
    "print(len(participants), len(all_participants))\n",
    "\n",
    "conditions = {\n",
    "    0: \"Control\",\n",
    "    1: \"ChoiceTutor\",\n",
    "    2: \"DummyTutor\"\n",
    "}\n",
    "\n",
    "df_after_exclusion[\"NamedCondition\"] = df_after_exclusion.apply(lambda x: conditions[x[\"Condition\"]], axis=1)\n",
    "\n",
    "questionnaire_df[\"Accepted\"] = questionnaire_df[\"Participant\"].isin(participants)\n"
   ]
  },
  {
   "cell_type": "code",
   "execution_count": 3,
   "metadata": {},
   "outputs": [],
   "source": [
    "def parse_gender(x):\n",
    "\n",
    "    response = x[\"What gender do you identify with?\"]\n",
    "    if type(response) is str:\n",
    "        if response.lower()[0] == \"f\" or response.lower()[0] == \"w\":\n",
    "            return True\n",
    "        else:\n",
    "            return False\n",
    "    else:\n",
    "        #print(response)\n",
    "        return None\n",
    "\n",
    "questionnaire_df[\"Female\"] = questionnaire_df.apply(lambda x: parse_gender(x), axis=1)"
   ]
  },
  {
   "cell_type": "code",
   "execution_count": 4,
   "metadata": {},
   "outputs": [
    {
     "name": "stdout",
     "output_type": "stream",
     "text": [
      "Total responses 330.0 330\n",
      "Accepted responses 293.0\n",
      "Exclusions 37.0\n",
      "Median duration 40.47608799166667\n",
      "Average bonus 0.9123030303030303\n",
      "Average age 28.196374622356494\n",
      "Female participants 164\n"
     ]
    }
   ],
   "source": [
    "print(\"Total responses\", len(df)/10, len(questionnaire_df[questionnaire_df[\"CompleteTrialData\"]==True]))\n",
    "print(\"Accepted responses\", len(df_after_exclusion)/10)\n",
    "print(\"Exclusions\", len(df)/10 - len(df_after_exclusion)/10)\n",
    "print(\"Median duration\", questionnaire_df[questionnaire_df[\"CompleteTrialData\"]==True][\"Duration\"].median()/60)\n",
    "print(\"Average bonus\", questionnaire_df[questionnaire_df[\"CompleteTrialData\"]==True][\"Bonus\"].mean())\n",
    "print(\"Average age\", questionnaire_df[\"What is your age?\"].mean())\n",
    "print(\"Female participants\", questionnaire_df[\"Female\"].sum())"
   ]
  },
  {
   "cell_type": "code",
   "execution_count": 5,
   "metadata": {},
   "outputs": [
    {
     "data": {
      "text/plain": [
       "Text(-0.45, 21, 'Tutor strategy')"
      ]
     },
     "execution_count": 5,
     "metadata": {},
     "output_type": "execute_result"
    },
    {
     "data": {
      "image/png": "[encoded data removed]",
      "text/plain": [
       "<Figure size 432x288 with 1 Axes>"
      ]
     },
     "metadata": {},
     "output_type": "display_data"
    }
   ],
   "source": [
    "g= sns.barplot(x = \"NamedCondition\", y = \"ExpectedScore\", data=df_after_exclusion)\n",
    "avg_bmps = df_after_exclusion[\"BmpsReward\"].mean()\n",
    "\n",
    "g.axhline(avg_bmps)\n",
    "g.set_title(\"Expected Reward\")\n",
    "g.set_xlabel(\"\")\n",
    "g.text(-0.45, 21, 'Tutor strategy', c=\"royalblue\")"
   ]
  },
  {
   "cell_type": "code",
   "execution_count": 6,
   "metadata": {},
   "outputs": [
    {
     "name": "stdout",
     "output_type": "stream",
     "text": [
      "\\begin{tabular}{lrrrrrrrrrr}\n",
      "\\toprule\n",
      "{} & \\multicolumn{2}{l}{ExpectedScore} & \\multicolumn{2}{l}{GoalStrategy} & \\multicolumn{2}{l}{ClickAgreement} & \\multicolumn{2}{l}{TermAgreement} & \\multicolumn{2}{l}{RepeatAgreement} \\\\\n",
      "{} &          mean &    std &         mean &   std &           mean &   std &          mean &   std &            mean &   std \\\\\n",
      "NamedCondition &               &        &              &       &                &       &               &       &                 &       \\\\\n",
      "\\midrule\n",
      "ChoiceTutor    &         22.10 &  16.84 &         0.69 &  0.46 &           0.33 &  0.18 &          0.87 &  0.18 &            0.18 &  0.25 \\\\\n",
      "Control        &         14.57 &  14.34 &         0.18 &  0.38 &           0.16 &  0.16 &          0.89 &  0.13 &            0.08 &  0.20 \\\\\n",
      "DummyTutor     &         15.87 &  15.56 &         0.46 &  0.50 &           0.26 &  0.19 &          0.84 &  0.22 &            0.09 &  0.20 \\\\\n",
      "\\bottomrule\n",
      "\\end{tabular}\n",
      "\n"
     ]
    }
   ],
   "source": [
    "print(df_after_exclusion[[\"NamedCondition\", \"ExpectedScore\", \"GoalStrategy\", \"ClickAgreement\", \"TermAgreement\", \"RepeatAgreement\"]].groupby(\"NamedCondition\").agg(['mean', 'std']).round(2).to_latex())"
   ]
  },
  {
   "cell_type": "code",
   "execution_count": 7,
   "metadata": {},
   "outputs": [
    {
     "name": "stdout",
     "output_type": "stream",
     "text": [
      "\\begin{tabular}{lrrrrrrrr}\n",
      "\\toprule\n",
      "{} & \\multicolumn{2}{l}{ExpectedScore} & \\multicolumn{2}{l}{ClickAgreement} & \\multicolumn{2}{l}{TermAgreement} & \\multicolumn{2}{l}{RepeatAgreement} \\\\\n",
      "{} &        median &    iqr &         median &   iqr &        median &   iqr &          median &   iqr \\\\\n",
      "NamedCondition &               &        &                &       &               &       &                 &       \\\\\n",
      "\\midrule\n",
      "ChoiceTutor    &         22.67 &  26.14 &           0.32 &  0.24 &          0.94 &  0.05 &             0.0 &  0.33 \\\\\n",
      "Control        &         11.46 &  19.68 &           0.12 &  0.25 &          0.93 &  0.07 &             0.0 &  0.00 \\\\\n",
      "DummyTutor     &         14.11 &  23.34 &           0.25 &  0.30 &          0.92 &  0.09 &             0.0 &  0.00 \\\\\n",
      "\\bottomrule\n",
      "\\end{tabular}\n",
      "\n"
     ]
    }
   ],
   "source": [
    "def iqr(x):\n",
    "    q1 = x.quantile(.25)\n",
    "    q3 = x.quantile(.75)\n",
    "    return q3 - q1\n",
    "\n",
    "print(df_after_exclusion[[\"NamedCondition\", \"ExpectedScore\", \"ClickAgreement\", \"TermAgreement\", \"RepeatAgreement\"]].groupby(\"NamedCondition\").agg([\"median\", iqr]).round(2).to_latex())\n"
   ]
  },
  {
   "cell_type": "code",
   "execution_count": 8,
   "metadata": {},
   "outputs": [
    {
     "name": "stdout",
     "output_type": "stream",
     "text": [
      "               mean\n",
      "Condition          \n",
      "0.0        0.161290\n",
      "1.0        0.714286\n",
      "2.0        0.431373\n",
      "[1.5117954361746594e-14, 5.345488444629525e-05]\n",
      "[3.02359087e-14 5.34548844e-05]\n",
      "Z-test between condition ChoiceTutor and Control: z=7.687, p=0.0, corrected=0.0\n",
      "Z-test between condition ChoiceTutor and DummyTutor: z=4.04, p=0.0001, corrected=0.0001\n"
     ]
    }
   ],
   "source": [
    "from statsmodels.stats.proportion import proportions_ztest\n",
    "from statsmodels.stats.multitest import multipletests\n",
    "tmp = df_after_exclusion.groupby(\"Participant\").median()[[\"Condition\", \"GoalStrategy\"]]\n",
    "tmp.loc[tmp[\"GoalStrategy\"]==0.5, \"GoalStrategy\"]=0\n",
    "print(tmp.groupby(\"Condition\").agg([\"mean\"])[\"GoalStrategy\"])\n",
    "counts = tmp.groupby(\"Condition\").sum()[\"GoalStrategy\"].astype(int).tolist()\n",
    "nobs = tmp.groupby(\"Condition\").count()[\"GoalStrategy\"].tolist()\n",
    "comparisons = ((1, 0), (1, 2))\n",
    "stats, pvals = [], []\n",
    "for comp in comparisons:  \n",
    "    count = np.array([counts[comp[0]], counts[comp[1]]])\n",
    "    nob = np.array([nobs[comp[0]], nobs[comp[1]]])\n",
    "    stat, pval = proportions_ztest(count, nob)\n",
    "    stats.append(stat)\n",
    "    pvals.append(pval)\n",
    "\n",
    "p_adjusted = multipletests(pvals, method=\"fdr_bh\")[1]\n",
    "print(pvals)\n",
    "print(p_adjusted)\n",
    "for comp, stat, pval, p_new in zip(comparisons, stats, pvals, p_adjusted):\n",
    "    print(f\"Z-test between condition {conditions[comp[0]]} and {conditions[comp[1]]}: z={np.round(stat, 3)}, p={np.round(pval, 4)}, corrected={np.round(p_new, 4)}\")"
   ]
  },
  {
   "cell_type": "code",
   "execution_count": 9,
   "metadata": {},
   "outputs": [
    {
     "data": {
      "text/html": [
       "<div>\n",
       "<style scoped>\n",
       "    .dataframe tbody tr th:only-of-type {\n",
       "        vertical-align: middle;\n",
       "    }\n",
       "\n",
       "    .dataframe tbody tr th {\n",
       "        vertical-align: top;\n",
       "    }\n",
       "\n",
       "    .dataframe thead tr th {\n",
       "        text-align: left;\n",
       "    }\n",
       "\n",
       "    .dataframe thead tr:last-of-type th {\n",
       "        text-align: right;\n",
       "    }\n",
       "</style>\n",
       "<table border=\"1\" class=\"dataframe\">\n",
       "  <thead>\n",
       "    <tr>\n",
       "      <th></th>\n",
       "      <th colspan=\"2\" halign=\"left\">ExpectedScore</th>\n",
       "      <th colspan=\"2\" halign=\"left\">ClickAgreement</th>\n",
       "      <th colspan=\"2\" halign=\"left\">TermAgreement</th>\n",
       "      <th colspan=\"2\" halign=\"left\">RepeatAgreement</th>\n",
       "    </tr>\n",
       "    <tr>\n",
       "      <th></th>\n",
       "      <th>mean</th>\n",
       "      <th>median</th>\n",
       "      <th>mean</th>\n",
       "      <th>median</th>\n",
       "      <th>mean</th>\n",
       "      <th>median</th>\n",
       "      <th>mean</th>\n",
       "      <th>median</th>\n",
       "    </tr>\n",
       "    <tr>\n",
       "      <th>NamedCondition</th>\n",
       "      <th></th>\n",
       "      <th></th>\n",
       "      <th></th>\n",
       "      <th></th>\n",
       "      <th></th>\n",
       "      <th></th>\n",
       "      <th></th>\n",
       "      <th></th>\n",
       "    </tr>\n",
       "  </thead>\n",
       "  <tbody>\n",
       "    <tr>\n",
       "      <th>ChoiceTutor</th>\n",
       "      <td>22.10</td>\n",
       "      <td>22.67</td>\n",
       "      <td>0.33</td>\n",
       "      <td>0.32</td>\n",
       "      <td>0.87</td>\n",
       "      <td>0.94</td>\n",
       "      <td>0.18</td>\n",
       "      <td>0.0</td>\n",
       "    </tr>\n",
       "    <tr>\n",
       "      <th>Control</th>\n",
       "      <td>14.57</td>\n",
       "      <td>11.46</td>\n",
       "      <td>0.16</td>\n",
       "      <td>0.12</td>\n",
       "      <td>0.89</td>\n",
       "      <td>0.93</td>\n",
       "      <td>0.08</td>\n",
       "      <td>0.0</td>\n",
       "    </tr>\n",
       "    <tr>\n",
       "      <th>DummyTutor</th>\n",
       "      <td>15.87</td>\n",
       "      <td>14.11</td>\n",
       "      <td>0.26</td>\n",
       "      <td>0.25</td>\n",
       "      <td>0.84</td>\n",
       "      <td>0.92</td>\n",
       "      <td>0.09</td>\n",
       "      <td>0.0</td>\n",
       "    </tr>\n",
       "  </tbody>\n",
       "</table>\n",
       "</div>"
      ],
      "text/plain": [
       "               ExpectedScore        ClickAgreement        TermAgreement  \\\n",
       "                        mean median           mean median          mean   \n",
       "NamedCondition                                                            \n",
       "ChoiceTutor            22.10  22.67           0.33   0.32          0.87   \n",
       "Control                14.57  11.46           0.16   0.12          0.89   \n",
       "DummyTutor             15.87  14.11           0.26   0.25          0.84   \n",
       "\n",
       "                      RepeatAgreement         \n",
       "               median            mean median  \n",
       "NamedCondition                                \n",
       "ChoiceTutor      0.94            0.18    0.0  \n",
       "Control          0.93            0.08    0.0  \n",
       "DummyTutor       0.92            0.09    0.0  "
      ]
     },
     "execution_count": 9,
     "metadata": {},
     "output_type": "execute_result"
    }
   ],
   "source": [
    "df_after_exclusion.groupby([\"NamedCondition\"]).agg([\"mean\", \"median\"])[[\"ExpectedScore\", \"ClickAgreement\", \"TermAgreement\", \"RepeatAgreement\"]].round(2)"
   ]
  },
  {
   "cell_type": "code",
   "execution_count": null,
   "metadata": {},
   "outputs": [],
   "source": []
  }
 ],
 "metadata": {
  "interpreter": {
   "hash": "a60773b366b4107a5de44e67768ecd05b214497884eb609fc0ec34cfa78eb300"
  },
  "kernelspec": {
   "display_name": "Python 3.8.10 ('cogtut')",
   "language": "python",
   "name": "python3"
  },
  "language_info": {
   "codemirror_mode": {
    "name": "ipython",
    "version": 3
   },
   "file_extension": ".py",
   "mimetype": "text/x-python",
   "name": "python",
   "nbconvert_exporter": "python",
   "pygments_lexer": "ipython3",
   "version": "3.8.10"
  },
  "orig_nbformat": 2
 },
 "nbformat": 4,
 "nbformat_minor": 2
}
